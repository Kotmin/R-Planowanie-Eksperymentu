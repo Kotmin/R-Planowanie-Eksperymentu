{
 "cells": [
  {
   "cell_type": "markdown",
   "id": "52ea554a-2168-44dd-b236-93f49da4711e",
   "metadata": {},
   "source": [
    "## Zadanie 1\n",
    "Liczba strzelonych bramek w kolejnych meczach przez pewną drużynę\n",
    "piłkarską jest następująca:\n",
    "\n",
    "---\n",
    "\n",
    "2, 3, 0, 0, 1, 3, 1, 0, 2, 0, 1, 1, 1, 0, 3, 2, 0, 2, 0, 1, 1, 2, 0, 3, 1, 1,\n",
    "0, 1, 0, 2, 4, 1, 0, 0, 1, 2, 0, 1, 1, 0, 1, 0, 2\n",
    "\n",
    "---\n",
    "\n",
    "Zbadać, czy ilość zdobytych goli w meczu jest zgodna z rozkładem\n",
    "Poissona. Parametry rozkładu oszacować na podstawie danych.\n",
    "\n",
    "\n",
    "### Hipotezy statystyczne:\n",
    "- **H₀ (hipoteza zerowa):** rozkład liczby goli jest zgodny z rozkładem Poissona.\n",
    "- **H₁ (hipoteza alternatywna):** rozkład liczby goli nie jest zgodny z rozkładem Poissona.\n"
   ]
  },
  {
   "cell_type": "code",
   "execution_count": 1,
   "id": "fb846f13-e025-409a-b0e2-fd024914ddce",
   "metadata": {},
   "outputs": [],
   "source": [
    "gole <- c(2, 3, 0, 0, 1, 3, 1, 0, 2, 0, 1, 1, 1, 0, 3, 2, 0, 2, 0, 1, 1, 2, 0, 3,\n",
    "          1, 1, 0, 1, 0, 2, 4, 1, 0, 0, 1, 2, 0, 1, 1, 0, 1, 0, 2)"
   ]
  },
  {
   "cell_type": "code",
   "execution_count": 2,
   "id": "b512420e-6209-469b-9ab6-693e9b77aab3",
   "metadata": {},
   "outputs": [],
   "source": [
    "n <- length(gole)"
   ]
  },
  {
   "cell_type": "code",
   "execution_count": 3,
   "id": "21af7f8b-f563-49f3-96b0-aecdc222357f",
   "metadata": {},
   "outputs": [
    {
     "data": {
      "text/html": [
       "43"
      ],
      "text/latex": [
       "43"
      ],
      "text/markdown": [
       "43"
      ],
      "text/plain": [
       "[1] 43"
      ]
     },
     "metadata": {},
     "output_type": "display_data"
    }
   ],
   "source": [
    "n"
   ]
  },
  {
   "cell_type": "code",
   "execution_count": 4,
   "id": "c01ee532-b1b9-4423-af38-c1a040de0152",
   "metadata": {},
   "outputs": [],
   "source": [
    "# Oszacowanie parametru λ dla rozkładu Poissona\n",
    "lambda_hat <- mean(gole)"
   ]
  },
  {
   "cell_type": "code",
   "execution_count": 5,
   "id": "3a44bb06-625d-4db2-a84b-ec9d1a9b8550",
   "metadata": {},
   "outputs": [
    {
     "data": {
      "text/html": [
       "1.09302325581395"
      ],
      "text/latex": [
       "1.09302325581395"
      ],
      "text/markdown": [
       "1.09302325581395"
      ],
      "text/plain": [
       "[1] 1.093023"
      ]
     },
     "metadata": {},
     "output_type": "display_data"
    }
   ],
   "source": [
    "lambda_hat"
   ]
  },
  {
   "cell_type": "code",
   "execution_count": 6,
   "id": "19b218eb-86c0-4313-b178-bc0490b0ec28",
   "metadata": {},
   "outputs": [
    {
     "data": {
      "text/plain": [
       "gole\n",
       " 0  1  2  3  4 \n",
       "15 15  8  4  1 "
      ]
     },
     "metadata": {},
     "output_type": "display_data"
    }
   ],
   "source": [
    "## Dane empiryczne\n",
    "### Ile razy występuje dana liczba goli\n",
    "obs <- table(gole)\n",
    "obs"
   ]
  },
  {
   "cell_type": "code",
   "execution_count": 7,
   "id": "69d3d20e-171d-4b67-9793-c6b05de2fa0e",
   "metadata": {},
   "outputs": [],
   "source": [
    "k <- 0:max(gole)"
   ]
  },
  {
   "cell_type": "code",
   "execution_count": 8,
   "id": "f8c49c5d-4a94-47ec-bf34-d5c5e57dcc78",
   "metadata": {},
   "outputs": [
    {
     "data": {
      "text/html": [
       "<style>\n",
       ".list-inline {list-style: none; margin:0; padding: 0}\n",
       ".list-inline>li {display: inline-block}\n",
       ".list-inline>li:not(:last-child)::after {content: \"\\00b7\"; padding: 0 .5ex}\n",
       "</style>\n",
       "<ol class=list-inline><li>0</li><li>1</li><li>2</li><li>3</li><li>4</li></ol>\n"
      ],
      "text/latex": [
       "\\begin{enumerate*}\n",
       "\\item 0\n",
       "\\item 1\n",
       "\\item 2\n",
       "\\item 3\n",
       "\\item 4\n",
       "\\end{enumerate*}\n"
      ],
      "text/markdown": [
       "1. 0\n",
       "2. 1\n",
       "3. 2\n",
       "4. 3\n",
       "5. 4\n",
       "\n",
       "\n"
      ],
      "text/plain": [
       "[1] 0 1 2 3 4"
      ]
     },
     "metadata": {},
     "output_type": "display_data"
    }
   ],
   "source": [
    "k"
   ]
  },
  {
   "cell_type": "code",
   "execution_count": 9,
   "id": "4c037f7d-7677-44a0-bd0a-8a81507437cd",
   "metadata": {},
   "outputs": [],
   "source": [
    "# Teoretyczne prawdopodobieństwa z rozkładu Poissona\n",
    "probs <- dpois(k, lambda_hat)"
   ]
  },
  {
   "cell_type": "code",
   "execution_count": 10,
   "id": "6d8c8f2a-44ee-4168-9363-b4372e784452",
   "metadata": {},
   "outputs": [
    {
     "data": {
      "text/html": [
       "<style>\n",
       ".list-inline {list-style: none; margin:0; padding: 0}\n",
       ".list-inline>li {display: inline-block}\n",
       ".list-inline>li:not(:last-child)::after {content: \"\\00b7\"; padding: 0 .5ex}\n",
       "</style>\n",
       "<ol class=list-inline><li>0.335201560212229</li><li>0.366383100697087</li><li>0.200232624799571</li><li>0.0729529718262003</li><li>0.0199348236966943</li></ol>\n"
      ],
      "text/latex": [
       "\\begin{enumerate*}\n",
       "\\item 0.335201560212229\n",
       "\\item 0.366383100697087\n",
       "\\item 0.200232624799571\n",
       "\\item 0.0729529718262003\n",
       "\\item 0.0199348236966943\n",
       "\\end{enumerate*}\n"
      ],
      "text/markdown": [
       "1. 0.335201560212229\n",
       "2. 0.366383100697087\n",
       "3. 0.200232624799571\n",
       "4. 0.0729529718262003\n",
       "5. 0.0199348236966943\n",
       "\n",
       "\n"
      ],
      "text/plain": [
       "[1] 0.33520156 0.36638310 0.20023262 0.07295297 0.01993482"
      ]
     },
     "metadata": {},
     "output_type": "display_data"
    }
   ],
   "source": [
    "probs"
   ]
  },
  {
   "cell_type": "code",
   "execution_count": 11,
   "id": "7e392c5f-3912-4878-9429-165ac9c508c9",
   "metadata": {},
   "outputs": [
    {
     "data": {
      "text/html": [
       "<style>\n",
       ".dl-inline {width: auto; margin:0; padding: 0}\n",
       ".dl-inline>dt, .dl-inline>dd {float: none; width: auto; display: inline-block}\n",
       ".dl-inline>dt::after {content: \":\\0020\"; padding-right: .5ex}\n",
       ".dl-inline>dt:not(:first-of-type) {padding-left: .5ex}\n",
       "</style><dl class=dl-inline><dt>0</dt><dd>14.4136670891258</dd><dt>1</dt><dd>15.7544733299748</dd><dt>2</dt><dd>8.61000286638155</dd><dt>3</dt><dd>3.13697778852661</dd><dt>4</dt><dd>0.857197418957853</dd></dl>\n"
      ],
      "text/latex": [
       "\\begin{description*}\n",
       "\\item[0] 14.4136670891258\n",
       "\\item[1] 15.7544733299748\n",
       "\\item[2] 8.61000286638155\n",
       "\\item[3] 3.13697778852661\n",
       "\\item[4] 0.857197418957853\n",
       "\\end{description*}\n"
      ],
      "text/markdown": [
       "0\n",
       ":   14.41366708912581\n",
       ":   15.75447332997482\n",
       ":   8.610002866381553\n",
       ":   3.136977788526614\n",
       ":   0.857197418957853\n",
       "\n"
      ],
      "text/plain": [
       "         0          1          2          3          4 \n",
       "14.4136671 15.7544733  8.6100029  3.1369778  0.8571974 "
      ]
     },
     "metadata": {},
     "output_type": "display_data"
    }
   ],
   "source": [
    "# Oczekiwane liczności\n",
    "exp <- probs * n\n",
    "names(exp) <- k\n",
    "\n",
    "exp"
   ]
  },
  {
   "cell_type": "code",
   "execution_count": 12,
   "id": "7458c3f3-166b-4972-a71a-48a3b09fa669",
   "metadata": {},
   "outputs": [],
   "source": [
    "## Wizualizacja\n",
    "df <- data.frame(\n",
    "  gole = factor(names(obs), levels = as.character(0:max(gole))),\n",
    "  obserwowane = as.numeric(obs),\n",
    "  oczekiwane = as.numeric(exp)\n",
    ")"
   ]
  },
  {
   "cell_type": "code",
   "execution_count": 13,
   "id": "f193a533-45a7-4bcc-b87f-b9a2be1879bc",
   "metadata": {},
   "outputs": [],
   "source": [
    "# Załadowanie biblioteki\n",
    "library(ggplot2)"
   ]
  },
  {
   "cell_type": "code",
   "execution_count": 14,
   "id": "f7c83ef0-4229-4c9b-a369-59db2ebbbc1e",
   "metadata": {},
   "outputs": [
    {
     "data": {
      "image/png": "[encoded data removed]",
      "text/plain": [
       "plot without title"
      ]
     },
     "metadata": {
      "image/png": {
       "height": 420,
       "width": 420
      }
     },
     "output_type": "display_data"
    }
   ],
   "source": [
    "ggplot(df, aes(x = gole)) +\n",
    "  geom_bar(aes(y = obserwowane), stat = \"identity\", fill = \"skyblue\", width = 0.4, position = position_nudge(x = -0.2)) +\n",
    "  geom_bar(aes(y = oczekiwane), stat = \"identity\", fill = \"orange\", width = 0.4, position = position_nudge(x = 0.2)) +\n",
    "  labs(\n",
    "    title = \"Rozkład liczby goli: obserwowany vs teoretyczny (Poisson)\",\n",
    "    x = \"Liczba goli w meczu\",\n",
    "    y = \"Liczność\"\n",
    "  ) +\n",
    "  theme_minimal()"
   ]
  },
  {
   "cell_type": "code",
   "execution_count": 20,
   "id": "516f649a-ca8f-4abc-a2f4-8859b370d9b1",
   "metadata": {},
   "outputs": [
    {
     "data": {
      "image/png": "[encoded data removed]",
      "text/plain": [
       "plot without title"
      ]
     },
     "metadata": {
      "image/png": {
       "height": 420,
       "width": 420
      }
     },
     "output_type": "display_data"
    }
   ],
   "source": [
    "gole_kategorie <- as.character(0:max(gole))\n",
    "\n",
    "obserwowane <- as.numeric(table(factor(gole, levels = 0:max(gole))))\n",
    "oczekiwane <- exp\n",
    "\n",
    "df_obserw <- data.frame(gole = gole_kategorie, liczność = obserwowane, typ = \"Obserwowane\")\n",
    "df_oczek <- data.frame(gole = gole_kategorie, liczność = oczekiwane, typ = \"Oczekiwane\")\n",
    "df_final <- rbind(df_obserw, df_oczek)\n",
    "\n",
    "ggplot(df_final, aes(x = gole, y = liczność, fill = typ)) +\n",
    "  geom_bar(stat = \"identity\", position = position_dodge(width = 0.7), width = 0.6) +\n",
    "  scale_fill_manual(values = c(\"Obserwowane\" = \"skyblue\", \"Oczekiwane\" = \"orange\")) +\n",
    "  labs(\n",
    "    title = \"Rozkład liczby goli: obserwowany vs teoretyczny (Poisson)\",\n",
    "    x = \"Liczba goli\",\n",
    "    y = \"Liczność\",\n",
    "    fill = \"Typ\"\n",
    "  ) +\n",
    "  theme_minimal()"
   ]
  },
  {
   "cell_type": "code",
   "execution_count": null,
   "id": "24a98da7-0c97-4871-a250-6e9ba0f0f971",
   "metadata": {},
   "outputs": [],
   "source": [
    "## Teraz powinniśmy przeprowadzić test zgodności"
   ]
  },
  {
   "cell_type": "code",
   "execution_count": 21,
   "id": "820860a8-79e3-4555-98b9-e93d8c4a65a2",
   "metadata": {
    "scrolled": true
   },
   "outputs": [
    {
     "data": {
      "text/html": [
       "<style>\n",
       ".dl-inline {width: auto; margin:0; padding: 0}\n",
       ".dl-inline>dt, .dl-inline>dd {float: none; width: auto; display: inline-block}\n",
       ".dl-inline>dt::after {content: \":\\0020\"; padding-right: .5ex}\n",
       ".dl-inline>dt:not(:first-of-type) {padding-left: .5ex}\n",
       "</style><dl class=dl-inline><dt>0</dt><dd>14.4136670891258</dd><dt>1</dt><dd>15.7544733299748</dd><dt>2</dt><dd>8.61000286638155</dd><dt>3</dt><dd>3.13697778852661</dd><dt>4</dt><dd>0.857197418957853</dd></dl>\n"
      ],
      "text/latex": [
       "\\begin{description*}\n",
       "\\item[0] 14.4136670891258\n",
       "\\item[1] 15.7544733299748\n",
       "\\item[2] 8.61000286638155\n",
       "\\item[3] 3.13697778852661\n",
       "\\item[4] 0.857197418957853\n",
       "\\end{description*}\n"
      ],
      "text/markdown": [
       "0\n",
       ":   14.41366708912581\n",
       ":   15.75447332997482\n",
       ":   8.610002866381553\n",
       ":   3.136977788526614\n",
       ":   0.857197418957853\n",
       "\n"
      ],
      "text/plain": [
       "         0          1          2          3          4 \n",
       "14.4136671 15.7544733  8.6100029  3.1369778  0.8571974 "
      ]
     },
     "metadata": {},
     "output_type": "display_data"
    },
    {
     "data": {
      "text/html": [
       "1"
      ],
      "text/latex": [
       "1"
      ],
      "text/markdown": [
       "1"
      ],
      "text/plain": [
       "[1] 1"
      ]
     },
     "metadata": {},
     "output_type": "display_data"
    },
    {
     "data": {
      "text/html": [
       "0.4"
      ],
      "text/latex": [
       "0.4"
      ],
      "text/markdown": [
       "0.4"
      ],
      "text/plain": [
       "[1] 0.4"
      ]
     },
     "metadata": {},
     "output_type": "display_data"
    }
   ],
   "source": [
    "# Oczekiwane liczności\n",
    "oczekiwane\n",
    "\n",
    "# Warunki:\n",
    "sum(oczekiwane < 1)               # ile klas ma < 1\n",
    "sum(oczekiwane < 5) / length(oczekiwane)  # jaki % ma < 5"
   ]
  },
  {
   "cell_type": "code",
   "execution_count": 22,
   "id": "99e290d6-10f4-456a-bc77-c1d71d0be85a",
   "metadata": {},
   "outputs": [
    {
     "data": {
      "text/plain": [
       "gole\n",
       " 0  1  2  3  4 \n",
       "15 15  8  4  1 "
      ]
     },
     "metadata": {},
     "output_type": "display_data"
    }
   ],
   "source": [
    "# bazując na tych danych dobrze by było połączyć 3 i 4\n",
    "obs"
   ]
  },
  {
   "cell_type": "code",
   "execution_count": 23,
   "id": "b71c53b6-88c5-4d11-be3a-ec3f426a75a3",
   "metadata": {},
   "outputs": [],
   "source": [
    "obs[\"3+\"] <- sum(obs[\"3\"], obs[\"4\"])\n",
    "obs <- obs[c(\"0\", \"1\", \"2\", \"3+\")]"
   ]
  },
  {
   "cell_type": "code",
   "execution_count": 24,
   "id": "55d7ef46-1915-4913-9efd-910257d8ecf2",
   "metadata": {},
   "outputs": [
    {
     "data": {
      "text/plain": [
       " 0  1  2 3+ \n",
       "15 15  8  5 "
      ]
     },
     "metadata": {},
     "output_type": "display_data"
    }
   ],
   "source": [
    "obs"
   ]
  },
  {
   "cell_type": "code",
   "execution_count": 25,
   "id": "5f9ad6f3-2e84-4292-b73f-d89f42cbf23d",
   "metadata": {},
   "outputs": [
    {
     "data": {
      "text/html": [
       "<style>\n",
       ".dl-inline {width: auto; margin:0; padding: 0}\n",
       ".dl-inline>dt, .dl-inline>dd {float: none; width: auto; display: inline-block}\n",
       ".dl-inline>dt::after {content: \":\\0020\"; padding-right: .5ex}\n",
       ".dl-inline>dt:not(:first-of-type) {padding-left: .5ex}\n",
       "</style><dl class=dl-inline><dt>0</dt><dd>14.4136670891258</dd><dt>1</dt><dd>15.7544733299748</dd><dt>2</dt><dd>8.61000286638155</dd><dt>3</dt><dd>3.13697778852661</dd><dt>4</dt><dd>0.857197418957853</dd></dl>\n"
      ],
      "text/latex": [
       "\\begin{description*}\n",
       "\\item[0] 14.4136670891258\n",
       "\\item[1] 15.7544733299748\n",
       "\\item[2] 8.61000286638155\n",
       "\\item[3] 3.13697778852661\n",
       "\\item[4] 0.857197418957853\n",
       "\\end{description*}\n"
      ],
      "text/markdown": [
       "0\n",
       ":   14.41366708912581\n",
       ":   15.75447332997482\n",
       ":   8.610002866381553\n",
       ":   3.136977788526614\n",
       ":   0.857197418957853\n",
       "\n"
      ],
      "text/plain": [
       "         0          1          2          3          4 \n",
       "14.4136671 15.7544733  8.6100029  3.1369778  0.8571974 "
      ]
     },
     "metadata": {},
     "output_type": "display_data"
    }
   ],
   "source": [
    "oczekiwane"
   ]
  },
  {
   "cell_type": "code",
   "execution_count": 27,
   "id": "7dbdc927-d343-4c81-82b7-a96fd5749353",
   "metadata": {},
   "outputs": [],
   "source": [
    "oczekiwane[\"3+\"] <- sum(oczekiwane[4:5])"
   ]
  },
  {
   "cell_type": "code",
   "execution_count": 28,
   "id": "882fc0cd-d05e-450a-a1e2-3cc36a37a3de",
   "metadata": {},
   "outputs": [
    {
     "data": {
      "text/html": [
       "<style>\n",
       ".dl-inline {width: auto; margin:0; padding: 0}\n",
       ".dl-inline>dt, .dl-inline>dd {float: none; width: auto; display: inline-block}\n",
       ".dl-inline>dt::after {content: \":\\0020\"; padding-right: .5ex}\n",
       ".dl-inline>dt:not(:first-of-type) {padding-left: .5ex}\n",
       "</style><dl class=dl-inline><dt>0</dt><dd>14.4136670891258</dd><dt>1</dt><dd>15.7544733299748</dd><dt>2</dt><dd>8.61000286638155</dd><dt>3</dt><dd>3.13697778852661</dd><dt>4</dt><dd>0.857197418957853</dd><dt>3+</dt><dd>3.99417520748446</dd></dl>\n"
      ],
      "text/latex": [
       "\\begin{description*}\n",
       "\\item[0] 14.4136670891258\n",
       "\\item[1] 15.7544733299748\n",
       "\\item[2] 8.61000286638155\n",
       "\\item[3] 3.13697778852661\n",
       "\\item[4] 0.857197418957853\n",
       "\\item[3+] 3.99417520748446\n",
       "\\end{description*}\n"
      ],
      "text/markdown": [
       "0\n",
       ":   14.41366708912581\n",
       ":   15.75447332997482\n",
       ":   8.610002866381553\n",
       ":   3.136977788526614\n",
       ":   0.8571974189578533+\n",
       ":   3.99417520748446\n",
       "\n"
      ],
      "text/plain": [
       "         0          1          2          3          4         3+ \n",
       "14.4136671 15.7544733  8.6100029  3.1369778  0.8571974  3.9941752 "
      ]
     },
     "metadata": {},
     "output_type": "display_data"
    }
   ],
   "source": [
    "oczekiwane"
   ]
  },
  {
   "cell_type": "code",
   "execution_count": 29,
   "id": "8719c1a6-395e-4d9b-83bc-1b4e1c46bb8c",
   "metadata": {},
   "outputs": [],
   "source": [
    "oczekiwane <- oczekiwane[c(1:3, 6)]\n",
    "names(oczekiwane) <- names(obs)"
   ]
  },
  {
   "cell_type": "code",
   "execution_count": 30,
   "id": "4cdb807f-3c86-428d-b8be-06ebbd30d667",
   "metadata": {},
   "outputs": [
    {
     "data": {
      "text/html": [
       "<style>\n",
       ".dl-inline {width: auto; margin:0; padding: 0}\n",
       ".dl-inline>dt, .dl-inline>dd {float: none; width: auto; display: inline-block}\n",
       ".dl-inline>dt::after {content: \":\\0020\"; padding-right: .5ex}\n",
       ".dl-inline>dt:not(:first-of-type) {padding-left: .5ex}\n",
       "</style><dl class=dl-inline><dt>0</dt><dd>14.4136670891258</dd><dt>1</dt><dd>15.7544733299748</dd><dt>2</dt><dd>8.61000286638155</dd><dt>3+</dt><dd>3.99417520748446</dd></dl>\n"
      ],
      "text/latex": [
       "\\begin{description*}\n",
       "\\item[0] 14.4136670891258\n",
       "\\item[1] 15.7544733299748\n",
       "\\item[2] 8.61000286638155\n",
       "\\item[3+] 3.99417520748446\n",
       "\\end{description*}\n"
      ],
      "text/markdown": [
       "0\n",
       ":   14.41366708912581\n",
       ":   15.75447332997482\n",
       ":   8.610002866381553+\n",
       ":   3.99417520748446\n",
       "\n"
      ],
      "text/plain": [
       "        0         1         2        3+ \n",
       "14.413667 15.754473  8.610003  3.994175 "
      ]
     },
     "metadata": {},
     "output_type": "display_data"
    }
   ],
   "source": [
    "oczekiwane"
   ]
  },
  {
   "cell_type": "code",
   "execution_count": 31,
   "id": "0928fa62-b54e-4576-b129-35463e1eec62",
   "metadata": {},
   "outputs": [
    {
     "name": "stderr",
     "output_type": "stream",
     "text": [
      "Warning message in chisq.test(x = as.numeric(obs), p = oczekiwane/sum(oczekiwane), :\n",
      "“Chi-squared approximation may be incorrect”\n"
     ]
    }
   ],
   "source": [
    "test_chikwadrat <- chisq.test(\n",
    "  x = as.numeric(obs),\n",
    "  p = oczekiwane / sum(oczekiwane),\n",
    "  rescale.p = TRUE\n",
    ")"
   ]
  },
  {
   "cell_type": "code",
   "execution_count": 32,
   "id": "2e3fd170-a8e9-4515-a268-ec281a018288",
   "metadata": {},
   "outputs": [
    {
     "data": {
      "text/plain": [
       "\n",
       "\tChi-squared test for given probabilities\n",
       "\n",
       "data:  as.numeric(obs)\n",
       "X-squared = 0.3534, df = 3, p-value = 0.9497\n"
      ]
     },
     "metadata": {},
     "output_type": "display_data"
    }
   ],
   "source": [
    "test_chikwadrat"
   ]
  },
  {
   "cell_type": "code",
   "execution_count": 33,
   "id": "316c5322-94c4-4035-87d8-ccb4fb779ab6",
   "metadata": {},
   "outputs": [],
   "source": [
    "rozn_bezwzgl <-  abs(obs - oczekiwane)\n",
    "procent_dopasowanych <-mean(rozn_bezwzgl <= 1) * 100"
   ]
  },
  {
   "cell_type": "code",
   "execution_count": 34,
   "id": "366632d7-0b44-4b3d-83b7-440c56065d59",
   "metadata": {},
   "outputs": [
    {
     "name": "stdout",
     "output_type": "stream",
     "text": [
      "Dopasowanie (klas z różnicą ≤ 1): 75 %\n"
     ]
    }
   ],
   "source": [
    "cat(\"Dopasowanie (klas z różnicą ≤ 1):\", round(procent_dopasowanych, 1), \"%\\n\")"
   ]
  },
  {
   "cell_type": "markdown",
   "id": "a5e11ad9-06f6-4044-a4ec-4ef980f20442",
   "metadata": {},
   "source": [
    "\n",
    "### Hipotezy statystyczne:\n",
    "- **H₀ (hipoteza zerowa):** rozkład liczby goli jest zgodny z rozkładem Poissona.\n",
    "- **H₁ (hipoteza alternatywna):** rozkład liczby goli nie jest zgodny z rozkładem Poissona.\n",
    "\n",
    "**Wniosek:**\n",
    "Brak podstaw do odrzucenia hipotezy zerowej. p-value - bardzo duże / znacznie większe od 0.05.\n",
    "\n",
    "\n",
    "**Przemyślenia:**\n",
    "Być może dodatkowa weryfiakcja przy pomocy Monte Carlo?"
   ]
  },
  {
   "cell_type": "markdown",
   "id": "5111f5f1-5a95-4779-9733-614d3e818971",
   "metadata": {},
   "source": [
    "## Zadanie 2: Weryfikacja zgodności z rozkładem chi-kwadrat\n",
    "\n",
    "\n",
    "Na podstawie podanej próbki należy zweryfikować hipotezę, że cecha X ma rozkład chi-kwadrat.\n",
    "\n",
    "---\n",
    "\n",
    "1.0, 4.7, 5.2, 7.6, 2.9, 6.5, 4.3, 1.3, 1.6, 3.3, 0.5, 1.8, 15.4, 2.7, 9.6, 11.6, 23.2, 3.2, 3.4, 12.4, 19.5\n",
    "\n",
    "---\n",
    "\n",
    "### Część (a):\n",
    "- Wykonać test Kołmogorowa-Smirnowa dla zgodności z rozkładem chi-kwadrat.\n",
    "- Porównać dystrybuantę empiryczną z teoretyczną (na wykresie).\n",
    "\n",
    "### Część (b):\n",
    "- Porównać kwantyle empiryczne i teoretyczne za pomocą wykresu Q-Q.\n",
    "\n",
    "### Hipotezy statystyczne:\n",
    "- **H₀ (hipoteza zerowa):** próba pochodzi z rozkładu X^2.\n",
    "- **H₁ (hipoteza alternatywna):** próba nie pochodzi z rozkładu X^2\n"
   ]
  },
  {
   "cell_type": "code",
   "execution_count": 35,
   "id": "0407e5bf-db7f-475d-847e-2a5fdf5fec52",
   "metadata": {},
   "outputs": [],
   "source": [
    "x <- c(1.0, 4.7, 5.2, 7.6, 2.9, 6.5, 4.3, 1.3, 1.6, 3.3,\n",
    "       0.5, 1.8, 15.4, 2.7, 9.6, 11.6, 23.2, 3.2, 3.4, 12.4, 19.5)"
   ]
  },
  {
   "cell_type": "code",
   "execution_count": 36,
   "id": "01d86cca-e1d4-4359-8d18-e9f760a708c9",
   "metadata": {},
   "outputs": [],
   "source": [
    "n <- length(x)"
   ]
  },
  {
   "cell_type": "code",
   "execution_count": 37,
   "id": "0dade5ca-774e-42b1-98cc-849bbfee966a",
   "metadata": {},
   "outputs": [
    {
     "data": {
      "text/html": [
       "21"
      ],
      "text/latex": [
       "21"
      ],
      "text/markdown": [
       "21"
      ],
      "text/plain": [
       "[1] 21"
      ]
     },
     "metadata": {},
     "output_type": "display_data"
    }
   ],
   "source": [
    "n"
   ]
  },
  {
   "cell_type": "markdown",
   "id": "2a0a6773-412b-4746-a152-2f01ebbc3b73",
   "metadata": {},
   "source": [
    "### Z2.a test Kołmogorowa-Smirnowa dla zgodności z rozkładem chi-kwadrat"
   ]
  },
  {
   "cell_type": "code",
   "execution_count": 38,
   "id": "f28662a6-c408-446e-aff6-e14f740a9ddb",
   "metadata": {},
   "outputs": [],
   "source": [
    "## est stopni swobody\n",
    "df_hat <- mean(x)"
   ]
  },
  {
   "cell_type": "code",
   "execution_count": 39,
   "id": "43745957-aa7c-4ee2-b514-ac10f1af3e29",
   "metadata": {},
   "outputs": [
    {
     "data": {
      "text/html": [
       "6.74761904761905"
      ],
      "text/latex": [
       "6.74761904761905"
      ],
      "text/markdown": [
       "6.74761904761905"
      ],
      "text/plain": [
       "[1] 6.747619"
      ]
     },
     "metadata": {},
     "output_type": "display_data"
    }
   ],
   "source": [
    "df_hat"
   ]
  },
  {
   "cell_type": "code",
   "execution_count": 40,
   "id": "bff82029-0f05-4aa1-8673-38705409aefc",
   "metadata": {},
   "outputs": [
    {
     "data": {
      "text/plain": [
       "\n",
       "\tExact one-sample Kolmogorov-Smirnov test\n",
       "\n",
       "data:  x\n",
       "D = 0.30233, p-value = 0.03367\n",
       "alternative hypothesis: two-sided\n"
      ]
     },
     "metadata": {},
     "output_type": "display_data"
    }
   ],
   "source": [
    "ks.test(x, \"pchisq\", df = df_hat)\n"
   ]
  },
  {
   "cell_type": "code",
   "execution_count": 41,
   "id": "d33b3245-cc51-400d-8eee-73a19a08c584",
   "metadata": {},
   "outputs": [
    {
     "data": {
      "image/png": "[encoded data removed]",
      "text/plain": [
       "Plot with title “Dystrybuanta empiryczna vs teoretyczna”"
      ]
     },
     "metadata": {
      "image/png": {
       "height": 420,
       "width": 420
      }
     },
     "output_type": "display_data"
    }
   ],
   "source": [
    "\n",
    "dystr_empiryczna <- ecdf(x)\n",
    "\n",
    "# Zakres wartości\n",
    "x_wykres <- seq(min(x), max(x), length.out = 200)\n",
    "\n",
    "# Rysowanie wykresu\n",
    "plot(dystr_empiryczna, verticals = TRUE, do.points = FALSE,\n",
    "     main = \"Dystrybuanta empiryczna vs teoretyczna\",\n",
    "     xlab = \"Wartości cechy X\", ylab = \"Prawdopodobieństwo skumulowane\")\n",
    "\n",
    "# Teoretyczna dystrybuanta chi-kwadrat\n",
    "lines(x_wykres, pchisq(x_wykres, df = df_hat),\n",
    "      col = \"red\", lwd = 2)\n",
    "\n",
    "legend(\"bottomright\", legend = c(\"Empiryczna\", \"Teoretyczna χ²\"),\n",
    "       col = c(\"black\", \"red\"), lwd = c(1, 2))"
   ]
  },
  {
   "cell_type": "code",
   "execution_count": 42,
   "id": "b19fb3b7-ba2a-4701-acee-38f78018b052",
   "metadata": {},
   "outputs": [],
   "source": [
    "### Wnioski część (a)\n",
    "Przy załozeniu progu istotności p-value == 0.05.\n",
    "Test Kołmogorowa–Smirnowa wykazał p-wartość 0.033, co oznacza, że istnieją statystyczne podstawy do odrzucenia hipotezy zgodności z rozkładem chi-kwadrat"
   ]
  },
  {
   "cell_type": "markdown",
   "id": "78361b93-2761-4f6b-92e2-7febaf7f447c",
   "metadata": {},
   "source": [
    "### Z2.b wykres kwantylowy (Q–Q plot)"
   ]
  },
  {
   "cell_type": "code",
   "execution_count": 43,
   "id": "987c9c7b-55d8-42f5-a8e0-ef24e7030999",
   "metadata": {},
   "outputs": [],
   "source": [
    "# asc sort (kwantyle empiryczne)\n",
    "x_empiryczne <- sort(x)\n",
    "\n",
    "# # Kwantyle teoretyczne (z rozkładu chi-kwadrat o df_hat)\n",
    "kwantyle_teoretyczne <- qchisq(ppoints(n), df = df_hat)"
   ]
  },
  {
   "cell_type": "code",
   "execution_count": 45,
   "id": "410161f9-f2ac-41ee-b3ad-7c274212232d",
   "metadata": {},
   "outputs": [
    {
     "data": {
      "text/html": [
       "<style>\n",
       ".list-inline {list-style: none; margin:0; padding: 0}\n",
       ".list-inline>li {display: inline-block}\n",
       ".list-inline>li:not(:last-child)::after {content: \"\\00b7\"; padding: 0 .5ex}\n",
       "</style>\n",
       "<ol class=list-inline><li>0.5</li><li>1</li><li>1.3</li><li>1.6</li><li>1.8</li><li>2.7</li><li>2.9</li><li>3.2</li><li>3.3</li><li>3.4</li><li>4.3</li><li>4.7</li><li>5.2</li><li>6.5</li><li>7.6</li><li>9.6</li><li>11.6</li><li>12.4</li><li>15.4</li><li>19.5</li><li>23.2</li></ol>\n"
      ],
      "text/latex": [
       "\\begin{enumerate*}\n",
       "\\item 0.5\n",
       "\\item 1\n",
       "\\item 1.3\n",
       "\\item 1.6\n",
       "\\item 1.8\n",
       "\\item 2.7\n",
       "\\item 2.9\n",
       "\\item 3.2\n",
       "\\item 3.3\n",
       "\\item 3.4\n",
       "\\item 4.3\n",
       "\\item 4.7\n",
       "\\item 5.2\n",
       "\\item 6.5\n",
       "\\item 7.6\n",
       "\\item 9.6\n",
       "\\item 11.6\n",
       "\\item 12.4\n",
       "\\item 15.4\n",
       "\\item 19.5\n",
       "\\item 23.2\n",
       "\\end{enumerate*}\n"
      ],
      "text/markdown": [
       "1. 0.5\n",
       "2. 1\n",
       "3. 1.3\n",
       "4. 1.6\n",
       "5. 1.8\n",
       "6. 2.7\n",
       "7. 2.9\n",
       "8. 3.2\n",
       "9. 3.3\n",
       "10. 3.4\n",
       "11. 4.3\n",
       "12. 4.7\n",
       "13. 5.2\n",
       "14. 6.5\n",
       "15. 7.6\n",
       "16. 9.6\n",
       "17. 11.6\n",
       "18. 12.4\n",
       "19. 15.4\n",
       "20. 19.5\n",
       "21. 23.2\n",
       "\n",
       "\n"
      ],
      "text/plain": [
       " [1]  0.5  1.0  1.3  1.6  1.8  2.7  2.9  3.2  3.3  3.4  4.3  4.7  5.2  6.5  7.6\n",
       "[16]  9.6 11.6 12.4 15.4 19.5 23.2"
      ]
     },
     "metadata": {},
     "output_type": "display_data"
    }
   ],
   "source": [
    "x_empiryczne"
   ]
  },
  {
   "cell_type": "code",
   "execution_count": 44,
   "id": "f8d7d3db-0a06-45a6-a447-59e3f39e0bfb",
   "metadata": {},
   "outputs": [
    {
     "data": {
      "text/html": [
       "<style>\n",
       ".list-inline {list-style: none; margin:0; padding: 0}\n",
       ".list-inline>li {display: inline-block}\n",
       ".list-inline>li:not(:last-child)::after {content: \"\\00b7\"; padding: 0 .5ex}\n",
       "</style>\n",
       "<ol class=list-inline><li>1.54462427051942</li><li>2.33096538125728</li><li>2.8749947773806</li><li>3.33476934436616</li><li>3.75295516614992</li><li>4.14883460199186</li><li>4.53353548070311</li><li>4.91466785143739</li><li>5.29822204351978</li><li>5.68954011714865</li><li>6.09394293137503</li><li>6.51725995266972</li><li>6.96641529373264</li><li>7.45022947387703</li><li>7.98069095298224</li><li>8.57521220448477</li><li>9.26108836834429</li><li>10.0855238579207</li><li>11.1426621231644</li><li>12.6717197778583</li><li>15.755016482405</li></ol>\n"
      ],
      "text/latex": [
       "\\begin{enumerate*}\n",
       "\\item 1.54462427051942\n",
       "\\item 2.33096538125728\n",
       "\\item 2.8749947773806\n",
       "\\item 3.33476934436616\n",
       "\\item 3.75295516614992\n",
       "\\item 4.14883460199186\n",
       "\\item 4.53353548070311\n",
       "\\item 4.91466785143739\n",
       "\\item 5.29822204351978\n",
       "\\item 5.68954011714865\n",
       "\\item 6.09394293137503\n",
       "\\item 6.51725995266972\n",
       "\\item 6.96641529373264\n",
       "\\item 7.45022947387703\n",
       "\\item 7.98069095298224\n",
       "\\item 8.57521220448477\n",
       "\\item 9.26108836834429\n",
       "\\item 10.0855238579207\n",
       "\\item 11.1426621231644\n",
       "\\item 12.6717197778583\n",
       "\\item 15.755016482405\n",
       "\\end{enumerate*}\n"
      ],
      "text/markdown": [
       "1. 1.54462427051942\n",
       "2. 2.33096538125728\n",
       "3. 2.8749947773806\n",
       "4. 3.33476934436616\n",
       "5. 3.75295516614992\n",
       "6. 4.14883460199186\n",
       "7. 4.53353548070311\n",
       "8. 4.91466785143739\n",
       "9. 5.29822204351978\n",
       "10. 5.68954011714865\n",
       "11. 6.09394293137503\n",
       "12. 6.51725995266972\n",
       "13. 6.96641529373264\n",
       "14. 7.45022947387703\n",
       "15. 7.98069095298224\n",
       "16. 8.57521220448477\n",
       "17. 9.26108836834429\n",
       "18. 10.0855238579207\n",
       "19. 11.1426621231644\n",
       "20. 12.6717197778583\n",
       "21. 15.755016482405\n",
       "\n",
       "\n"
      ],
      "text/plain": [
       " [1]  1.544624  2.330965  2.874995  3.334769  3.752955  4.148835  4.533535\n",
       " [8]  4.914668  5.298222  5.689540  6.093943  6.517260  6.966415  7.450229\n",
       "[15]  7.980691  8.575212  9.261088 10.085524 11.142662 12.671720 15.755016"
      ]
     },
     "metadata": {},
     "output_type": "display_data"
    }
   ],
   "source": [
    "kwantyle_teoretyczne"
   ]
  },
  {
   "cell_type": "code",
   "execution_count": 46,
   "id": "9a2510c2-798a-42e0-924e-8c4557023d03",
   "metadata": {},
   "outputs": [
    {
     "data": {
      "image/png": "[encoded data removed]",
      "text/plain": [
       "Plot with title “Wykres Q–Q: empiryczne vs chi-kwadrat”"
      ]
     },
     "metadata": {
      "image/png": {
       "height": 420,
       "width": 420
      }
     },
     "output_type": "display_data"
    }
   ],
   "source": [
    "# Wykres Q-Q\n",
    "qqplot(kwantyle_teoretyczne, x_empiryczne,\n",
    "       main = \"Wykres Q–Q: empiryczne vs chi-kwadrat\",\n",
    "       xlab = \"Kwantyle teoretyczne (χ²)\", ylab = \"Kwantyle empiryczne\",\n",
    "       pch = 19, col = \"blue\")\n",
    "\n",
    "abline(0, 1, col = \"red\", lwd = 2)"
   ]
  },
  {
   "cell_type": "code",
   "execution_count": null,
   "id": "181243cf-bf4f-4a03-abb3-687110deb52e",
   "metadata": {},
   "outputs": [],
   "source": [
    "### Z2.b Wnioski\n",
    "Punkty znacząco odbiegają od linii idealnego dopasowania. Największe rozbieżoności występują w górnych kwantylach\n",
    "Wykres Q-Q wspiera wynik testu KS z punktu a."
   ]
  },
  {
   "cell_type": "code",
   "execution_count": null,
   "id": "3e4e7ffe-2f0c-4b81-9fc0-b8f85a4b9b74",
   "metadata": {},
   "outputs": [],
   "source": []
  }
 ],
 "metadata": {
  "kernelspec": {
   "display_name": "R",
   "language": "R",
   "name": "ir"
  },
  "language_info": {
   "codemirror_mode": "r",
   "file_extension": ".r",
   "mimetype": "text/x-r-source",
   "name": "R",
   "pygments_lexer": "r",
   "version": "4.5.0"
  }
 },
 "nbformat": 4,
 "nbformat_minor": 5
}
