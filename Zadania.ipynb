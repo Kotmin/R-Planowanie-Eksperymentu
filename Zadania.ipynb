{
 "cells": [
  {
   "cell_type": "markdown",
   "id": "bd7a7480-0ee4-48c5-a661-a456babe21da",
   "metadata": {},
   "source": [
    "# Realizacja część 1\n",
    "** Przygotował:**\n",
    "Paweł Jan Tłusty\n",
    "\n",
    "IDE: jupyter studio + IRKernel\n",
    "\n",
    "Export do pdf: pandoc\n",
    "\n",
    "```bash\n",
    "sudo apt-get install texlive texlive-latex-extra pandoc texlive-xetex\n",
    "```\n",
    "** Wersja online:**\n",
    "Notes dostępny również w serwisie GitHub (niektóre wykresy niewłaściwie dzedziczą style, zaleca zaleca się jasny motyw lub otwieranie poszczególnych wykresów jako obraz w nowej karcie)\n",
    "\n",
    "\n",
    "W związku z konwertowaniem notatnika jpt do innych formatów miejscami może zdarzyć się błędne kodowanie znaków specjalnych, w niniejszym dokumencie zakładamy, że wspominajac o **braku podstaw do odrzucenia hipotezy** ..., przyjmujemy domyślnie, że mówimy o hipotezie zerowej.\n"
   ]
  },
  {
   "cell_type": "markdown",
   "id": "52ea554a-2168-44dd-b236-93f49da4711e",
   "metadata": {},
   "source": [
    "\n",
    "## Zadanie 1\n",
    "Liczba strzelonych bramek w kolejnych meczach przez pewną drużynę\n",
    "piłkarską jest następująca:\n",
    "\n",
    "---\n",
    "\n",
    "2, 3, 0, 0, 1, 3, 1, 0, 2, 0, 1, 1, 1, 0, 3, 2, 0, 2, 0, 1, 1, 2, 0, 3, 1, 1,\n",
    "0, 1, 0, 2, 4, 1, 0, 0, 1, 2, 0, 1, 1, 0, 1, 0, 2\n",
    "\n",
    "---\n",
    "\n",
    "Zbadać, czy ilość zdobytych goli w meczu jest zgodna z rozkładem\n",
    "Poissona. Parametry rozkładu oszacować na podstawie danych.\n",
    "\n",
    "\n",
    "### Hipotezy statystyczne:\n",
    "- **H₀ (hipoteza zerowa):** rozkład liczby goli jest zgodny z rozkładem Poissona.\n",
    "- **H₁ (hipoteza alternatywna):** rozkład liczby goli nie jest zgodny z rozkładem Poissona.\n"
   ]
  },
  {
   "cell_type": "code",
   "execution_count": 1,
   "id": "fb846f13-e025-409a-b0e2-fd024914ddce",
   "metadata": {},
   "outputs": [],
   "source": [
    "gole <- c(2, 3, 0, 0, 1, 3, 1, 0, 2, 0, 1, 1, 1, 0, 3, 2, 0, 2, 0, 1, 1, 2, 0, 3,\n",
    "          1, 1, 0, 1, 0, 2, 4, 1, 0, 0, 1, 2, 0, 1, 1, 0, 1, 0, 2)"
   ]
  },
  {
   "cell_type": "code",
   "execution_count": 2,
   "id": "b512420e-6209-469b-9ab6-693e9b77aab3",
   "metadata": {},
   "outputs": [],
   "source": [
    "n <- length(gole)"
   ]
  },
  {
   "cell_type": "code",
   "execution_count": 3,
   "id": "21af7f8b-f563-49f3-96b0-aecdc222357f",
   "metadata": {},
   "outputs": [
    {
     "data": {
      "text/html": [
       "43"
      ],
      "text/latex": [
       "43"
      ],
      "text/markdown": [
       "43"
      ],
      "text/plain": [
       "[1] 43"
      ]
     },
     "metadata": {},
     "output_type": "display_data"
    }
   ],
   "source": [
    "n"
   ]
  },
  {
   "cell_type": "code",
   "execution_count": 4,
   "id": "c01ee532-b1b9-4423-af38-c1a040de0152",
   "metadata": {},
   "outputs": [],
   "source": [
    "# Oszacowanie parametru λ dla rozkładu Poissona\n",
    "lambda_hat <- mean(gole)"
   ]
  },
  {
   "cell_type": "code",
   "execution_count": 5,
   "id": "3a44bb06-625d-4db2-a84b-ec9d1a9b8550",
   "metadata": {},
   "outputs": [
    {
     "data": {
      "text/html": [
       "1.09302325581395"
      ],
      "text/latex": [
       "1.09302325581395"
      ],
      "text/markdown": [
       "1.09302325581395"
      ],
      "text/plain": [
       "[1] 1.093023"
      ]
     },
     "metadata": {},
     "output_type": "display_data"
    }
   ],
   "source": [
    "lambda_hat"
   ]
  },
  {
   "cell_type": "code",
   "execution_count": 6,
   "id": "19b218eb-86c0-4313-b178-bc0490b0ec28",
   "metadata": {},
   "outputs": [
    {
     "data": {
      "text/plain": [
       "gole\n",
       " 0  1  2  3  4 \n",
       "15 15  8  4  1 "
      ]
     },
     "metadata": {},
     "output_type": "display_data"
    }
   ],
   "source": [
    "## Dane empiryczne\n",
    "### Ile razy występuje dana liczba goli\n",
    "obs <- table(gole)\n",
    "obs"
   ]
  },
  {
   "cell_type": "code",
   "execution_count": 7,
   "id": "69d3d20e-171d-4b67-9793-c6b05de2fa0e",
   "metadata": {},
   "outputs": [],
   "source": [
    "k <- 0:max(gole)"
   ]
  },
  {
   "cell_type": "code",
   "execution_count": 8,
   "id": "f8c49c5d-4a94-47ec-bf34-d5c5e57dcc78",
   "metadata": {},
   "outputs": [
    {
     "data": {
      "text/html": [
       "<style>\n",
       ".list-inline {list-style: none; margin:0; padding: 0}\n",
       ".list-inline>li {display: inline-block}\n",
       ".list-inline>li:not(:last-child)::after {content: \"\\00b7\"; padding: 0 .5ex}\n",
       "</style>\n",
       "<ol class=list-inline><li>0</li><li>1</li><li>2</li><li>3</li><li>4</li></ol>\n"
      ],
      "text/latex": [
       "\\begin{enumerate*}\n",
       "\\item 0\n",
       "\\item 1\n",
       "\\item 2\n",
       "\\item 3\n",
       "\\item 4\n",
       "\\end{enumerate*}\n"
      ],
      "text/markdown": [
       "1. 0\n",
       "2. 1\n",
       "3. 2\n",
       "4. 3\n",
       "5. 4\n",
       "\n",
       "\n"
      ],
      "text/plain": [
       "[1] 0 1 2 3 4"
      ]
     },
     "metadata": {},
     "output_type": "display_data"
    }
   ],
   "source": [
    "k"
   ]
  },
  {
   "cell_type": "code",
   "execution_count": 9,
   "id": "4c037f7d-7677-44a0-bd0a-8a81507437cd",
   "metadata": {},
   "outputs": [],
   "source": [
    "# Teoretyczne prawdopodobieństwa z rozkładu Poissona\n",
    "probs <- dpois(k, lambda_hat)"
   ]
  },
  {
   "cell_type": "code",
   "execution_count": 10,
   "id": "6d8c8f2a-44ee-4168-9363-b4372e784452",
   "metadata": {},
   "outputs": [
    {
     "data": {
      "text/html": [
       "<style>\n",
       ".list-inline {list-style: none; margin:0; padding: 0}\n",
       ".list-inline>li {display: inline-block}\n",
       ".list-inline>li:not(:last-child)::after {content: \"\\00b7\"; padding: 0 .5ex}\n",
       "</style>\n",
       "<ol class=list-inline><li>0.335201560212229</li><li>0.366383100697087</li><li>0.200232624799571</li><li>0.0729529718262003</li><li>0.0199348236966943</li></ol>\n"
      ],
      "text/latex": [
       "\\begin{enumerate*}\n",
       "\\item 0.335201560212229\n",
       "\\item 0.366383100697087\n",
       "\\item 0.200232624799571\n",
       "\\item 0.0729529718262003\n",
       "\\item 0.0199348236966943\n",
       "\\end{enumerate*}\n"
      ],
      "text/markdown": [
       "1. 0.335201560212229\n",
       "2. 0.366383100697087\n",
       "3. 0.200232624799571\n",
       "4. 0.0729529718262003\n",
       "5. 0.0199348236966943\n",
       "\n",
       "\n"
      ],
      "text/plain": [
       "[1] 0.33520156 0.36638310 0.20023262 0.07295297 0.01993482"
      ]
     },
     "metadata": {},
     "output_type": "display_data"
    }
   ],
   "source": [
    "probs"
   ]
  },
  {
   "cell_type": "code",
   "execution_count": 11,
   "id": "7e392c5f-3912-4878-9429-165ac9c508c9",
   "metadata": {},
   "outputs": [
    {
     "data": {
      "text/html": [
       "<style>\n",
       ".dl-inline {width: auto; margin:0; padding: 0}\n",
       ".dl-inline>dt, .dl-inline>dd {float: none; width: auto; display: inline-block}\n",
       ".dl-inline>dt::after {content: \":\\0020\"; padding-right: .5ex}\n",
       ".dl-inline>dt:not(:first-of-type) {padding-left: .5ex}\n",
       "</style><dl class=dl-inline><dt>0</dt><dd>14.4136670891258</dd><dt>1</dt><dd>15.7544733299748</dd><dt>2</dt><dd>8.61000286638155</dd><dt>3</dt><dd>3.13697778852661</dd><dt>4</dt><dd>0.857197418957853</dd></dl>\n"
      ],
      "text/latex": [
       "\\begin{description*}\n",
       "\\item[0] 14.4136670891258\n",
       "\\item[1] 15.7544733299748\n",
       "\\item[2] 8.61000286638155\n",
       "\\item[3] 3.13697778852661\n",
       "\\item[4] 0.857197418957853\n",
       "\\end{description*}\n"
      ],
      "text/markdown": [
       "0\n",
       ":   14.41366708912581\n",
       ":   15.75447332997482\n",
       ":   8.610002866381553\n",
       ":   3.136977788526614\n",
       ":   0.857197418957853\n",
       "\n"
      ],
      "text/plain": [
       "         0          1          2          3          4 \n",
       "14.4136671 15.7544733  8.6100029  3.1369778  0.8571974 "
      ]
     },
     "metadata": {},
     "output_type": "display_data"
    }
   ],
   "source": [
    "# Oczekiwane liczności\n",
    "exp <- probs * n\n",
    "names(exp) <- k\n",
    "\n",
    "exp"
   ]
  },
  {
   "cell_type": "code",
   "execution_count": 12,
   "id": "7458c3f3-166b-4972-a71a-48a3b09fa669",
   "metadata": {},
   "outputs": [],
   "source": [
    "## Wizualizacja\n",
    "df <- data.frame(\n",
    "  gole = factor(names(obs), levels = as.character(0:max(gole))),\n",
    "  obserwowane = as.numeric(obs),\n",
    "  oczekiwane = as.numeric(exp)\n",
    ")"
   ]
  },
  {
   "cell_type": "code",
   "execution_count": 13,
   "id": "f193a533-45a7-4bcc-b87f-b9a2be1879bc",
   "metadata": {},
   "outputs": [],
   "source": [
    "# Załadowanie biblioteki\n",
    "library(ggplot2)"
   ]
  },
  {
   "cell_type": "code",
   "execution_count": 14,
   "id": "f7c83ef0-4229-4c9b-a369-59db2ebbbc1e",
   "metadata": {},
   "outputs": [
    {
     "data": {
      "image/png": "[encoded data removed]",
      "text/plain": [
       "plot without title"
      ]
     },
     "metadata": {
      "image/png": {
       "height": 420,
       "width": 420
      }
     },
     "output_type": "display_data"
    }
   ],
   "source": [
    "ggplot(df, aes(x = gole)) +\n",
    "  geom_bar(aes(y = obserwowane), stat = \"identity\", fill = \"skyblue\", width = 0.4, position = position_nudge(x = -0.2)) +\n",
    "  geom_bar(aes(y = oczekiwane), stat = \"identity\", fill = \"orange\", width = 0.4, position = position_nudge(x = 0.2)) +\n",
    "  labs(\n",
    "    title = \"Rozkład liczby goli: obserwowany vs teoretyczny (Poisson)\",\n",
    "    x = \"Liczba goli w meczu\",\n",
    "    y = \"Liczność\"\n",
    "  ) +\n",
    "  theme_minimal()"
   ]
  },
  {
   "cell_type": "code",
   "execution_count": 20,
   "id": "516f649a-ca8f-4abc-a2f4-8859b370d9b1",
   "metadata": {},
   "outputs": [
    {
     "data": {
      "image/png": "[encoded data removed]",
      "text/plain": [
       "plot without title"
      ]
     },
     "metadata": {
      "image/png": {
       "height": 420,
       "width": 420
      }
     },
     "output_type": "display_data"
    }
   ],
   "source": [
    "gole_kategorie <- as.character(0:max(gole))\n",
    "\n",
    "obserwowane <- as.numeric(table(factor(gole, levels = 0:max(gole))))\n",
    "oczekiwane <- exp\n",
    "\n",
    "df_obserw <- data.frame(gole = gole_kategorie, liczność = obserwowane, typ = \"Obserwowane\")\n",
    "df_oczek <- data.frame(gole = gole_kategorie, liczność = oczekiwane, typ = \"Oczekiwane\")\n",
    "df_final <- rbind(df_obserw, df_oczek)\n",
    "\n",
    "ggplot(df_final, aes(x = gole, y = liczność, fill = typ)) +\n",
    "  geom_bar(stat = \"identity\", position = position_dodge(width = 0.7), width = 0.6) +\n",
    "  scale_fill_manual(values = c(\"Obserwowane\" = \"skyblue\", \"Oczekiwane\" = \"orange\")) +\n",
    "  labs(\n",
    "    title = \"Rozkład liczby goli: obserwowany vs teoretyczny (Poisson)\",\n",
    "    x = \"Liczba goli\",\n",
    "    y = \"Liczność\",\n",
    "    fill = \"Typ\"\n",
    "  ) +\n",
    "  theme_minimal()"
   ]
  },
  {
   "cell_type": "code",
   "execution_count": null,
   "id": "24a98da7-0c97-4871-a250-6e9ba0f0f971",
   "metadata": {},
   "outputs": [],
   "source": [
    "## Teraz powinniśmy przeprowadzić test zgodności"
   ]
  },
  {
   "cell_type": "code",
   "execution_count": 21,
   "id": "820860a8-79e3-4555-98b9-e93d8c4a65a2",
   "metadata": {
    "scrolled": true
   },
   "outputs": [
    {
     "data": {
      "text/html": [
       "<style>\n",
       ".dl-inline {width: auto; margin:0; padding: 0}\n",
       ".dl-inline>dt, .dl-inline>dd {float: none; width: auto; display: inline-block}\n",
       ".dl-inline>dt::after {content: \":\\0020\"; padding-right: .5ex}\n",
       ".dl-inline>dt:not(:first-of-type) {padding-left: .5ex}\n",
       "</style><dl class=dl-inline><dt>0</dt><dd>14.4136670891258</dd><dt>1</dt><dd>15.7544733299748</dd><dt>2</dt><dd>8.61000286638155</dd><dt>3</dt><dd>3.13697778852661</dd><dt>4</dt><dd>0.857197418957853</dd></dl>\n"
      ],
      "text/latex": [
       "\\begin{description*}\n",
       "\\item[0] 14.4136670891258\n",
       "\\item[1] 15.7544733299748\n",
       "\\item[2] 8.61000286638155\n",
       "\\item[3] 3.13697778852661\n",
       "\\item[4] 0.857197418957853\n",
       "\\end{description*}\n"
      ],
      "text/markdown": [
       "0\n",
       ":   14.41366708912581\n",
       ":   15.75447332997482\n",
       ":   8.610002866381553\n",
       ":   3.136977788526614\n",
       ":   0.857197418957853\n",
       "\n"
      ],
      "text/plain": [
       "         0          1          2          3          4 \n",
       "14.4136671 15.7544733  8.6100029  3.1369778  0.8571974 "
      ]
     },
     "metadata": {},
     "output_type": "display_data"
    },
    {
     "data": {
      "text/html": [
       "1"
      ],
      "text/latex": [
       "1"
      ],
      "text/markdown": [
       "1"
      ],
      "text/plain": [
       "[1] 1"
      ]
     },
     "metadata": {},
     "output_type": "display_data"
    },
    {
     "data": {
      "text/html": [
       "0.4"
      ],
      "text/latex": [
       "0.4"
      ],
      "text/markdown": [
       "0.4"
      ],
      "text/plain": [
       "[1] 0.4"
      ]
     },
     "metadata": {},
     "output_type": "display_data"
    }
   ],
   "source": [
    "# Oczekiwane liczności\n",
    "oczekiwane\n",
    "\n",
    "# Warunki:\n",
    "sum(oczekiwane < 1)               # ile klas ma < 1\n",
    "sum(oczekiwane < 5) / length(oczekiwane)  # jaki % ma < 5"
   ]
  },
  {
   "cell_type": "code",
   "execution_count": 22,
   "id": "99e290d6-10f4-456a-bc77-c1d71d0be85a",
   "metadata": {},
   "outputs": [
    {
     "data": {
      "text/plain": [
       "gole\n",
       " 0  1  2  3  4 \n",
       "15 15  8  4  1 "
      ]
     },
     "metadata": {},
     "output_type": "display_data"
    }
   ],
   "source": [
    "# bazując na tych danych dobrze by było połączyć 3 i 4\n",
    "obs"
   ]
  },
  {
   "cell_type": "code",
   "execution_count": 23,
   "id": "b71c53b6-88c5-4d11-be3a-ec3f426a75a3",
   "metadata": {},
   "outputs": [],
   "source": [
    "obs[\"3+\"] <- sum(obs[\"3\"], obs[\"4\"])\n",
    "obs <- obs[c(\"0\", \"1\", \"2\", \"3+\")]"
   ]
  },
  {
   "cell_type": "code",
   "execution_count": 24,
   "id": "55d7ef46-1915-4913-9efd-910257d8ecf2",
   "metadata": {},
   "outputs": [
    {
     "data": {
      "text/plain": [
       " 0  1  2 3+ \n",
       "15 15  8  5 "
      ]
     },
     "metadata": {},
     "output_type": "display_data"
    }
   ],
   "source": [
    "obs"
   ]
  },
  {
   "cell_type": "code",
   "execution_count": 25,
   "id": "5f9ad6f3-2e84-4292-b73f-d89f42cbf23d",
   "metadata": {},
   "outputs": [
    {
     "data": {
      "text/html": [
       "<style>\n",
       ".dl-inline {width: auto; margin:0; padding: 0}\n",
       ".dl-inline>dt, .dl-inline>dd {float: none; width: auto; display: inline-block}\n",
       ".dl-inline>dt::after {content: \":\\0020\"; padding-right: .5ex}\n",
       ".dl-inline>dt:not(:first-of-type) {padding-left: .5ex}\n",
       "</style><dl class=dl-inline><dt>0</dt><dd>14.4136670891258</dd><dt>1</dt><dd>15.7544733299748</dd><dt>2</dt><dd>8.61000286638155</dd><dt>3</dt><dd>3.13697778852661</dd><dt>4</dt><dd>0.857197418957853</dd></dl>\n"
      ],
      "text/latex": [
       "\\begin{description*}\n",
       "\\item[0] 14.4136670891258\n",
       "\\item[1] 15.7544733299748\n",
       "\\item[2] 8.61000286638155\n",
       "\\item[3] 3.13697778852661\n",
       "\\item[4] 0.857197418957853\n",
       "\\end{description*}\n"
      ],
      "text/markdown": [
       "0\n",
       ":   14.41366708912581\n",
       ":   15.75447332997482\n",
       ":   8.610002866381553\n",
       ":   3.136977788526614\n",
       ":   0.857197418957853\n",
       "\n"
      ],
      "text/plain": [
       "         0          1          2          3          4 \n",
       "14.4136671 15.7544733  8.6100029  3.1369778  0.8571974 "
      ]
     },
     "metadata": {},
     "output_type": "display_data"
    }
   ],
   "source": [
    "oczekiwane"
   ]
  },
  {
   "cell_type": "code",
   "execution_count": 27,
   "id": "7dbdc927-d343-4c81-82b7-a96fd5749353",
   "metadata": {},
   "outputs": [],
   "source": [
    "oczekiwane[\"3+\"] <- sum(oczekiwane[4:5])"
   ]
  },
  {
   "cell_type": "code",
   "execution_count": 28,
   "id": "882fc0cd-d05e-450a-a1e2-3cc36a37a3de",
   "metadata": {},
   "outputs": [
    {
     "data": {
      "text/html": [
       "<style>\n",
       ".dl-inline {width: auto; margin:0; padding: 0}\n",
       ".dl-inline>dt, .dl-inline>dd {float: none; width: auto; display: inline-block}\n",
       ".dl-inline>dt::after {content: \":\\0020\"; padding-right: .5ex}\n",
       ".dl-inline>dt:not(:first-of-type) {padding-left: .5ex}\n",
       "</style><dl class=dl-inline><dt>0</dt><dd>14.4136670891258</dd><dt>1</dt><dd>15.7544733299748</dd><dt>2</dt><dd>8.61000286638155</dd><dt>3</dt><dd>3.13697778852661</dd><dt>4</dt><dd>0.857197418957853</dd><dt>3+</dt><dd>3.99417520748446</dd></dl>\n"
      ],
      "text/latex": [
       "\\begin{description*}\n",
       "\\item[0] 14.4136670891258\n",
       "\\item[1] 15.7544733299748\n",
       "\\item[2] 8.61000286638155\n",
       "\\item[3] 3.13697778852661\n",
       "\\item[4] 0.857197418957853\n",
       "\\item[3+] 3.99417520748446\n",
       "\\end{description*}\n"
      ],
      "text/markdown": [
       "0\n",
       ":   14.41366708912581\n",
       ":   15.75447332997482\n",
       ":   8.610002866381553\n",
       ":   3.136977788526614\n",
       ":   0.8571974189578533+\n",
       ":   3.99417520748446\n",
       "\n"
      ],
      "text/plain": [
       "         0          1          2          3          4         3+ \n",
       "14.4136671 15.7544733  8.6100029  3.1369778  0.8571974  3.9941752 "
      ]
     },
     "metadata": {},
     "output_type": "display_data"
    }
   ],
   "source": [
    "oczekiwane"
   ]
  },
  {
   "cell_type": "code",
   "execution_count": 29,
   "id": "8719c1a6-395e-4d9b-83bc-1b4e1c46bb8c",
   "metadata": {},
   "outputs": [],
   "source": [
    "oczekiwane <- oczekiwane[c(1:3, 6)]\n",
    "names(oczekiwane) <- names(obs)"
   ]
  },
  {
   "cell_type": "code",
   "execution_count": 30,
   "id": "4cdb807f-3c86-428d-b8be-06ebbd30d667",
   "metadata": {},
   "outputs": [
    {
     "data": {
      "text/html": [
       "<style>\n",
       ".dl-inline {width: auto; margin:0; padding: 0}\n",
       ".dl-inline>dt, .dl-inline>dd {float: none; width: auto; display: inline-block}\n",
       ".dl-inline>dt::after {content: \":\\0020\"; padding-right: .5ex}\n",
       ".dl-inline>dt:not(:first-of-type) {padding-left: .5ex}\n",
       "</style><dl class=dl-inline><dt>0</dt><dd>14.4136670891258</dd><dt>1</dt><dd>15.7544733299748</dd><dt>2</dt><dd>8.61000286638155</dd><dt>3+</dt><dd>3.99417520748446</dd></dl>\n"
      ],
      "text/latex": [
       "\\begin{description*}\n",
       "\\item[0] 14.4136670891258\n",
       "\\item[1] 15.7544733299748\n",
       "\\item[2] 8.61000286638155\n",
       "\\item[3+] 3.99417520748446\n",
       "\\end{description*}\n"
      ],
      "text/markdown": [
       "0\n",
       ":   14.41366708912581\n",
       ":   15.75447332997482\n",
       ":   8.610002866381553+\n",
       ":   3.99417520748446\n",
       "\n"
      ],
      "text/plain": [
       "        0         1         2        3+ \n",
       "14.413667 15.754473  8.610003  3.994175 "
      ]
     },
     "metadata": {},
     "output_type": "display_data"
    }
   ],
   "source": [
    "oczekiwane"
   ]
  },
  {
   "cell_type": "code",
   "execution_count": 31,
   "id": "0928fa62-b54e-4576-b129-35463e1eec62",
   "metadata": {},
   "outputs": [
    {
     "name": "stderr",
     "output_type": "stream",
     "text": [
      "Warning message in chisq.test(x = as.numeric(obs), p = oczekiwane/sum(oczekiwane), :\n",
      "“Chi-squared approximation may be incorrect”\n"
     ]
    }
   ],
   "source": [
    "test_chikwadrat <- chisq.test(\n",
    "  x = as.numeric(obs),\n",
    "  p = oczekiwane / sum(oczekiwane),\n",
    "  rescale.p = TRUE\n",
    ")"
   ]
  },
  {
   "cell_type": "code",
   "execution_count": 32,
   "id": "2e3fd170-a8e9-4515-a268-ec281a018288",
   "metadata": {},
   "outputs": [
    {
     "data": {
      "text/plain": [
       "\n",
       "\tChi-squared test for given probabilities\n",
       "\n",
       "data:  as.numeric(obs)\n",
       "X-squared = 0.3534, df = 3, p-value = 0.9497\n"
      ]
     },
     "metadata": {},
     "output_type": "display_data"
    }
   ],
   "source": [
    "test_chikwadrat"
   ]
  },
  {
   "cell_type": "code",
   "execution_count": 33,
   "id": "316c5322-94c4-4035-87d8-ccb4fb779ab6",
   "metadata": {},
   "outputs": [],
   "source": [
    "rozn_bezwzgl <-  abs(obs - oczekiwane)\n",
    "procent_dopasowanych <-mean(rozn_bezwzgl <= 1) * 100"
   ]
  },
  {
   "cell_type": "code",
   "execution_count": 34,
   "id": "366632d7-0b44-4b3d-83b7-440c56065d59",
   "metadata": {},
   "outputs": [
    {
     "name": "stdout",
     "output_type": "stream",
     "text": [
      "Dopasowanie (klas z różnicą ≤ 1): 75 %\n"
     ]
    }
   ],
   "source": [
    "cat(\"Dopasowanie (klas z różnicą ≤ 1):\", round(procent_dopasowanych, 1), \"%\\n\")"
   ]
  },
  {
   "cell_type": "markdown",
   "id": "a5e11ad9-06f6-4044-a4ec-4ef980f20442",
   "metadata": {},
   "source": [
    "\n",
    "### Wnioski zadanie 1\n",
    "**Hipotezy statystyczne:**\n",
    "- **H₀ (hipoteza zerowa):** rozkład liczby goli jest zgodny z rozkładem Poissona.\n",
    "- **H₁ (hipoteza alternatywna):** rozkład liczby goli nie jest zgodny z rozkładem Poissona.\n",
    "\n",
    "**Wniosek:**\n",
    "Brak podstaw do odrzucenia hipotezy zerowej. p-value - bardzo duże / znacznie większe od 0.05.\n",
    "\n",
    "\n",
    "**Przemyślenia:**\n",
    "Być może dodatkowa weryfiakcja przy pomocy Monte Carlo?"
   ]
  },
  {
   "cell_type": "markdown",
   "id": "5111f5f1-5a95-4779-9733-614d3e818971",
   "metadata": {},
   "source": [
    "## Zadanie 2: Weryfikacja zgodności z rozkładem chi-kwadrat\n",
    "\n",
    "\n",
    "Na podstawie podanej próbki należy zweryfikować hipotezę, że cecha X ma rozkład chi-kwadrat.\n",
    "\n",
    "---\n",
    "\n",
    "1.0, 4.7, 5.2, 7.6, 2.9, 6.5, 4.3, 1.3, 1.6, 3.3, 0.5, 1.8, 15.4, 2.7, 9.6, 11.6, 23.2, 3.2, 3.4, 12.4, 19.5\n",
    "\n",
    "---\n",
    "\n",
    "**Część (a)**:\n",
    "- Wykonać test Kołmogorowa-Smirnowa dla zgodności z rozkładem chi-kwadrat.\n",
    "- Porównać dystrybuantę empiryczną z teoretyczną (na wykresie).\n",
    "\n",
    "**Część (b)**:\n",
    "- Porównać kwantyle empiryczne i teoretyczne za pomocą wykresu Q-Q.\n",
    "\n",
    "**Hipotezy statystyczne**:\n",
    "- **H₀ (hipoteza zerowa):** próba pochodzi z rozkładu X^2.\n",
    "- **H₁ (hipoteza alternatywna):** próba nie pochodzi z rozkładu X^2\n"
   ]
  },
  {
   "cell_type": "code",
   "execution_count": 35,
   "id": "0407e5bf-db7f-475d-847e-2a5fdf5fec52",
   "metadata": {},
   "outputs": [],
   "source": [
    "x <- c(1.0, 4.7, 5.2, 7.6, 2.9, 6.5, 4.3, 1.3, 1.6, 3.3,\n",
    "       0.5, 1.8, 15.4, 2.7, 9.6, 11.6, 23.2, 3.2, 3.4, 12.4, 19.5)"
   ]
  },
  {
   "cell_type": "code",
   "execution_count": 36,
   "id": "01d86cca-e1d4-4359-8d18-e9f760a708c9",
   "metadata": {},
   "outputs": [],
   "source": [
    "n <- length(x)"
   ]
  },
  {
   "cell_type": "code",
   "execution_count": 37,
   "id": "0dade5ca-774e-42b1-98cc-849bbfee966a",
   "metadata": {},
   "outputs": [
    {
     "data": {
      "text/html": [
       "21"
      ],
      "text/latex": [
       "21"
      ],
      "text/markdown": [
       "21"
      ],
      "text/plain": [
       "[1] 21"
      ]
     },
     "metadata": {},
     "output_type": "display_data"
    }
   ],
   "source": [
    "n"
   ]
  },
  {
   "cell_type": "markdown",
   "id": "2a0a6773-412b-4746-a152-2f01ebbc3b73",
   "metadata": {},
   "source": [
    "### Z2.a test Kołmogorowa-Smirnowa dla zgodności z rozkładem chi-kwadrat"
   ]
  },
  {
   "cell_type": "code",
   "execution_count": 38,
   "id": "f28662a6-c408-446e-aff6-e14f740a9ddb",
   "metadata": {},
   "outputs": [],
   "source": [
    "## est stopni swobody\n",
    "df_hat <- mean(x)"
   ]
  },
  {
   "cell_type": "code",
   "execution_count": 39,
   "id": "43745957-aa7c-4ee2-b514-ac10f1af3e29",
   "metadata": {},
   "outputs": [
    {
     "data": {
      "text/html": [
       "6.74761904761905"
      ],
      "text/latex": [
       "6.74761904761905"
      ],
      "text/markdown": [
       "6.74761904761905"
      ],
      "text/plain": [
       "[1] 6.747619"
      ]
     },
     "metadata": {},
     "output_type": "display_data"
    }
   ],
   "source": [
    "df_hat"
   ]
  },
  {
   "cell_type": "code",
   "execution_count": 40,
   "id": "bff82029-0f05-4aa1-8673-38705409aefc",
   "metadata": {},
   "outputs": [
    {
     "data": {
      "text/plain": [
       "\n",
       "\tExact one-sample Kolmogorov-Smirnov test\n",
       "\n",
       "data:  x\n",
       "D = 0.30233, p-value = 0.03367\n",
       "alternative hypothesis: two-sided\n"
      ]
     },
     "metadata": {},
     "output_type": "display_data"
    }
   ],
   "source": [
    "ks.test(x, \"pchisq\", df = df_hat)\n"
   ]
  },
  {
   "cell_type": "code",
   "execution_count": 41,
   "id": "d33b3245-cc51-400d-8eee-73a19a08c584",
   "metadata": {},
   "outputs": [
    {
     "data": {
      "image/png": "[encoded data removed]",
      "text/plain": [
       "Plot with title “Dystrybuanta empiryczna vs teoretyczna”"
      ]
     },
     "metadata": {
      "image/png": {
       "height": 420,
       "width": 420
      }
     },
     "output_type": "display_data"
    }
   ],
   "source": [
    "\n",
    "dystr_empiryczna <- ecdf(x)\n",
    "\n",
    "# Zakres wartości\n",
    "x_wykres <- seq(min(x), max(x), length.out = 200)\n",
    "\n",
    "# Rysowanie wykresu\n",
    "plot(dystr_empiryczna, verticals = TRUE, do.points = FALSE,\n",
    "     main = \"Dystrybuanta empiryczna vs teoretyczna\",\n",
    "     xlab = \"Wartości cechy X\", ylab = \"Prawdopodobieństwo skumulowane\")\n",
    "\n",
    "# Teoretyczna dystrybuanta chi-kwadrat\n",
    "lines(x_wykres, pchisq(x_wykres, df = df_hat),\n",
    "      col = \"red\", lwd = 2)\n",
    "\n",
    "legend(\"bottomright\", legend = c(\"Empiryczna\", \"Teoretyczna χ²\"),\n",
    "       col = c(\"black\", \"red\"), lwd = c(1, 2))"
   ]
  },
  {
   "cell_type": "code",
   "execution_count": 42,
   "id": "b19fb3b7-ba2a-4701-acee-38f78018b052",
   "metadata": {},
   "outputs": [],
   "source": [
    "### Wnioski część (a)\n",
    "Przy załozeniu progu istotności p-value == 0.05.\n",
    "Test Kołmogorowa–Smirnowa wykazał p-wartość 0.033, co oznacza, że istnieją statystyczne podstawy do odrzucenia hipotezy zgodności z rozkładem chi-kwadrat"
   ]
  },
  {
   "cell_type": "markdown",
   "id": "78361b93-2761-4f6b-92e2-7febaf7f447c",
   "metadata": {},
   "source": [
    "### Z2.b wykres kwantylowy (Q–Q plot)"
   ]
  },
  {
   "cell_type": "code",
   "execution_count": 43,
   "id": "987c9c7b-55d8-42f5-a8e0-ef24e7030999",
   "metadata": {},
   "outputs": [],
   "source": [
    "# asc sort (kwantyle empiryczne)\n",
    "x_empiryczne <- sort(x)\n",
    "\n",
    "# # Kwantyle teoretyczne (z rozkładu chi-kwadrat o df_hat)\n",
    "kwantyle_teoretyczne <- qchisq(ppoints(n), df = df_hat)"
   ]
  },
  {
   "cell_type": "code",
   "execution_count": 45,
   "id": "410161f9-f2ac-41ee-b3ad-7c274212232d",
   "metadata": {},
   "outputs": [
    {
     "data": {
      "text/html": [
       "<style>\n",
       ".list-inline {list-style: none; margin:0; padding: 0}\n",
       ".list-inline>li {display: inline-block}\n",
       ".list-inline>li:not(:last-child)::after {content: \"\\00b7\"; padding: 0 .5ex}\n",
       "</style>\n",
       "<ol class=list-inline><li>0.5</li><li>1</li><li>1.3</li><li>1.6</li><li>1.8</li><li>2.7</li><li>2.9</li><li>3.2</li><li>3.3</li><li>3.4</li><li>4.3</li><li>4.7</li><li>5.2</li><li>6.5</li><li>7.6</li><li>9.6</li><li>11.6</li><li>12.4</li><li>15.4</li><li>19.5</li><li>23.2</li></ol>\n"
      ],
      "text/latex": [
       "\\begin{enumerate*}\n",
       "\\item 0.5\n",
       "\\item 1\n",
       "\\item 1.3\n",
       "\\item 1.6\n",
       "\\item 1.8\n",
       "\\item 2.7\n",
       "\\item 2.9\n",
       "\\item 3.2\n",
       "\\item 3.3\n",
       "\\item 3.4\n",
       "\\item 4.3\n",
       "\\item 4.7\n",
       "\\item 5.2\n",
       "\\item 6.5\n",
       "\\item 7.6\n",
       "\\item 9.6\n",
       "\\item 11.6\n",
       "\\item 12.4\n",
       "\\item 15.4\n",
       "\\item 19.5\n",
       "\\item 23.2\n",
       "\\end{enumerate*}\n"
      ],
      "text/markdown": [
       "1. 0.5\n",
       "2. 1\n",
       "3. 1.3\n",
       "4. 1.6\n",
       "5. 1.8\n",
       "6. 2.7\n",
       "7. 2.9\n",
       "8. 3.2\n",
       "9. 3.3\n",
       "10. 3.4\n",
       "11. 4.3\n",
       "12. 4.7\n",
       "13. 5.2\n",
       "14. 6.5\n",
       "15. 7.6\n",
       "16. 9.6\n",
       "17. 11.6\n",
       "18. 12.4\n",
       "19. 15.4\n",
       "20. 19.5\n",
       "21. 23.2\n",
       "\n",
       "\n"
      ],
      "text/plain": [
       " [1]  0.5  1.0  1.3  1.6  1.8  2.7  2.9  3.2  3.3  3.4  4.3  4.7  5.2  6.5  7.6\n",
       "[16]  9.6 11.6 12.4 15.4 19.5 23.2"
      ]
     },
     "metadata": {},
     "output_type": "display_data"
    }
   ],
   "source": [
    "x_empiryczne"
   ]
  },
  {
   "cell_type": "code",
   "execution_count": 44,
   "id": "f8d7d3db-0a06-45a6-a447-59e3f39e0bfb",
   "metadata": {},
   "outputs": [
    {
     "data": {
      "text/html": [
       "<style>\n",
       ".list-inline {list-style: none; margin:0; padding: 0}\n",
       ".list-inline>li {display: inline-block}\n",
       ".list-inline>li:not(:last-child)::after {content: \"\\00b7\"; padding: 0 .5ex}\n",
       "</style>\n",
       "<ol class=list-inline><li>1.54462427051942</li><li>2.33096538125728</li><li>2.8749947773806</li><li>3.33476934436616</li><li>3.75295516614992</li><li>4.14883460199186</li><li>4.53353548070311</li><li>4.91466785143739</li><li>5.29822204351978</li><li>5.68954011714865</li><li>6.09394293137503</li><li>6.51725995266972</li><li>6.96641529373264</li><li>7.45022947387703</li><li>7.98069095298224</li><li>8.57521220448477</li><li>9.26108836834429</li><li>10.0855238579207</li><li>11.1426621231644</li><li>12.6717197778583</li><li>15.755016482405</li></ol>\n"
      ],
      "text/latex": [
       "\\begin{enumerate*}\n",
       "\\item 1.54462427051942\n",
       "\\item 2.33096538125728\n",
       "\\item 2.8749947773806\n",
       "\\item 3.33476934436616\n",
       "\\item 3.75295516614992\n",
       "\\item 4.14883460199186\n",
       "\\item 4.53353548070311\n",
       "\\item 4.91466785143739\n",
       "\\item 5.29822204351978\n",
       "\\item 5.68954011714865\n",
       "\\item 6.09394293137503\n",
       "\\item 6.51725995266972\n",
       "\\item 6.96641529373264\n",
       "\\item 7.45022947387703\n",
       "\\item 7.98069095298224\n",
       "\\item 8.57521220448477\n",
       "\\item 9.26108836834429\n",
       "\\item 10.0855238579207\n",
       "\\item 11.1426621231644\n",
       "\\item 12.6717197778583\n",
       "\\item 15.755016482405\n",
       "\\end{enumerate*}\n"
      ],
      "text/markdown": [
       "1. 1.54462427051942\n",
       "2. 2.33096538125728\n",
       "3. 2.8749947773806\n",
       "4. 3.33476934436616\n",
       "5. 3.75295516614992\n",
       "6. 4.14883460199186\n",
       "7. 4.53353548070311\n",
       "8. 4.91466785143739\n",
       "9. 5.29822204351978\n",
       "10. 5.68954011714865\n",
       "11. 6.09394293137503\n",
       "12. 6.51725995266972\n",
       "13. 6.96641529373264\n",
       "14. 7.45022947387703\n",
       "15. 7.98069095298224\n",
       "16. 8.57521220448477\n",
       "17. 9.26108836834429\n",
       "18. 10.0855238579207\n",
       "19. 11.1426621231644\n",
       "20. 12.6717197778583\n",
       "21. 15.755016482405\n",
       "\n",
       "\n"
      ],
      "text/plain": [
       " [1]  1.544624  2.330965  2.874995  3.334769  3.752955  4.148835  4.533535\n",
       " [8]  4.914668  5.298222  5.689540  6.093943  6.517260  6.966415  7.450229\n",
       "[15]  7.980691  8.575212  9.261088 10.085524 11.142662 12.671720 15.755016"
      ]
     },
     "metadata": {},
     "output_type": "display_data"
    }
   ],
   "source": [
    "kwantyle_teoretyczne"
   ]
  },
  {
   "cell_type": "code",
   "execution_count": 46,
   "id": "9a2510c2-798a-42e0-924e-8c4557023d03",
   "metadata": {},
   "outputs": [
    {
     "data": {
      "image/png": "[encoded data removed]",
      "text/plain": [
       "Plot with title “Wykres Q–Q: empiryczne vs chi-kwadrat”"
      ]
     },
     "metadata": {
      "image/png": {
       "height": 420,
       "width": 420
      }
     },
     "output_type": "display_data"
    }
   ],
   "source": [
    "# Wykres Q-Q\n",
    "qqplot(kwantyle_teoretyczne, x_empiryczne,\n",
    "       main = \"Wykres Q–Q: empiryczne vs chi-kwadrat\",\n",
    "       xlab = \"Kwantyle teoretyczne (χ²)\", ylab = \"Kwantyle empiryczne\",\n",
    "       pch = 19, col = \"blue\")\n",
    "\n",
    "abline(0, 1, col = \"red\", lwd = 2)"
   ]
  },
  {
   "cell_type": "code",
   "execution_count": null,
   "id": "181243cf-bf4f-4a03-abb3-687110deb52e",
   "metadata": {},
   "outputs": [],
   "source": [
    "### Z2.b Wnioski\n",
    "Punkty znacząco odbiegają od linii idealnego dopasowania. Największe rozbieżoności występują w górnych kwantylach\n",
    "Wykres Q-Q wspiera wynik testu KS z punktu a."
   ]
  },
  {
   "cell_type": "markdown",
   "id": "2a3853ad-a0f7-4aeb-bc6e-3a02082fbe28",
   "metadata": {},
   "source": [
    "## Zadanie 3: Analiza wpływu nawozu na plony\n",
    "\n",
    "### Polecenie:\n",
    "W pewnym doświadczeniu rolniczym bada się plony nowej odmiany pszenicy (w kwintalach na hektar) w zależności od rodzaju nawozu. Należy:\n",
    "\n",
    "(a) Zweryfikować hipotezę H₀, że rozkłady plonów dla każdego typu nawozu są jednakowe, wykorzystując test Kruskala–Wallisa.\n",
    "\n",
    "(b) Obliczyć średnią rangę dla każdej grupy.\n",
    "\n",
    "**Dane**:\n",
    "\n",
    "---\n",
    "\n",
    "- n1 = c(35, 32, 33.5, 36, 38, 30, 32.5, 31, 34)  \n",
    "- n2 = c(28.5, 32, 33, 34, 28, 30.5, 30, 32)  \n",
    "- n3 = c(26.5, 29, 33, 31, 28, 25.5, 29, 32, 29.5, 32)  \n",
    "- n4 = c(30.5, 25.5, 32.5, 27, 34.5, 31)\n",
    "\n",
    "---\n"
   ]
  },
  {
   "cell_type": "markdown",
   "id": "b5f16ec9-e5ee-4ea9-9827-5479a612a99e",
   "metadata": {},
   "source": [
    "### Z3.a Kruskal-Wallis - rozkłady plonów dla każdego typu nawozu są jednakowe"
   ]
  },
  {
   "cell_type": "code",
   "execution_count": 47,
   "id": "8abe8a16-2f9c-4c54-980d-ee3e95af6913",
   "metadata": {},
   "outputs": [],
   "source": [
    "n1 <- c(35, 32, 33.5, 36, 38, 30, 32.5, 31, 34)\n",
    "n2 <- c(28.5, 32, 33, 34, 28, 30.5, 30, 32)\n",
    "n3 <- c(26.5, 29, 33, 31, 28, 25.5, 29, 32, 29.5, 32)\n",
    "n4 <- c(30.5, 25.5, 32.5, 27, 34.5, 31)"
   ]
  },
  {
   "cell_type": "code",
   "execution_count": 48,
   "id": "90675256-6a55-49ef-8ebe-897a3fb77ce0",
   "metadata": {},
   "outputs": [],
   "source": [
    "plony <- c(n1, n2, n3, n4)"
   ]
  },
  {
   "cell_type": "code",
   "execution_count": 49,
   "id": "0067a0ad-cc12-42c5-94e9-9ce9ae30cfa7",
   "metadata": {},
   "outputs": [],
   "source": [
    "grupy <- factor(c(\n",
    "  rep(\"n1\", length(n1)),\n",
    "  rep(\"n2\", length(n2)),\n",
    "  rep(\"n3\", length(n3)),\n",
    "  rep(\"n4\", length(n4))\n",
    "))"
   ]
  },
  {
   "cell_type": "code",
   "execution_count": 50,
   "id": "57902919-430e-4f49-8bc3-fd060a5ee925",
   "metadata": {},
   "outputs": [
    {
     "data": {
      "text/html": [
       "<style>\n",
       ".list-inline {list-style: none; margin:0; padding: 0}\n",
       ".list-inline>li {display: inline-block}\n",
       ".list-inline>li:not(:last-child)::after {content: \"\\00b7\"; padding: 0 .5ex}\n",
       "</style>\n",
       "<ol class=list-inline><li>n1</li><li>n1</li><li>n1</li><li>n1</li><li>n1</li><li>n1</li><li>n1</li><li>n1</li><li>n1</li><li>n2</li><li>n2</li><li>n2</li><li>n2</li><li>n2</li><li>n2</li><li>n2</li><li>n2</li><li>n3</li><li>n3</li><li>n3</li><li>n3</li><li>n3</li><li>n3</li><li>n3</li><li>n3</li><li>n3</li><li>n3</li><li>n4</li><li>n4</li><li>n4</li><li>n4</li><li>n4</li><li>n4</li></ol>\n",
       "\n",
       "<details>\n",
       "\t<summary style=display:list-item;cursor:pointer>\n",
       "\t\t<strong>Levels</strong>:\n",
       "\t</summary>\n",
       "\t<style>\n",
       "\t.list-inline {list-style: none; margin:0; padding: 0}\n",
       "\t.list-inline>li {display: inline-block}\n",
       "\t.list-inline>li:not(:last-child)::after {content: \"\\00b7\"; padding: 0 .5ex}\n",
       "\t</style>\n",
       "\t<ol class=list-inline><li>'n1'</li><li>'n2'</li><li>'n3'</li><li>'n4'</li></ol>\n",
       "</details>"
      ],
      "text/latex": [
       "\\begin{enumerate*}\n",
       "\\item n1\n",
       "\\item n1\n",
       "\\item n1\n",
       "\\item n1\n",
       "\\item n1\n",
       "\\item n1\n",
       "\\item n1\n",
       "\\item n1\n",
       "\\item n1\n",
       "\\item n2\n",
       "\\item n2\n",
       "\\item n2\n",
       "\\item n2\n",
       "\\item n2\n",
       "\\item n2\n",
       "\\item n2\n",
       "\\item n2\n",
       "\\item n3\n",
       "\\item n3\n",
       "\\item n3\n",
       "\\item n3\n",
       "\\item n3\n",
       "\\item n3\n",
       "\\item n3\n",
       "\\item n3\n",
       "\\item n3\n",
       "\\item n3\n",
       "\\item n4\n",
       "\\item n4\n",
       "\\item n4\n",
       "\\item n4\n",
       "\\item n4\n",
       "\\item n4\n",
       "\\end{enumerate*}\n",
       "\n",
       "\\emph{Levels}: \\begin{enumerate*}\n",
       "\\item 'n1'\n",
       "\\item 'n2'\n",
       "\\item 'n3'\n",
       "\\item 'n4'\n",
       "\\end{enumerate*}\n"
      ],
      "text/markdown": [
       "1. n1\n",
       "2. n1\n",
       "3. n1\n",
       "4. n1\n",
       "5. n1\n",
       "6. n1\n",
       "7. n1\n",
       "8. n1\n",
       "9. n1\n",
       "10. n2\n",
       "11. n2\n",
       "12. n2\n",
       "13. n2\n",
       "14. n2\n",
       "15. n2\n",
       "16. n2\n",
       "17. n2\n",
       "18. n3\n",
       "19. n3\n",
       "20. n3\n",
       "21. n3\n",
       "22. n3\n",
       "23. n3\n",
       "24. n3\n",
       "25. n3\n",
       "26. n3\n",
       "27. n3\n",
       "28. n4\n",
       "29. n4\n",
       "30. n4\n",
       "31. n4\n",
       "32. n4\n",
       "33. n4\n",
       "\n",
       "\n",
       "\n",
       "**Levels**: 1. 'n1'\n",
       "2. 'n2'\n",
       "3. 'n3'\n",
       "4. 'n4'\n",
       "\n",
       "\n"
      ],
      "text/plain": [
       " [1] n1 n1 n1 n1 n1 n1 n1 n1 n1 n2 n2 n2 n2 n2 n2 n2 n2 n3 n3 n3 n3 n3 n3 n3 n3\n",
       "[26] n3 n3 n4 n4 n4 n4 n4 n4\n",
       "Levels: n1 n2 n3 n4"
      ]
     },
     "metadata": {},
     "output_type": "display_data"
    }
   ],
   "source": [
    "grupy"
   ]
  },
  {
   "cell_type": "code",
   "execution_count": 51,
   "id": "83b4c13e-e687-4e88-b016-10decb7a07af",
   "metadata": {},
   "outputs": [
    {
     "data": {
      "text/html": [
       "<style>\n",
       ".list-inline {list-style: none; margin:0; padding: 0}\n",
       ".list-inline>li {display: inline-block}\n",
       ".list-inline>li:not(:last-child)::after {content: \"\\00b7\"; padding: 0 .5ex}\n",
       "</style>\n",
       "<ol class=list-inline><li>35</li><li>32</li><li>33.5</li><li>36</li><li>38</li><li>30</li><li>32.5</li><li>31</li><li>34</li><li>28.5</li><li>32</li><li>33</li><li>34</li><li>28</li><li>30.5</li><li>30</li><li>32</li><li>26.5</li><li>29</li><li>33</li><li>31</li><li>28</li><li>25.5</li><li>29</li><li>32</li><li>29.5</li><li>32</li><li>30.5</li><li>25.5</li><li>32.5</li><li>27</li><li>34.5</li><li>31</li></ol>\n"
      ],
      "text/latex": [
       "\\begin{enumerate*}\n",
       "\\item 35\n",
       "\\item 32\n",
       "\\item 33.5\n",
       "\\item 36\n",
       "\\item 38\n",
       "\\item 30\n",
       "\\item 32.5\n",
       "\\item 31\n",
       "\\item 34\n",
       "\\item 28.5\n",
       "\\item 32\n",
       "\\item 33\n",
       "\\item 34\n",
       "\\item 28\n",
       "\\item 30.5\n",
       "\\item 30\n",
       "\\item 32\n",
       "\\item 26.5\n",
       "\\item 29\n",
       "\\item 33\n",
       "\\item 31\n",
       "\\item 28\n",
       "\\item 25.5\n",
       "\\item 29\n",
       "\\item 32\n",
       "\\item 29.5\n",
       "\\item 32\n",
       "\\item 30.5\n",
       "\\item 25.5\n",
       "\\item 32.5\n",
       "\\item 27\n",
       "\\item 34.5\n",
       "\\item 31\n",
       "\\end{enumerate*}\n"
      ],
      "text/markdown": [
       "1. 35\n",
       "2. 32\n",
       "3. 33.5\n",
       "4. 36\n",
       "5. 38\n",
       "6. 30\n",
       "7. 32.5\n",
       "8. 31\n",
       "9. 34\n",
       "10. 28.5\n",
       "11. 32\n",
       "12. 33\n",
       "13. 34\n",
       "14. 28\n",
       "15. 30.5\n",
       "16. 30\n",
       "17. 32\n",
       "18. 26.5\n",
       "19. 29\n",
       "20. 33\n",
       "21. 31\n",
       "22. 28\n",
       "23. 25.5\n",
       "24. 29\n",
       "25. 32\n",
       "26. 29.5\n",
       "27. 32\n",
       "28. 30.5\n",
       "29. 25.5\n",
       "30. 32.5\n",
       "31. 27\n",
       "32. 34.5\n",
       "33. 31\n",
       "\n",
       "\n"
      ],
      "text/plain": [
       " [1] 35.0 32.0 33.5 36.0 38.0 30.0 32.5 31.0 34.0 28.5 32.0 33.0 34.0 28.0 30.5\n",
       "[16] 30.0 32.0 26.5 29.0 33.0 31.0 28.0 25.5 29.0 32.0 29.5 32.0 30.5 25.5 32.5\n",
       "[31] 27.0 34.5 31.0"
      ]
     },
     "metadata": {},
     "output_type": "display_data"
    }
   ],
   "source": [
    "plony"
   ]
  },
  {
   "cell_type": "code",
   "execution_count": 52,
   "id": "96c62f5a-6c5f-4cd5-876b-4d526d8bb124",
   "metadata": {},
   "outputs": [],
   "source": [
    "test_kw <- kruskal.test(plony ~ grupy)"
   ]
  },
  {
   "cell_type": "code",
   "execution_count": 53,
   "id": "7e980909-1c0e-4cd3-a75d-1e18ded4b0e9",
   "metadata": {},
   "outputs": [
    {
     "data": {
      "text/plain": [
       "\n",
       "\tKruskal-Wallis rank sum test\n",
       "\n",
       "data:  plony by grupy\n",
       "Kruskal-Wallis chi-squared = 8.9766, df = 3, p-value = 0.0296\n"
      ]
     },
     "metadata": {},
     "output_type": "display_data"
    }
   ],
   "source": [
    "test_kw"
   ]
  },
  {
   "cell_type": "markdown",
   "id": "8bcc7519-6caf-43e1-aea7-e2d571e22c01",
   "metadata": {},
   "source": [
    "### Z3.a Wnioski\n",
    "\n",
    "**Wyniki testu**:\n",
    "- Statystyka testowa: χ² = 8.9766\n",
    "- Stopnie swobody: df = 3\n",
    "- p-wartość: 0.0296\n",
    "\n",
    "**Hipotezy:**\n",
    "- **H₀:** Rozkłady plonów w grupach n1, n2, n3 i n4 są identyczne.\n",
    "- **H₁:** Co najmniej jedna grupa różni się pod względem rozkładu plonów.\n",
    "\n",
    "**Wniosek:**\n",
    "Ponieważ p-wartość < 0.05, odrzucamy hipotezę zerową. Istnieją statystycznie istotne różnice w rozkładach plonów między co najmniej dwoma rodzajami nawozów"
   ]
  },
  {
   "cell_type": "markdown",
   "id": "e98a5559-e7cb-4ec4-ba90-3d7ebac87c2e",
   "metadata": {},
   "source": [
    "### Z3.b średnia ranga dla każdej próbki"
   ]
  },
  {
   "cell_type": "code",
   "execution_count": 55,
   "id": "e1118a7d-f1cb-4bee-9d51-0c9127db2e86",
   "metadata": {},
   "outputs": [],
   "source": [
    "# plony – wszystkie obserwacje\n",
    "# grupy – wektor etykiet grupowych\n",
    "\n",
    "rangi <- rank(plony)"
   ]
  },
  {
   "cell_type": "code",
   "execution_count": 56,
   "id": "e7b28bfa-0334-46cc-bd30-dd738f01fa89",
   "metadata": {},
   "outputs": [],
   "source": [
    "df_rangi <- data.frame(\n",
    "  grupa = grupy,\n",
    "  ranga = rangi\n",
    ")"
   ]
  },
  {
   "cell_type": "code",
   "execution_count": 57,
   "id": "9b87b0c9-70c6-4145-9d43-dfbcda62c2a8",
   "metadata": {},
   "outputs": [
    {
     "data": {
      "text/html": [
       "<table class=\"dataframe\">\n",
       "<caption>A data.frame: 33 × 2</caption>\n",
       "<thead>\n",
       "\t<tr><th scope=col>grupa</th><th scope=col>ranga</th></tr>\n",
       "\t<tr><th scope=col>&lt;fct&gt;</th><th scope=col>&lt;dbl&gt;</th></tr>\n",
       "</thead>\n",
       "<tbody>\n",
       "\t<tr><td>n1</td><td>31.0</td></tr>\n",
       "\t<tr><td>n1</td><td>20.0</td></tr>\n",
       "\t<tr><td>n1</td><td>27.0</td></tr>\n",
       "\t<tr><td>n1</td><td>32.0</td></tr>\n",
       "\t<tr><td>n1</td><td>33.0</td></tr>\n",
       "\t<tr><td>n1</td><td>11.5</td></tr>\n",
       "\t<tr><td>n1</td><td>23.5</td></tr>\n",
       "\t<tr><td>n1</td><td>16.0</td></tr>\n",
       "\t<tr><td>n1</td><td>28.5</td></tr>\n",
       "\t<tr><td>n2</td><td> 7.0</td></tr>\n",
       "\t<tr><td>n2</td><td>20.0</td></tr>\n",
       "\t<tr><td>n2</td><td>25.5</td></tr>\n",
       "\t<tr><td>n2</td><td>28.5</td></tr>\n",
       "\t<tr><td>n2</td><td> 5.5</td></tr>\n",
       "\t<tr><td>n2</td><td>13.5</td></tr>\n",
       "\t<tr><td>n2</td><td>11.5</td></tr>\n",
       "\t<tr><td>n2</td><td>20.0</td></tr>\n",
       "\t<tr><td>n3</td><td> 3.0</td></tr>\n",
       "\t<tr><td>n3</td><td> 8.5</td></tr>\n",
       "\t<tr><td>n3</td><td>25.5</td></tr>\n",
       "\t<tr><td>n3</td><td>16.0</td></tr>\n",
       "\t<tr><td>n3</td><td> 5.5</td></tr>\n",
       "\t<tr><td>n3</td><td> 1.5</td></tr>\n",
       "\t<tr><td>n3</td><td> 8.5</td></tr>\n",
       "\t<tr><td>n3</td><td>20.0</td></tr>\n",
       "\t<tr><td>n3</td><td>10.0</td></tr>\n",
       "\t<tr><td>n3</td><td>20.0</td></tr>\n",
       "\t<tr><td>n4</td><td>13.5</td></tr>\n",
       "\t<tr><td>n4</td><td> 1.5</td></tr>\n",
       "\t<tr><td>n4</td><td>23.5</td></tr>\n",
       "\t<tr><td>n4</td><td> 4.0</td></tr>\n",
       "\t<tr><td>n4</td><td>30.0</td></tr>\n",
       "\t<tr><td>n4</td><td>16.0</td></tr>\n",
       "</tbody>\n",
       "</table>\n"
      ],
      "text/latex": [
       "A data.frame: 33 × 2\n",
       "\\begin{tabular}{ll}\n",
       " grupa & ranga\\\\\n",
       " <fct> & <dbl>\\\\\n",
       "\\hline\n",
       "\t n1 & 31.0\\\\\n",
       "\t n1 & 20.0\\\\\n",
       "\t n1 & 27.0\\\\\n",
       "\t n1 & 32.0\\\\\n",
       "\t n1 & 33.0\\\\\n",
       "\t n1 & 11.5\\\\\n",
       "\t n1 & 23.5\\\\\n",
       "\t n1 & 16.0\\\\\n",
       "\t n1 & 28.5\\\\\n",
       "\t n2 &  7.0\\\\\n",
       "\t n2 & 20.0\\\\\n",
       "\t n2 & 25.5\\\\\n",
       "\t n2 & 28.5\\\\\n",
       "\t n2 &  5.5\\\\\n",
       "\t n2 & 13.5\\\\\n",
       "\t n2 & 11.5\\\\\n",
       "\t n2 & 20.0\\\\\n",
       "\t n3 &  3.0\\\\\n",
       "\t n3 &  8.5\\\\\n",
       "\t n3 & 25.5\\\\\n",
       "\t n3 & 16.0\\\\\n",
       "\t n3 &  5.5\\\\\n",
       "\t n3 &  1.5\\\\\n",
       "\t n3 &  8.5\\\\\n",
       "\t n3 & 20.0\\\\\n",
       "\t n3 & 10.0\\\\\n",
       "\t n3 & 20.0\\\\\n",
       "\t n4 & 13.5\\\\\n",
       "\t n4 &  1.5\\\\\n",
       "\t n4 & 23.5\\\\\n",
       "\t n4 &  4.0\\\\\n",
       "\t n4 & 30.0\\\\\n",
       "\t n4 & 16.0\\\\\n",
       "\\end{tabular}\n"
      ],
      "text/markdown": [
       "\n",
       "A data.frame: 33 × 2\n",
       "\n",
       "| grupa &lt;fct&gt; | ranga &lt;dbl&gt; |\n",
       "|---|---|\n",
       "| n1 | 31.0 |\n",
       "| n1 | 20.0 |\n",
       "| n1 | 27.0 |\n",
       "| n1 | 32.0 |\n",
       "| n1 | 33.0 |\n",
       "| n1 | 11.5 |\n",
       "| n1 | 23.5 |\n",
       "| n1 | 16.0 |\n",
       "| n1 | 28.5 |\n",
       "| n2 |  7.0 |\n",
       "| n2 | 20.0 |\n",
       "| n2 | 25.5 |\n",
       "| n2 | 28.5 |\n",
       "| n2 |  5.5 |\n",
       "| n2 | 13.5 |\n",
       "| n2 | 11.5 |\n",
       "| n2 | 20.0 |\n",
       "| n3 |  3.0 |\n",
       "| n3 |  8.5 |\n",
       "| n3 | 25.5 |\n",
       "| n3 | 16.0 |\n",
       "| n3 |  5.5 |\n",
       "| n3 |  1.5 |\n",
       "| n3 |  8.5 |\n",
       "| n3 | 20.0 |\n",
       "| n3 | 10.0 |\n",
       "| n3 | 20.0 |\n",
       "| n4 | 13.5 |\n",
       "| n4 |  1.5 |\n",
       "| n4 | 23.5 |\n",
       "| n4 |  4.0 |\n",
       "| n4 | 30.0 |\n",
       "| n4 | 16.0 |\n",
       "\n"
      ],
      "text/plain": [
       "   grupa ranga\n",
       "1  n1    31.0 \n",
       "2  n1    20.0 \n",
       "3  n1    27.0 \n",
       "4  n1    32.0 \n",
       "5  n1    33.0 \n",
       "6  n1    11.5 \n",
       "7  n1    23.5 \n",
       "8  n1    16.0 \n",
       "9  n1    28.5 \n",
       "10 n2     7.0 \n",
       "11 n2    20.0 \n",
       "12 n2    25.5 \n",
       "13 n2    28.5 \n",
       "14 n2     5.5 \n",
       "15 n2    13.5 \n",
       "16 n2    11.5 \n",
       "17 n2    20.0 \n",
       "18 n3     3.0 \n",
       "19 n3     8.5 \n",
       "20 n3    25.5 \n",
       "21 n3    16.0 \n",
       "22 n3     5.5 \n",
       "23 n3     1.5 \n",
       "24 n3     8.5 \n",
       "25 n3    20.0 \n",
       "26 n3    10.0 \n",
       "27 n3    20.0 \n",
       "28 n4    13.5 \n",
       "29 n4     1.5 \n",
       "30 n4    23.5 \n",
       "31 n4     4.0 \n",
       "32 n4    30.0 \n",
       "33 n4    16.0 "
      ]
     },
     "metadata": {},
     "output_type": "display_data"
    }
   ],
   "source": [
    "df_rangi"
   ]
  },
  {
   "cell_type": "code",
   "execution_count": 58,
   "id": "355d7376-872b-406d-80f4-643b1340aaaa",
   "metadata": {},
   "outputs": [],
   "source": [
    "srednie_rangi <- aggregate(ranga ~ grupa, data = df_rangi, FUN = mean)"
   ]
  },
  {
   "cell_type": "code",
   "execution_count": 59,
   "id": "90fe3f8f-8b33-476b-935b-5cee23b173c0",
   "metadata": {},
   "outputs": [
    {
     "data": {
      "text/html": [
       "<table class=\"dataframe\">\n",
       "<caption>A data.frame: 4 × 2</caption>\n",
       "<thead>\n",
       "\t<tr><th scope=col>grupa</th><th scope=col>ranga</th></tr>\n",
       "\t<tr><th scope=col>&lt;fct&gt;</th><th scope=col>&lt;dbl&gt;</th></tr>\n",
       "</thead>\n",
       "<tbody>\n",
       "\t<tr><td>n1</td><td>24.72222</td></tr>\n",
       "\t<tr><td>n2</td><td>16.43750</td></tr>\n",
       "\t<tr><td>n3</td><td>11.85000</td></tr>\n",
       "\t<tr><td>n4</td><td>14.75000</td></tr>\n",
       "</tbody>\n",
       "</table>\n"
      ],
      "text/latex": [
       "A data.frame: 4 × 2\n",
       "\\begin{tabular}{ll}\n",
       " grupa & ranga\\\\\n",
       " <fct> & <dbl>\\\\\n",
       "\\hline\n",
       "\t n1 & 24.72222\\\\\n",
       "\t n2 & 16.43750\\\\\n",
       "\t n3 & 11.85000\\\\\n",
       "\t n4 & 14.75000\\\\\n",
       "\\end{tabular}\n"
      ],
      "text/markdown": [
       "\n",
       "A data.frame: 4 × 2\n",
       "\n",
       "| grupa &lt;fct&gt; | ranga &lt;dbl&gt; |\n",
       "|---|---|\n",
       "| n1 | 24.72222 |\n",
       "| n2 | 16.43750 |\n",
       "| n3 | 11.85000 |\n",
       "| n4 | 14.75000 |\n",
       "\n"
      ],
      "text/plain": [
       "  grupa ranga   \n",
       "1 n1    24.72222\n",
       "2 n2    16.43750\n",
       "3 n3    11.85000\n",
       "4 n4    14.75000"
      ]
     },
     "metadata": {},
     "output_type": "display_data"
    }
   ],
   "source": [
    "srednie_rangi"
   ]
  },
  {
   "cell_type": "markdown",
   "id": "ff69d705-6c63-454e-84c8-76fdeedd77d8",
   "metadata": {},
   "source": [
    "### Z3.b Wnioski Średnie rangi dla każdej grupy nawozu\n",
    "\n",
    "Najwyższą średnią rangę uzyskała grupa **n1**, co oznacza, że ta grupa miała generalnie **wyższe plony** niż pozostałe. \n",
    "Najniższą rangę uzyskała grupa **n3**, co sugeruje, że dawała najniższe plony.\n",
    "\n",
    "Co potwierdza wynik testu Kruskala-Wallisa oraz jego interpretację z części [Z3a Wynik](#z3a-wnioski)\n",
    "\n",
    "**Wilcoxon - które grupy się istotnie różniły?**\n"
   ]
  },
  {
   "cell_type": "markdown",
   "id": "01d7d408-8fc3-4851-b747-94be00448bc9",
   "metadata": {},
   "source": [
    "## Zadanie 4 : Charakter losowości i niezależność cyfr\n",
    "\n",
    "### Polecenie:\n",
    "\n",
    "**(a)**\n",
    "Zbadać, czy poniższa próbka ma charakter losowy.\n",
    "\n",
    "**(b)**\n",
    "Niech X będzie pierwszą, a Y drugą cyfrą w rozważanych liczbach. Zbadać, czy X i Y są statystycznie niezależne.\n",
    "\n",
    "**Dane (próbka losowa):**\n",
    "\n",
    "\n",
    "---\n",
    "\n",
    "35, 60, 148, 75, 92, 243, 37, 48, 95, 740, 154, 292, 334, 421, 15, 87, 36, 302, 250, 82, 101, 336, 230, 672, 55, 65, 17, 102, 21, 304, 640, 25, 354, 85, 340, 395, 720, 407, 230, 84, 14, 26, 35, 458, 370, 483, 310, 75, 300, 435, 92, 180, 405, 66, 315, 40, 532, 326, 604, 157, 640, 45, 31, 258, 625, 152, 193, 32, 488, 166, 10, 307, 260, 85, 450, 62, 345, 71, 165, 251, 236, 354, 58, 320, 81, 71, 45, 310, 345, 127, 476, 420, 150, 23, 48, 60, 95, 470, 92, 67, 325, 45, 157, 385, 125, 357, 582, 393, 175, 86, 830, 650, 40\n",
    "\n",
    "---\n",
    "\n"
   ]
  },
  {
   "cell_type": "markdown",
   "id": "e72b8542-f081-49fd-9ee0-fca629fab3f7",
   "metadata": {},
   "source": [
    "### Z4.a Zbadać czy próbka ma charakter losowy?\n",
    "\n",
    "Benford? histogram?"
   ]
  },
  {
   "cell_type": "code",
   "execution_count": 61,
   "id": "a71b6063-054f-4e05-829b-24754288eaf4",
   "metadata": {},
   "outputs": [],
   "source": [
    "x <- c(35, 60, 148, 75, 92, 243, 37, 48, 95, 740, 154, 292, 334, 421, 15,\n",
    "       87, 36, 302, 250, 82, 101, 336, 230, 672, 55, 65, 17, 102, 21,\n",
    "       304, 640, 25, 354, 85, 340, 395, 720, 407, 230, 84, 14, 26, 35,\n",
    "       458, 370, 483, 310, 75, 300, 435, 92, 180, 405, 66, 315, 40, 532,\n",
    "       326, 604, 157, 640, 45, 31, 258, 625, 152, 193, 32, 488, 166, 10,\n",
    "       307, 260, 85, 450, 62, 345, 71, 165, 251, 236, 354, 58, 320, 81,\n",
    "       71, 45, 310, 345, 127, 476, 420, 150, 23, 48, 60, 95, 470, 92,\n",
    "       67, 325, 45, 157, 385, 125, 357, 582, 393, 175, 86, 830, 650, 40)"
   ]
  },
  {
   "cell_type": "code",
   "execution_count": 62,
   "id": "458bc106-7559-418d-86a6-841d12116a1f",
   "metadata": {},
   "outputs": [],
   "source": [
    "# Benford\n",
    "# Pierwsza cyfra\n",
    "pierwsze_cyfry <- as.numeric(substring(as.character(x), 1, 1))"
   ]
  },
  {
   "cell_type": "code",
   "execution_count": 63,
   "id": "00c8b630-c19d-4652-bdcb-b8b19db87d4a",
   "metadata": {},
   "outputs": [
    {
     "data": {
      "text/html": [
       "<style>\n",
       ".list-inline {list-style: none; margin:0; padding: 0}\n",
       ".list-inline>li {display: inline-block}\n",
       ".list-inline>li:not(:last-child)::after {content: \"\\00b7\"; padding: 0 .5ex}\n",
       "</style>\n",
       "<ol class=list-inline><li>3</li><li>6</li><li>1</li><li>7</li><li>9</li><li>2</li><li>3</li><li>4</li><li>9</li><li>7</li><li>1</li><li>2</li><li>3</li><li>4</li><li>1</li><li>8</li><li>3</li><li>3</li><li>2</li><li>8</li><li>1</li><li>3</li><li>2</li><li>6</li><li>5</li><li>6</li><li>1</li><li>1</li><li>2</li><li>3</li><li>6</li><li>2</li><li>3</li><li>8</li><li>3</li><li>3</li><li>7</li><li>4</li><li>2</li><li>8</li><li>1</li><li>2</li><li>3</li><li>4</li><li>3</li><li>4</li><li>3</li><li>7</li><li>3</li><li>4</li><li>9</li><li>1</li><li>4</li><li>6</li><li>3</li><li>4</li><li>5</li><li>3</li><li>6</li><li>1</li><li>6</li><li>4</li><li>3</li><li>2</li><li>6</li><li>1</li><li>1</li><li>3</li><li>4</li><li>1</li><li>1</li><li>3</li><li>2</li><li>8</li><li>4</li><li>6</li><li>3</li><li>7</li><li>1</li><li>2</li><li>2</li><li>3</li><li>5</li><li>3</li><li>8</li><li>7</li><li>4</li><li>3</li><li>3</li><li>1</li><li>4</li><li>4</li><li>1</li><li>2</li><li>4</li><li>6</li><li>9</li><li>4</li><li>9</li><li>6</li><li>3</li><li>4</li><li>1</li><li>3</li><li>1</li><li>3</li><li>5</li><li>3</li><li>1</li><li>8</li><li>8</li><li>6</li><li>4</li></ol>\n"
      ],
      "text/latex": [
       "\\begin{enumerate*}\n",
       "\\item 3\n",
       "\\item 6\n",
       "\\item 1\n",
       "\\item 7\n",
       "\\item 9\n",
       "\\item 2\n",
       "\\item 3\n",
       "\\item 4\n",
       "\\item 9\n",
       "\\item 7\n",
       "\\item 1\n",
       "\\item 2\n",
       "\\item 3\n",
       "\\item 4\n",
       "\\item 1\n",
       "\\item 8\n",
       "\\item 3\n",
       "\\item 3\n",
       "\\item 2\n",
       "\\item 8\n",
       "\\item 1\n",
       "\\item 3\n",
       "\\item 2\n",
       "\\item 6\n",
       "\\item 5\n",
       "\\item 6\n",
       "\\item 1\n",
       "\\item 1\n",
       "\\item 2\n",
       "\\item 3\n",
       "\\item 6\n",
       "\\item 2\n",
       "\\item 3\n",
       "\\item 8\n",
       "\\item 3\n",
       "\\item 3\n",
       "\\item 7\n",
       "\\item 4\n",
       "\\item 2\n",
       "\\item 8\n",
       "\\item 1\n",
       "\\item 2\n",
       "\\item 3\n",
       "\\item 4\n",
       "\\item 3\n",
       "\\item 4\n",
       "\\item 3\n",
       "\\item 7\n",
       "\\item 3\n",
       "\\item 4\n",
       "\\item 9\n",
       "\\item 1\n",
       "\\item 4\n",
       "\\item 6\n",
       "\\item 3\n",
       "\\item 4\n",
       "\\item 5\n",
       "\\item 3\n",
       "\\item 6\n",
       "\\item 1\n",
       "\\item 6\n",
       "\\item 4\n",
       "\\item 3\n",
       "\\item 2\n",
       "\\item 6\n",
       "\\item 1\n",
       "\\item 1\n",
       "\\item 3\n",
       "\\item 4\n",
       "\\item 1\n",
       "\\item 1\n",
       "\\item 3\n",
       "\\item 2\n",
       "\\item 8\n",
       "\\item 4\n",
       "\\item 6\n",
       "\\item 3\n",
       "\\item 7\n",
       "\\item 1\n",
       "\\item 2\n",
       "\\item 2\n",
       "\\item 3\n",
       "\\item 5\n",
       "\\item 3\n",
       "\\item 8\n",
       "\\item 7\n",
       "\\item 4\n",
       "\\item 3\n",
       "\\item 3\n",
       "\\item 1\n",
       "\\item 4\n",
       "\\item 4\n",
       "\\item 1\n",
       "\\item 2\n",
       "\\item 4\n",
       "\\item 6\n",
       "\\item 9\n",
       "\\item 4\n",
       "\\item 9\n",
       "\\item 6\n",
       "\\item 3\n",
       "\\item 4\n",
       "\\item 1\n",
       "\\item 3\n",
       "\\item 1\n",
       "\\item 3\n",
       "\\item 5\n",
       "\\item 3\n",
       "\\item 1\n",
       "\\item 8\n",
       "\\item 8\n",
       "\\item 6\n",
       "\\item 4\n",
       "\\end{enumerate*}\n"
      ],
      "text/markdown": [
       "1. 3\n",
       "2. 6\n",
       "3. 1\n",
       "4. 7\n",
       "5. 9\n",
       "6. 2\n",
       "7. 3\n",
       "8. 4\n",
       "9. 9\n",
       "10. 7\n",
       "11. 1\n",
       "12. 2\n",
       "13. 3\n",
       "14. 4\n",
       "15. 1\n",
       "16. 8\n",
       "17. 3\n",
       "18. 3\n",
       "19. 2\n",
       "20. 8\n",
       "21. 1\n",
       "22. 3\n",
       "23. 2\n",
       "24. 6\n",
       "25. 5\n",
       "26. 6\n",
       "27. 1\n",
       "28. 1\n",
       "29. 2\n",
       "30. 3\n",
       "31. 6\n",
       "32. 2\n",
       "33. 3\n",
       "34. 8\n",
       "35. 3\n",
       "36. 3\n",
       "37. 7\n",
       "38. 4\n",
       "39. 2\n",
       "40. 8\n",
       "41. 1\n",
       "42. 2\n",
       "43. 3\n",
       "44. 4\n",
       "45. 3\n",
       "46. 4\n",
       "47. 3\n",
       "48. 7\n",
       "49. 3\n",
       "50. 4\n",
       "51. 9\n",
       "52. 1\n",
       "53. 4\n",
       "54. 6\n",
       "55. 3\n",
       "56. 4\n",
       "57. 5\n",
       "58. 3\n",
       "59. 6\n",
       "60. 1\n",
       "61. 6\n",
       "62. 4\n",
       "63. 3\n",
       "64. 2\n",
       "65. 6\n",
       "66. 1\n",
       "67. 1\n",
       "68. 3\n",
       "69. 4\n",
       "70. 1\n",
       "71. 1\n",
       "72. 3\n",
       "73. 2\n",
       "74. 8\n",
       "75. 4\n",
       "76. 6\n",
       "77. 3\n",
       "78. 7\n",
       "79. 1\n",
       "80. 2\n",
       "81. 2\n",
       "82. 3\n",
       "83. 5\n",
       "84. 3\n",
       "85. 8\n",
       "86. 7\n",
       "87. 4\n",
       "88. 3\n",
       "89. 3\n",
       "90. 1\n",
       "91. 4\n",
       "92. 4\n",
       "93. 1\n",
       "94. 2\n",
       "95. 4\n",
       "96. 6\n",
       "97. 9\n",
       "98. 4\n",
       "99. 9\n",
       "100. 6\n",
       "101. 3\n",
       "102. 4\n",
       "103. 1\n",
       "104. 3\n",
       "105. 1\n",
       "106. 3\n",
       "107. 5\n",
       "108. 3\n",
       "109. 1\n",
       "110. 8\n",
       "111. 8\n",
       "112. 6\n",
       "113. 4\n",
       "\n",
       "\n"
      ],
      "text/plain": [
       "  [1] 3 6 1 7 9 2 3 4 9 7 1 2 3 4 1 8 3 3 2 8 1 3 2 6 5 6 1 1 2 3 6 2 3 8 3 3 7\n",
       " [38] 4 2 8 1 2 3 4 3 4 3 7 3 4 9 1 4 6 3 4 5 3 6 1 6 4 3 2 6 1 1 3 4 1 1 3 2 8\n",
       " [75] 4 6 3 7 1 2 2 3 5 3 8 7 4 3 3 1 4 4 1 2 4 6 9 4 9 6 3 4 1 3 1 3 5 3 1 8 8\n",
       "[112] 6 4"
      ]
     },
     "metadata": {},
     "output_type": "display_data"
    }
   ],
   "source": [
    "pierwsze_cyfry "
   ]
  },
  {
   "cell_type": "code",
   "execution_count": 64,
   "id": "4ca39788-d1e0-4330-86d3-8d0268dcf94a",
   "metadata": {},
   "outputs": [],
   "source": [
    "obs <- table(factor(pierwsze_cyfry, levels = 1:9))"
   ]
  },
  {
   "cell_type": "code",
   "execution_count": 66,
   "id": "4adc4332-4a0a-40a1-8930-dec124b61ece",
   "metadata": {},
   "outputs": [
    {
     "data": {
      "text/plain": [
       "\n",
       " 1  2  3  4  5  6  7  8  9 \n",
       "19 13 28 18  4 12  6  8  5 "
      ]
     },
     "metadata": {},
     "output_type": "display_data"
    }
   ],
   "source": [
    "obs"
   ]
  },
  {
   "cell_type": "code",
   "execution_count": 67,
   "id": "d9ff4360-10ee-44c5-b202-936d7925692d",
   "metadata": {},
   "outputs": [],
   "source": [
    "# Warunki\n",
    "# teoretyczne wystąpienie pierwszych cyfr\n",
    "benford_probs <- log10(1 + 1 / (1:9))"
   ]
  },
  {
   "cell_type": "code",
   "execution_count": 68,
   "id": "97ed639b-d58d-49be-861a-172a4bb5755f",
   "metadata": {},
   "outputs": [
    {
     "data": {
      "text/html": [
       "<style>\n",
       ".list-inline {list-style: none; margin:0; padding: 0}\n",
       ".list-inline>li {display: inline-block}\n",
       ".list-inline>li:not(:last-child)::after {content: \"\\00b7\"; padding: 0 .5ex}\n",
       "</style>\n",
       "<ol class=list-inline><li>0.301029995663981</li><li>0.176091259055681</li><li>0.1249387366083</li><li>0.0969100130080564</li><li>0.0791812460476248</li><li>0.0669467896306132</li><li>0.0579919469776867</li><li>0.0511525224473813</li><li>0.0457574905606751</li></ol>\n"
      ],
      "text/latex": [
       "\\begin{enumerate*}\n",
       "\\item 0.301029995663981\n",
       "\\item 0.176091259055681\n",
       "\\item 0.1249387366083\n",
       "\\item 0.0969100130080564\n",
       "\\item 0.0791812460476248\n",
       "\\item 0.0669467896306132\n",
       "\\item 0.0579919469776867\n",
       "\\item 0.0511525224473813\n",
       "\\item 0.0457574905606751\n",
       "\\end{enumerate*}\n"
      ],
      "text/markdown": [
       "1. 0.301029995663981\n",
       "2. 0.176091259055681\n",
       "3. 0.1249387366083\n",
       "4. 0.0969100130080564\n",
       "5. 0.0791812460476248\n",
       "6. 0.0669467896306132\n",
       "7. 0.0579919469776867\n",
       "8. 0.0511525224473813\n",
       "9. 0.0457574905606751\n",
       "\n",
       "\n"
      ],
      "text/plain": [
       "[1] 0.30103000 0.17609126 0.12493874 0.09691001 0.07918125 0.06694679 0.05799195\n",
       "[8] 0.05115252 0.04575749"
      ]
     },
     "metadata": {},
     "output_type": "display_data"
    }
   ],
   "source": [
    "benford_probs"
   ]
  },
  {
   "cell_type": "code",
   "execution_count": 69,
   "id": "01e2b19b-a101-4485-a0ab-58d072d630ae",
   "metadata": {},
   "outputs": [],
   "source": [
    "# liczności\n",
    "exp <- benford_probs * length(x)"
   ]
  },
  {
   "cell_type": "code",
   "execution_count": 70,
   "id": "7d3adf2d-970a-4da8-a4b2-632755f0fbeb",
   "metadata": {},
   "outputs": [
    {
     "data": {
      "text/html": [
       "<style>\n",
       ".list-inline {list-style: none; margin:0; padding: 0}\n",
       ".list-inline>li {display: inline-block}\n",
       ".list-inline>li:not(:last-child)::after {content: \"\\00b7\"; padding: 0 .5ex}\n",
       "</style>\n",
       "<ol class=list-inline><li>34.0163895100299</li><li>19.898312273292</li><li>14.1180772367379</li><li>10.9508314699104</li><li>8.9474808033816</li><li>7.56498722825929</li><li>6.5530900084786</li><li>5.78023503655409</li><li>5.17059643335629</li></ol>\n"
      ],
      "text/latex": [
       "\\begin{enumerate*}\n",
       "\\item 34.0163895100299\n",
       "\\item 19.898312273292\n",
       "\\item 14.1180772367379\n",
       "\\item 10.9508314699104\n",
       "\\item 8.9474808033816\n",
       "\\item 7.56498722825929\n",
       "\\item 6.5530900084786\n",
       "\\item 5.78023503655409\n",
       "\\item 5.17059643335629\n",
       "\\end{enumerate*}\n"
      ],
      "text/markdown": [
       "1. 34.0163895100299\n",
       "2. 19.898312273292\n",
       "3. 14.1180772367379\n",
       "4. 10.9508314699104\n",
       "5. 8.9474808033816\n",
       "6. 7.56498722825929\n",
       "7. 6.5530900084786\n",
       "8. 5.78023503655409\n",
       "9. 5.17059643335629\n",
       "\n",
       "\n"
      ],
      "text/plain": [
       "[1] 34.016390 19.898312 14.118077 10.950831  8.947481  7.564987  6.553090\n",
       "[8]  5.780235  5.170596"
      ]
     },
     "metadata": {},
     "output_type": "display_data"
    }
   ],
   "source": [
    "exp"
   ]
  },
  {
   "cell_type": "code",
   "execution_count": 71,
   "id": "1f7db6d0-9206-4f7b-b05f-9f296ea12954",
   "metadata": {},
   "outputs": [
    {
     "data": {
      "text/plain": [
       "\n",
       "\tChi-squared test for given probabilities\n",
       "\n",
       "data:  obs\n",
       "X-squared = 33.448, df = 8, p-value = 5.112e-05\n"
      ]
     },
     "metadata": {},
     "output_type": "display_data"
    }
   ],
   "source": [
    "chisq.test(x = obs, p = benford_probs, rescale.p = TRUE)"
   ]
  },
  {
   "cell_type": "code",
   "execution_count": 72,
   "id": "3d825661-7486-47c2-b5c7-aab8fa81139c",
   "metadata": {},
   "outputs": [
    {
     "data": {
      "image/png": "[encoded data removed]",
      "text/plain": [
       "Plot with title “Rozkład pierwszych cyfr vs prawo Benforda”"
      ]
     },
     "metadata": {
      "image/png": {
       "height": 420,
       "width": 420
      }
     },
     "output_type": "display_data"
    }
   ],
   "source": [
    "barplot(rbind(obs, round(exp)),\n",
    "        beside = TRUE, col = c(\"skyblue\", \"orange\"),\n",
    "        names.arg = 1:9, legend = c(\"Obserwowane\", \"Benford\"),\n",
    "        main = \"Rozkład pierwszych cyfr vs prawo Benforda\",\n",
    "        ylab = \"Liczność\")"
   ]
  },
  {
   "cell_type": "code",
   "execution_count": 77,
   "id": "cb7d6a2e-0cbb-4562-ba35-a0e2ea1be2b5",
   "metadata": {},
   "outputs": [
    {
     "name": "stderr",
     "output_type": "stream",
     "text": [
      "Installing package into ‘/home/kotmin/R/x86_64-pc-linux-gnu-library/4.5’\n",
      "(as ‘lib’ is unspecified)\n",
      "\n",
      "also installing the dependency ‘proxy’\n",
      "\n",
      "\n"
     ]
    }
   ],
   "source": [
    "install.packages(\"e1071\")"
   ]
  },
  {
   "cell_type": "code",
   "execution_count": 78,
   "id": "2b904078-eaf8-4a84-9efe-1adcac267817",
   "metadata": {},
   "outputs": [
    {
     "data": {
      "text/html": [
       "<table class=\"dataframe\">\n",
       "<caption>A data.frame: 1 × 5</caption>\n",
       "<thead>\n",
       "\t<tr><th scope=col>Średnia</th><th scope=col>Mediana</th><th scope=col>POM_10proc</th><th scope=col>Odchylenie</th><th scope=col>Skośność</th></tr>\n",
       "\t<tr><th scope=col>&lt;dbl&gt;</th><th scope=col>&lt;dbl&gt;</th><th scope=col>&lt;dbl&gt;</th><th scope=col>&lt;dbl&gt;</th><th scope=col>&lt;dbl&gt;</th></tr>\n",
       "</thead>\n",
       "<tbody>\n",
       "\t<tr><td>235.27</td><td>166</td><td>209.91</td><td>197.8</td><td>0.88</td></tr>\n",
       "</tbody>\n",
       "</table>\n"
      ],
      "text/latex": [
       "A data.frame: 1 × 5\n",
       "\\begin{tabular}{lllll}\n",
       " Średnia & Mediana & POM\\_10proc & Odchylenie & Skośność\\\\\n",
       " <dbl> & <dbl> & <dbl> & <dbl> & <dbl>\\\\\n",
       "\\hline\n",
       "\t 235.27 & 166 & 209.91 & 197.8 & 0.88\\\\\n",
       "\\end{tabular}\n"
      ],
      "text/markdown": [
       "\n",
       "A data.frame: 1 × 5\n",
       "\n",
       "| Średnia &lt;dbl&gt; | Mediana &lt;dbl&gt; | POM_10proc &lt;dbl&gt; | Odchylenie &lt;dbl&gt; | Skośność &lt;dbl&gt; |\n",
       "|---|---|---|---|---|\n",
       "| 235.27 | 166 | 209.91 | 197.8 | 0.88 |\n",
       "\n"
      ],
      "text/plain": [
       "  Średnia Mediana POM_10proc Odchylenie Skośność\n",
       "1 235.27  166     209.91     197.8      0.88    "
      ]
     },
     "metadata": {},
     "output_type": "display_data"
    }
   ],
   "source": [
    "# POM\n",
    "\n",
    "srednia <- mean(x)\n",
    "mediana <- median(x)\n",
    "wariancja <- var(x)\n",
    "odchylenie <- sd(x)\n",
    "\n",
    "\n",
    "library(e1071)\n",
    "skosnosc <- skewness(x)\n",
    "\n",
    "\n",
    "pom <- mean(x, trim = 0.1)\n",
    "\n",
    "\n",
    "data.frame(\n",
    "  Średnia = round(srednia, 2),\n",
    "  Mediana = round(mediana, 2),\n",
    "  POM_10proc = round(pom, 2),\n",
    "  Odchylenie = round(odchylenie, 2),\n",
    "  Skośność = round(skosnosc, 2)\n",
    ")\n"
   ]
  },
  {
   "cell_type": "code",
   "execution_count": 80,
   "id": "b5d11a28-fabe-4bb2-a322-7f12cd7a3586",
   "metadata": {},
   "outputs": [
    {
     "data": {
      "image/png": "[encoded data removed]",
      "text/plain": [
       "Plot with title “Histogram próby – losowej?”"
      ]
     },
     "metadata": {
      "image/png": {
       "height": 420,
       "width": 420
      }
     },
     "output_type": "display_data"
    }
   ],
   "source": [
    "## dodatkowo możemy zrobić histogram\n",
    "\n",
    "hist(x,\n",
    "     breaks = 30,\n",
    "     col = \"skyblue\",\n",
    "     main = \"Histogram próby – losowej?\",\n",
    "     xlab = \"Wartości\",\n",
    "     ylab = \"Liczność\")\n",
    "\n",
    "# Dodajemy linię średniej\n",
    "abline(v = mean(x), col = \"red\", lwd = 2, lty = 2)\n",
    "\n",
    "# Dodajemy linię mediany\n",
    "abline(v = median(x), col = \"darkgreen\", lwd = 2, lty = 3)\n",
    "\n",
    "# Legenda\n",
    "legend(\"topright\",\n",
    "       legend = c(\"Średnia\", \"Mediana\"),\n",
    "       col = c(\"red\", \"darkgreen\"),\n",
    "       lwd = 2,\n",
    "       lty = c(2, 3))"
   ]
  },
  {
   "cell_type": "markdown",
   "id": "0b4ce3e0-9e7f-4ea2-bbc2-6d0ba6b05122",
   "metadata": {},
   "source": [
    "### 4a Wnioski\n",
    "\n",
    "Zostały sprawdzone warunki czy można wykonać testy zgodności z prawem Benforda.\n",
    "\n",
    "Rozkład jest skośny dodatnio(prawostronnie) średnia > mediana.\n",
    "\n",
    "Wysoka wartość współczynnika skośności i spora różnica między średnią, a medianą sugerują, że dane są **silnie niesymetryczne** i mogą pochodzić z próbki zdominowanej przez duże wartości.\n",
    "\n",
    "**Wniosek z testu zgodności z prawem Benforda:**\n",
    "Test chi-kwadrat dał wynik:\n",
    "data:  obs\n",
    "X-squared = 33.448, df = 8, p-value = 5.112e-05\n",
    "\n",
    "Odrzucamy hipotezę zgodności z rozkładem Benforda – dane **nie mają losowego charakteru**\n",
    "\n",
    "Histogram, linie statystyk, klasyczne statystyki opisowe, obserwowana dodatnia skośność oraz test Benforda jednoznacznie wskazują, że dane **nie są naturalnie rozłożone ani całkiem losowe**.\n"
   ]
  },
  {
   "cell_type": "markdown",
   "id": "d47a98b1-8eff-4340-8536-aeeb8616431d",
   "metadata": {},
   "source": [
    "### Z4.b XY statystycznie niezależne"
   ]
  },
  {
   "cell_type": "code",
   "execution_count": 120,
   "id": "38de3c3e-ab53-4e0c-8725-0779dbe6c4a5",
   "metadata": {},
   "outputs": [],
   "source": [
    "# polecenie mówiło o cyfrach - chcemy mieć możliwość uzyskania X oraz Y\n",
    "x_filtr <- x[x >= 10]"
   ]
  },
  {
   "cell_type": "code",
   "execution_count": 121,
   "id": "0b490216-9f29-4f2b-ba72-5ee0340d6583",
   "metadata": {},
   "outputs": [
    {
     "data": {
      "text/html": [
       "<style>\n",
       ".list-inline {list-style: none; margin:0; padding: 0}\n",
       ".list-inline>li {display: inline-block}\n",
       ".list-inline>li:not(:last-child)::after {content: \"\\00b7\"; padding: 0 .5ex}\n",
       "</style>\n",
       "<ol class=list-inline><li>35</li><li>60</li><li>148</li><li>75</li><li>92</li><li>243</li><li>37</li><li>48</li><li>95</li><li>740</li><li>154</li><li>292</li><li>334</li><li>421</li><li>15</li><li>87</li><li>36</li><li>302</li><li>250</li><li>82</li><li>101</li><li>336</li><li>230</li><li>672</li><li>55</li><li>65</li><li>17</li><li>102</li><li>21</li><li>304</li><li>640</li><li>25</li><li>354</li><li>85</li><li>340</li><li>395</li><li>720</li><li>407</li><li>230</li><li>84</li><li>14</li><li>26</li><li>35</li><li>458</li><li>370</li><li>483</li><li>310</li><li>75</li><li>300</li><li>435</li><li>92</li><li>180</li><li>405</li><li>66</li><li>315</li><li>40</li><li>532</li><li>326</li><li>604</li><li>157</li><li>640</li><li>45</li><li>31</li><li>258</li><li>625</li><li>152</li><li>193</li><li>32</li><li>488</li><li>166</li><li>10</li><li>307</li><li>260</li><li>85</li><li>450</li><li>62</li><li>345</li><li>71</li><li>165</li><li>251</li><li>236</li><li>354</li><li>58</li><li>320</li><li>81</li><li>71</li><li>45</li><li>310</li><li>345</li><li>127</li><li>476</li><li>420</li><li>150</li><li>23</li><li>48</li><li>60</li><li>95</li><li>470</li><li>92</li><li>67</li><li>325</li><li>45</li><li>157</li><li>385</li><li>125</li><li>357</li><li>582</li><li>393</li><li>175</li><li>86</li><li>830</li><li>650</li><li>40</li></ol>\n"
      ],
      "text/latex": [
       "\\begin{enumerate*}\n",
       "\\item 35\n",
       "\\item 60\n",
       "\\item 148\n",
       "\\item 75\n",
       "\\item 92\n",
       "\\item 243\n",
       "\\item 37\n",
       "\\item 48\n",
       "\\item 95\n",
       "\\item 740\n",
       "\\item 154\n",
       "\\item 292\n",
       "\\item 334\n",
       "\\item 421\n",
       "\\item 15\n",
       "\\item 87\n",
       "\\item 36\n",
       "\\item 302\n",
       "\\item 250\n",
       "\\item 82\n",
       "\\item 101\n",
       "\\item 336\n",
       "\\item 230\n",
       "\\item 672\n",
       "\\item 55\n",
       "\\item 65\n",
       "\\item 17\n",
       "\\item 102\n",
       "\\item 21\n",
       "\\item 304\n",
       "\\item 640\n",
       "\\item 25\n",
       "\\item 354\n",
       "\\item 85\n",
       "\\item 340\n",
       "\\item 395\n",
       "\\item 720\n",
       "\\item 407\n",
       "\\item 230\n",
       "\\item 84\n",
       "\\item 14\n",
       "\\item 26\n",
       "\\item 35\n",
       "\\item 458\n",
       "\\item 370\n",
       "\\item 483\n",
       "\\item 310\n",
       "\\item 75\n",
       "\\item 300\n",
       "\\item 435\n",
       "\\item 92\n",
       "\\item 180\n",
       "\\item 405\n",
       "\\item 66\n",
       "\\item 315\n",
       "\\item 40\n",
       "\\item 532\n",
       "\\item 326\n",
       "\\item 604\n",
       "\\item 157\n",
       "\\item 640\n",
       "\\item 45\n",
       "\\item 31\n",
       "\\item 258\n",
       "\\item 625\n",
       "\\item 152\n",
       "\\item 193\n",
       "\\item 32\n",
       "\\item 488\n",
       "\\item 166\n",
       "\\item 10\n",
       "\\item 307\n",
       "\\item 260\n",
       "\\item 85\n",
       "\\item 450\n",
       "\\item 62\n",
       "\\item 345\n",
       "\\item 71\n",
       "\\item 165\n",
       "\\item 251\n",
       "\\item 236\n",
       "\\item 354\n",
       "\\item 58\n",
       "\\item 320\n",
       "\\item 81\n",
       "\\item 71\n",
       "\\item 45\n",
       "\\item 310\n",
       "\\item 345\n",
       "\\item 127\n",
       "\\item 476\n",
       "\\item 420\n",
       "\\item 150\n",
       "\\item 23\n",
       "\\item 48\n",
       "\\item 60\n",
       "\\item 95\n",
       "\\item 470\n",
       "\\item 92\n",
       "\\item 67\n",
       "\\item 325\n",
       "\\item 45\n",
       "\\item 157\n",
       "\\item 385\n",
       "\\item 125\n",
       "\\item 357\n",
       "\\item 582\n",
       "\\item 393\n",
       "\\item 175\n",
       "\\item 86\n",
       "\\item 830\n",
       "\\item 650\n",
       "\\item 40\n",
       "\\end{enumerate*}\n"
      ],
      "text/markdown": [
       "1. 35\n",
       "2. 60\n",
       "3. 148\n",
       "4. 75\n",
       "5. 92\n",
       "6. 243\n",
       "7. 37\n",
       "8. 48\n",
       "9. 95\n",
       "10. 740\n",
       "11. 154\n",
       "12. 292\n",
       "13. 334\n",
       "14. 421\n",
       "15. 15\n",
       "16. 87\n",
       "17. 36\n",
       "18. 302\n",
       "19. 250\n",
       "20. 82\n",
       "21. 101\n",
       "22. 336\n",
       "23. 230\n",
       "24. 672\n",
       "25. 55\n",
       "26. 65\n",
       "27. 17\n",
       "28. 102\n",
       "29. 21\n",
       "30. 304\n",
       "31. 640\n",
       "32. 25\n",
       "33. 354\n",
       "34. 85\n",
       "35. 340\n",
       "36. 395\n",
       "37. 720\n",
       "38. 407\n",
       "39. 230\n",
       "40. 84\n",
       "41. 14\n",
       "42. 26\n",
       "43. 35\n",
       "44. 458\n",
       "45. 370\n",
       "46. 483\n",
       "47. 310\n",
       "48. 75\n",
       "49. 300\n",
       "50. 435\n",
       "51. 92\n",
       "52. 180\n",
       "53. 405\n",
       "54. 66\n",
       "55. 315\n",
       "56. 40\n",
       "57. 532\n",
       "58. 326\n",
       "59. 604\n",
       "60. 157\n",
       "61. 640\n",
       "62. 45\n",
       "63. 31\n",
       "64. 258\n",
       "65. 625\n",
       "66. 152\n",
       "67. 193\n",
       "68. 32\n",
       "69. 488\n",
       "70. 166\n",
       "71. 10\n",
       "72. 307\n",
       "73. 260\n",
       "74. 85\n",
       "75. 450\n",
       "76. 62\n",
       "77. 345\n",
       "78. 71\n",
       "79. 165\n",
       "80. 251\n",
       "81. 236\n",
       "82. 354\n",
       "83. 58\n",
       "84. 320\n",
       "85. 81\n",
       "86. 71\n",
       "87. 45\n",
       "88. 310\n",
       "89. 345\n",
       "90. 127\n",
       "91. 476\n",
       "92. 420\n",
       "93. 150\n",
       "94. 23\n",
       "95. 48\n",
       "96. 60\n",
       "97. 95\n",
       "98. 470\n",
       "99. 92\n",
       "100. 67\n",
       "101. 325\n",
       "102. 45\n",
       "103. 157\n",
       "104. 385\n",
       "105. 125\n",
       "106. 357\n",
       "107. 582\n",
       "108. 393\n",
       "109. 175\n",
       "110. 86\n",
       "111. 830\n",
       "112. 650\n",
       "113. 40\n",
       "\n",
       "\n"
      ],
      "text/plain": [
       "  [1]  35  60 148  75  92 243  37  48  95 740 154 292 334 421  15  87  36 302\n",
       " [19] 250  82 101 336 230 672  55  65  17 102  21 304 640  25 354  85 340 395\n",
       " [37] 720 407 230  84  14  26  35 458 370 483 310  75 300 435  92 180 405  66\n",
       " [55] 315  40 532 326 604 157 640  45  31 258 625 152 193  32 488 166  10 307\n",
       " [73] 260  85 450  62 345  71 165 251 236 354  58 320  81  71  45 310 345 127\n",
       " [91] 476 420 150  23  48  60  95 470  92  67 325  45 157 385 125 357 582 393\n",
       "[109] 175  86 830 650  40"
      ]
     },
     "metadata": {},
     "output_type": "display_data"
    }
   ],
   "source": [
    "x_filtr"
   ]
  },
  {
   "cell_type": "code",
   "execution_count": 122,
   "id": "ba910c3d-bedf-487d-a95c-ff1a36ba9d6a",
   "metadata": {},
   "outputs": [
    {
     "data": {
      "text/html": [
       "113"
      ],
      "text/latex": [
       "113"
      ],
      "text/markdown": [
       "113"
      ],
      "text/plain": [
       "[1] 113"
      ]
     },
     "metadata": {},
     "output_type": "display_data"
    }
   ],
   "source": [
    "length(x_filtr)"
   ]
  },
  {
   "cell_type": "code",
   "execution_count": 123,
   "id": "69041873-0ad4-44c2-b1a8-19cf3a53efcb",
   "metadata": {},
   "outputs": [],
   "source": [
    "cyfra_X <- as.numeric(substr(as.character(x_filtr), 1, 1))\n",
    "cyfra_Y <- as.numeric(substr(as.character(x_filtr), 2, 2))"
   ]
  },
  {
   "cell_type": "code",
   "execution_count": 124,
   "id": "21c0d271-04ee-4dee-bb88-f935f0215e8a",
   "metadata": {},
   "outputs": [
    {
     "data": {
      "text/html": [
       "<style>\n",
       ".list-inline {list-style: none; margin:0; padding: 0}\n",
       ".list-inline>li {display: inline-block}\n",
       ".list-inline>li:not(:last-child)::after {content: \"\\00b7\"; padding: 0 .5ex}\n",
       "</style>\n",
       "<ol class=list-inline><li>3</li><li>6</li><li>1</li><li>7</li><li>9</li><li>2</li><li>3</li><li>4</li><li>9</li><li>7</li><li>1</li><li>2</li><li>3</li><li>4</li><li>1</li><li>8</li><li>3</li><li>3</li><li>2</li><li>8</li><li>1</li><li>3</li><li>2</li><li>6</li><li>5</li><li>6</li><li>1</li><li>1</li><li>2</li><li>3</li><li>6</li><li>2</li><li>3</li><li>8</li><li>3</li><li>3</li><li>7</li><li>4</li><li>2</li><li>8</li><li>1</li><li>2</li><li>3</li><li>4</li><li>3</li><li>4</li><li>3</li><li>7</li><li>3</li><li>4</li><li>9</li><li>1</li><li>4</li><li>6</li><li>3</li><li>4</li><li>5</li><li>3</li><li>6</li><li>1</li><li>6</li><li>4</li><li>3</li><li>2</li><li>6</li><li>1</li><li>1</li><li>3</li><li>4</li><li>1</li><li>1</li><li>3</li><li>2</li><li>8</li><li>4</li><li>6</li><li>3</li><li>7</li><li>1</li><li>2</li><li>2</li><li>3</li><li>5</li><li>3</li><li>8</li><li>7</li><li>4</li><li>3</li><li>3</li><li>1</li><li>4</li><li>4</li><li>1</li><li>2</li><li>4</li><li>6</li><li>9</li><li>4</li><li>9</li><li>6</li><li>3</li><li>4</li><li>1</li><li>3</li><li>1</li><li>3</li><li>5</li><li>3</li><li>1</li><li>8</li><li>8</li><li>6</li><li>4</li></ol>\n"
      ],
      "text/latex": [
       "\\begin{enumerate*}\n",
       "\\item 3\n",
       "\\item 6\n",
       "\\item 1\n",
       "\\item 7\n",
       "\\item 9\n",
       "\\item 2\n",
       "\\item 3\n",
       "\\item 4\n",
       "\\item 9\n",
       "\\item 7\n",
       "\\item 1\n",
       "\\item 2\n",
       "\\item 3\n",
       "\\item 4\n",
       "\\item 1\n",
       "\\item 8\n",
       "\\item 3\n",
       "\\item 3\n",
       "\\item 2\n",
       "\\item 8\n",
       "\\item 1\n",
       "\\item 3\n",
       "\\item 2\n",
       "\\item 6\n",
       "\\item 5\n",
       "\\item 6\n",
       "\\item 1\n",
       "\\item 1\n",
       "\\item 2\n",
       "\\item 3\n",
       "\\item 6\n",
       "\\item 2\n",
       "\\item 3\n",
       "\\item 8\n",
       "\\item 3\n",
       "\\item 3\n",
       "\\item 7\n",
       "\\item 4\n",
       "\\item 2\n",
       "\\item 8\n",
       "\\item 1\n",
       "\\item 2\n",
       "\\item 3\n",
       "\\item 4\n",
       "\\item 3\n",
       "\\item 4\n",
       "\\item 3\n",
       "\\item 7\n",
       "\\item 3\n",
       "\\item 4\n",
       "\\item 9\n",
       "\\item 1\n",
       "\\item 4\n",
       "\\item 6\n",
       "\\item 3\n",
       "\\item 4\n",
       "\\item 5\n",
       "\\item 3\n",
       "\\item 6\n",
       "\\item 1\n",
       "\\item 6\n",
       "\\item 4\n",
       "\\item 3\n",
       "\\item 2\n",
       "\\item 6\n",
       "\\item 1\n",
       "\\item 1\n",
       "\\item 3\n",
       "\\item 4\n",
       "\\item 1\n",
       "\\item 1\n",
       "\\item 3\n",
       "\\item 2\n",
       "\\item 8\n",
       "\\item 4\n",
       "\\item 6\n",
       "\\item 3\n",
       "\\item 7\n",
       "\\item 1\n",
       "\\item 2\n",
       "\\item 2\n",
       "\\item 3\n",
       "\\item 5\n",
       "\\item 3\n",
       "\\item 8\n",
       "\\item 7\n",
       "\\item 4\n",
       "\\item 3\n",
       "\\item 3\n",
       "\\item 1\n",
       "\\item 4\n",
       "\\item 4\n",
       "\\item 1\n",
       "\\item 2\n",
       "\\item 4\n",
       "\\item 6\n",
       "\\item 9\n",
       "\\item 4\n",
       "\\item 9\n",
       "\\item 6\n",
       "\\item 3\n",
       "\\item 4\n",
       "\\item 1\n",
       "\\item 3\n",
       "\\item 1\n",
       "\\item 3\n",
       "\\item 5\n",
       "\\item 3\n",
       "\\item 1\n",
       "\\item 8\n",
       "\\item 8\n",
       "\\item 6\n",
       "\\item 4\n",
       "\\end{enumerate*}\n"
      ],
      "text/markdown": [
       "1. 3\n",
       "2. 6\n",
       "3. 1\n",
       "4. 7\n",
       "5. 9\n",
       "6. 2\n",
       "7. 3\n",
       "8. 4\n",
       "9. 9\n",
       "10. 7\n",
       "11. 1\n",
       "12. 2\n",
       "13. 3\n",
       "14. 4\n",
       "15. 1\n",
       "16. 8\n",
       "17. 3\n",
       "18. 3\n",
       "19. 2\n",
       "20. 8\n",
       "21. 1\n",
       "22. 3\n",
       "23. 2\n",
       "24. 6\n",
       "25. 5\n",
       "26. 6\n",
       "27. 1\n",
       "28. 1\n",
       "29. 2\n",
       "30. 3\n",
       "31. 6\n",
       "32. 2\n",
       "33. 3\n",
       "34. 8\n",
       "35. 3\n",
       "36. 3\n",
       "37. 7\n",
       "38. 4\n",
       "39. 2\n",
       "40. 8\n",
       "41. 1\n",
       "42. 2\n",
       "43. 3\n",
       "44. 4\n",
       "45. 3\n",
       "46. 4\n",
       "47. 3\n",
       "48. 7\n",
       "49. 3\n",
       "50. 4\n",
       "51. 9\n",
       "52. 1\n",
       "53. 4\n",
       "54. 6\n",
       "55. 3\n",
       "56. 4\n",
       "57. 5\n",
       "58. 3\n",
       "59. 6\n",
       "60. 1\n",
       "61. 6\n",
       "62. 4\n",
       "63. 3\n",
       "64. 2\n",
       "65. 6\n",
       "66. 1\n",
       "67. 1\n",
       "68. 3\n",
       "69. 4\n",
       "70. 1\n",
       "71. 1\n",
       "72. 3\n",
       "73. 2\n",
       "74. 8\n",
       "75. 4\n",
       "76. 6\n",
       "77. 3\n",
       "78. 7\n",
       "79. 1\n",
       "80. 2\n",
       "81. 2\n",
       "82. 3\n",
       "83. 5\n",
       "84. 3\n",
       "85. 8\n",
       "86. 7\n",
       "87. 4\n",
       "88. 3\n",
       "89. 3\n",
       "90. 1\n",
       "91. 4\n",
       "92. 4\n",
       "93. 1\n",
       "94. 2\n",
       "95. 4\n",
       "96. 6\n",
       "97. 9\n",
       "98. 4\n",
       "99. 9\n",
       "100. 6\n",
       "101. 3\n",
       "102. 4\n",
       "103. 1\n",
       "104. 3\n",
       "105. 1\n",
       "106. 3\n",
       "107. 5\n",
       "108. 3\n",
       "109. 1\n",
       "110. 8\n",
       "111. 8\n",
       "112. 6\n",
       "113. 4\n",
       "\n",
       "\n"
      ],
      "text/plain": [
       "  [1] 3 6 1 7 9 2 3 4 9 7 1 2 3 4 1 8 3 3 2 8 1 3 2 6 5 6 1 1 2 3 6 2 3 8 3 3 7\n",
       " [38] 4 2 8 1 2 3 4 3 4 3 7 3 4 9 1 4 6 3 4 5 3 6 1 6 4 3 2 6 1 1 3 4 1 1 3 2 8\n",
       " [75] 4 6 3 7 1 2 2 3 5 3 8 7 4 3 3 1 4 4 1 2 4 6 9 4 9 6 3 4 1 3 1 3 5 3 1 8 8\n",
       "[112] 6 4"
      ]
     },
     "metadata": {},
     "output_type": "display_data"
    }
   ],
   "source": [
    "cyfra_X "
   ]
  },
  {
   "cell_type": "code",
   "execution_count": 125,
   "id": "645382e5-7e69-4e8b-80cb-a88b51a7212d",
   "metadata": {},
   "outputs": [
    {
     "data": {
      "text/html": [
       "<style>\n",
       ".list-inline {list-style: none; margin:0; padding: 0}\n",
       ".list-inline>li {display: inline-block}\n",
       ".list-inline>li:not(:last-child)::after {content: \"\\00b7\"; padding: 0 .5ex}\n",
       "</style>\n",
       "<ol class=list-inline><li>5</li><li>0</li><li>4</li><li>5</li><li>2</li><li>4</li><li>7</li><li>8</li><li>5</li><li>4</li><li>5</li><li>9</li><li>3</li><li>2</li><li>5</li><li>7</li><li>6</li><li>0</li><li>5</li><li>2</li><li>0</li><li>3</li><li>3</li><li>7</li><li>5</li><li>5</li><li>7</li><li>0</li><li>1</li><li>0</li><li>4</li><li>5</li><li>5</li><li>5</li><li>4</li><li>9</li><li>2</li><li>0</li><li>3</li><li>4</li><li>4</li><li>6</li><li>5</li><li>5</li><li>7</li><li>8</li><li>1</li><li>5</li><li>0</li><li>3</li><li>2</li><li>8</li><li>0</li><li>6</li><li>1</li><li>0</li><li>3</li><li>2</li><li>0</li><li>5</li><li>4</li><li>5</li><li>1</li><li>5</li><li>2</li><li>5</li><li>9</li><li>2</li><li>8</li><li>6</li><li>0</li><li>0</li><li>6</li><li>5</li><li>5</li><li>2</li><li>4</li><li>1</li><li>6</li><li>5</li><li>3</li><li>5</li><li>8</li><li>2</li><li>1</li><li>1</li><li>5</li><li>1</li><li>4</li><li>2</li><li>7</li><li>2</li><li>5</li><li>3</li><li>8</li><li>0</li><li>5</li><li>7</li><li>2</li><li>7</li><li>2</li><li>5</li><li>5</li><li>8</li><li>2</li><li>5</li><li>8</li><li>9</li><li>7</li><li>6</li><li>3</li><li>5</li><li>0</li></ol>\n"
      ],
      "text/latex": [
       "\\begin{enumerate*}\n",
       "\\item 5\n",
       "\\item 0\n",
       "\\item 4\n",
       "\\item 5\n",
       "\\item 2\n",
       "\\item 4\n",
       "\\item 7\n",
       "\\item 8\n",
       "\\item 5\n",
       "\\item 4\n",
       "\\item 5\n",
       "\\item 9\n",
       "\\item 3\n",
       "\\item 2\n",
       "\\item 5\n",
       "\\item 7\n",
       "\\item 6\n",
       "\\item 0\n",
       "\\item 5\n",
       "\\item 2\n",
       "\\item 0\n",
       "\\item 3\n",
       "\\item 3\n",
       "\\item 7\n",
       "\\item 5\n",
       "\\item 5\n",
       "\\item 7\n",
       "\\item 0\n",
       "\\item 1\n",
       "\\item 0\n",
       "\\item 4\n",
       "\\item 5\n",
       "\\item 5\n",
       "\\item 5\n",
       "\\item 4\n",
       "\\item 9\n",
       "\\item 2\n",
       "\\item 0\n",
       "\\item 3\n",
       "\\item 4\n",
       "\\item 4\n",
       "\\item 6\n",
       "\\item 5\n",
       "\\item 5\n",
       "\\item 7\n",
       "\\item 8\n",
       "\\item 1\n",
       "\\item 5\n",
       "\\item 0\n",
       "\\item 3\n",
       "\\item 2\n",
       "\\item 8\n",
       "\\item 0\n",
       "\\item 6\n",
       "\\item 1\n",
       "\\item 0\n",
       "\\item 3\n",
       "\\item 2\n",
       "\\item 0\n",
       "\\item 5\n",
       "\\item 4\n",
       "\\item 5\n",
       "\\item 1\n",
       "\\item 5\n",
       "\\item 2\n",
       "\\item 5\n",
       "\\item 9\n",
       "\\item 2\n",
       "\\item 8\n",
       "\\item 6\n",
       "\\item 0\n",
       "\\item 0\n",
       "\\item 6\n",
       "\\item 5\n",
       "\\item 5\n",
       "\\item 2\n",
       "\\item 4\n",
       "\\item 1\n",
       "\\item 6\n",
       "\\item 5\n",
       "\\item 3\n",
       "\\item 5\n",
       "\\item 8\n",
       "\\item 2\n",
       "\\item 1\n",
       "\\item 1\n",
       "\\item 5\n",
       "\\item 1\n",
       "\\item 4\n",
       "\\item 2\n",
       "\\item 7\n",
       "\\item 2\n",
       "\\item 5\n",
       "\\item 3\n",
       "\\item 8\n",
       "\\item 0\n",
       "\\item 5\n",
       "\\item 7\n",
       "\\item 2\n",
       "\\item 7\n",
       "\\item 2\n",
       "\\item 5\n",
       "\\item 5\n",
       "\\item 8\n",
       "\\item 2\n",
       "\\item 5\n",
       "\\item 8\n",
       "\\item 9\n",
       "\\item 7\n",
       "\\item 6\n",
       "\\item 3\n",
       "\\item 5\n",
       "\\item 0\n",
       "\\end{enumerate*}\n"
      ],
      "text/markdown": [
       "1. 5\n",
       "2. 0\n",
       "3. 4\n",
       "4. 5\n",
       "5. 2\n",
       "6. 4\n",
       "7. 7\n",
       "8. 8\n",
       "9. 5\n",
       "10. 4\n",
       "11. 5\n",
       "12. 9\n",
       "13. 3\n",
       "14. 2\n",
       "15. 5\n",
       "16. 7\n",
       "17. 6\n",
       "18. 0\n",
       "19. 5\n",
       "20. 2\n",
       "21. 0\n",
       "22. 3\n",
       "23. 3\n",
       "24. 7\n",
       "25. 5\n",
       "26. 5\n",
       "27. 7\n",
       "28. 0\n",
       "29. 1\n",
       "30. 0\n",
       "31. 4\n",
       "32. 5\n",
       "33. 5\n",
       "34. 5\n",
       "35. 4\n",
       "36. 9\n",
       "37. 2\n",
       "38. 0\n",
       "39. 3\n",
       "40. 4\n",
       "41. 4\n",
       "42. 6\n",
       "43. 5\n",
       "44. 5\n",
       "45. 7\n",
       "46. 8\n",
       "47. 1\n",
       "48. 5\n",
       "49. 0\n",
       "50. 3\n",
       "51. 2\n",
       "52. 8\n",
       "53. 0\n",
       "54. 6\n",
       "55. 1\n",
       "56. 0\n",
       "57. 3\n",
       "58. 2\n",
       "59. 0\n",
       "60. 5\n",
       "61. 4\n",
       "62. 5\n",
       "63. 1\n",
       "64. 5\n",
       "65. 2\n",
       "66. 5\n",
       "67. 9\n",
       "68. 2\n",
       "69. 8\n",
       "70. 6\n",
       "71. 0\n",
       "72. 0\n",
       "73. 6\n",
       "74. 5\n",
       "75. 5\n",
       "76. 2\n",
       "77. 4\n",
       "78. 1\n",
       "79. 6\n",
       "80. 5\n",
       "81. 3\n",
       "82. 5\n",
       "83. 8\n",
       "84. 2\n",
       "85. 1\n",
       "86. 1\n",
       "87. 5\n",
       "88. 1\n",
       "89. 4\n",
       "90. 2\n",
       "91. 7\n",
       "92. 2\n",
       "93. 5\n",
       "94. 3\n",
       "95. 8\n",
       "96. 0\n",
       "97. 5\n",
       "98. 7\n",
       "99. 2\n",
       "100. 7\n",
       "101. 2\n",
       "102. 5\n",
       "103. 5\n",
       "104. 8\n",
       "105. 2\n",
       "106. 5\n",
       "107. 8\n",
       "108. 9\n",
       "109. 7\n",
       "110. 6\n",
       "111. 3\n",
       "112. 5\n",
       "113. 0\n",
       "\n",
       "\n"
      ],
      "text/plain": [
       "  [1] 5 0 4 5 2 4 7 8 5 4 5 9 3 2 5 7 6 0 5 2 0 3 3 7 5 5 7 0 1 0 4 5 5 5 4 9 2\n",
       " [38] 0 3 4 4 6 5 5 7 8 1 5 0 3 2 8 0 6 1 0 3 2 0 5 4 5 1 5 2 5 9 2 8 6 0 0 6 5\n",
       " [75] 5 2 4 1 6 5 3 5 8 2 1 1 5 1 4 2 7 2 5 3 8 0 5 7 2 7 2 5 5 8 2 5 8 9 7 6 3\n",
       "[112] 5 0"
      ]
     },
     "metadata": {},
     "output_type": "display_data"
    }
   ],
   "source": [
    "cyfra_Y "
   ]
  },
  {
   "cell_type": "code",
   "execution_count": 126,
   "id": "8558aa83-5d53-4b04-be85-e067a9438e9f",
   "metadata": {},
   "outputs": [],
   "source": [
    "# tablica liczności / kontyngencji\n",
    "tablica_xy <- table(X = cyfra_X, Y = cyfra_Y)"
   ]
  },
  {
   "cell_type": "code",
   "execution_count": 127,
   "id": "487872e4-6e5f-4c36-9bba-29994c16c2b3",
   "metadata": {},
   "outputs": [
    {
     "data": {
      "text/plain": [
       "   Y\n",
       "X   0 1 2 3 4 5 6 7 8 9\n",
       "  1 3 0 2 0 2 6 2 2 1 1\n",
       "  2 0 1 0 4 1 4 2 0 0 1\n",
       "  3 4 4 4 2 3 5 1 2 1 2\n",
       "  4 4 0 2 1 0 5 0 2 4 0\n",
       "  5 0 0 0 1 0 1 0 0 2 0\n",
       "  6 3 0 2 0 2 2 1 2 0 0\n",
       "  7 0 2 1 0 1 2 0 0 0 0\n",
       "  8 0 1 1 1 1 2 1 1 0 0\n",
       "  9 0 0 3 0 0 2 0 0 0 0"
      ]
     },
     "metadata": {},
     "output_type": "display_data"
    }
   ],
   "source": [
    "tablica_xy"
   ]
  },
  {
   "cell_type": "code",
   "execution_count": 128,
   "id": "c6c4a5c5-ba55-4506-b537-24f09dcee7dc",
   "metadata": {},
   "outputs": [
    {
     "name": "stderr",
     "output_type": "stream",
     "text": [
      "Warning message in chisq.test(tablica_xy):\n",
      "“Chi-squared approximation may be incorrect”\n"
     ]
    }
   ],
   "source": [
    "## test wstpępny\n",
    "test_chi <- chisq.test(tablica_xy)"
   ]
  },
  {
   "cell_type": "code",
   "execution_count": 129,
   "id": "4d1551e1-c253-49ae-acee-be025b121e29",
   "metadata": {},
   "outputs": [
    {
     "data": {
      "text/plain": [
       "\n",
       "\tPearson's Chi-squared test\n",
       "\n",
       "data:  tablica_xy\n",
       "X-squared = 83.349, df = 72, p-value = 0.1698\n"
      ]
     },
     "metadata": {},
     "output_type": "display_data"
    }
   ],
   "source": [
    "test_chi"
   ]
  },
  {
   "cell_type": "code",
   "execution_count": 130,
   "id": "137bf331-c1e6-499a-94d9-44479cc045f8",
   "metadata": {},
   "outputs": [],
   "source": [
    "oczekiwane <- test_chi$expected"
   ]
  },
  {
   "cell_type": "code",
   "execution_count": 131,
   "id": "daae0552-b966-44b5-94e4-4c40f8f57a9f",
   "metadata": {},
   "outputs": [
    {
     "data": {
      "text/html": [
       "<table class=\"dataframe\">\n",
       "<caption>A matrix: 9 × 10 of type dbl</caption>\n",
       "<thead>\n",
       "\t<tr><th></th><th scope=col>0</th><th scope=col>1</th><th scope=col>2</th><th scope=col>3</th><th scope=col>4</th><th scope=col>5</th><th scope=col>6</th><th scope=col>7</th><th scope=col>8</th><th scope=col>9</th></tr>\n",
       "</thead>\n",
       "<tbody>\n",
       "\t<tr><th scope=row>1</th><td>2.3539823</td><td>1.3451327</td><td>2.5221239</td><td>1.5132743</td><td>1.6814159</td><td>4.876106</td><td>1.1769912</td><td>1.5132743</td><td>1.3451327</td><td>0.6725664</td></tr>\n",
       "\t<tr><th scope=row>2</th><td>1.6106195</td><td>0.9203540</td><td>1.7256637</td><td>1.0353982</td><td>1.1504425</td><td>3.336283</td><td>0.8053097</td><td>1.0353982</td><td>0.9203540</td><td>0.4601770</td></tr>\n",
       "\t<tr><th scope=row>3</th><td>3.4690265</td><td>1.9823009</td><td>3.7168142</td><td>2.2300885</td><td>2.4778761</td><td>7.185841</td><td>1.7345133</td><td>2.2300885</td><td>1.9823009</td><td>0.9911504</td></tr>\n",
       "\t<tr><th scope=row>4</th><td>2.2300885</td><td>1.2743363</td><td>2.3893805</td><td>1.4336283</td><td>1.5929204</td><td>4.619469</td><td>1.1150442</td><td>1.4336283</td><td>1.2743363</td><td>0.6371681</td></tr>\n",
       "\t<tr><th scope=row>5</th><td>0.4955752</td><td>0.2831858</td><td>0.5309735</td><td>0.3185841</td><td>0.3539823</td><td>1.026549</td><td>0.2477876</td><td>0.3185841</td><td>0.2831858</td><td>0.1415929</td></tr>\n",
       "\t<tr><th scope=row>6</th><td>1.4867257</td><td>0.8495575</td><td>1.5929204</td><td>0.9557522</td><td>1.0619469</td><td>3.079646</td><td>0.7433628</td><td>0.9557522</td><td>0.8495575</td><td>0.4247788</td></tr>\n",
       "\t<tr><th scope=row>7</th><td>0.7433628</td><td>0.4247788</td><td>0.7964602</td><td>0.4778761</td><td>0.5309735</td><td>1.539823</td><td>0.3716814</td><td>0.4778761</td><td>0.4247788</td><td>0.2123894</td></tr>\n",
       "\t<tr><th scope=row>8</th><td>0.9911504</td><td>0.5663717</td><td>1.0619469</td><td>0.6371681</td><td>0.7079646</td><td>2.053097</td><td>0.4955752</td><td>0.6371681</td><td>0.5663717</td><td>0.2831858</td></tr>\n",
       "\t<tr><th scope=row>9</th><td>0.6194690</td><td>0.3539823</td><td>0.6637168</td><td>0.3982301</td><td>0.4424779</td><td>1.283186</td><td>0.3097345</td><td>0.3982301</td><td>0.3539823</td><td>0.1769912</td></tr>\n",
       "</tbody>\n",
       "</table>\n"
      ],
      "text/latex": [
       "A matrix: 9 × 10 of type dbl\n",
       "\\begin{tabular}{r|llllllllll}\n",
       "  & 0 & 1 & 2 & 3 & 4 & 5 & 6 & 7 & 8 & 9\\\\\n",
       "\\hline\n",
       "\t1 & 2.3539823 & 1.3451327 & 2.5221239 & 1.5132743 & 1.6814159 & 4.876106 & 1.1769912 & 1.5132743 & 1.3451327 & 0.6725664\\\\\n",
       "\t2 & 1.6106195 & 0.9203540 & 1.7256637 & 1.0353982 & 1.1504425 & 3.336283 & 0.8053097 & 1.0353982 & 0.9203540 & 0.4601770\\\\\n",
       "\t3 & 3.4690265 & 1.9823009 & 3.7168142 & 2.2300885 & 2.4778761 & 7.185841 & 1.7345133 & 2.2300885 & 1.9823009 & 0.9911504\\\\\n",
       "\t4 & 2.2300885 & 1.2743363 & 2.3893805 & 1.4336283 & 1.5929204 & 4.619469 & 1.1150442 & 1.4336283 & 1.2743363 & 0.6371681\\\\\n",
       "\t5 & 0.4955752 & 0.2831858 & 0.5309735 & 0.3185841 & 0.3539823 & 1.026549 & 0.2477876 & 0.3185841 & 0.2831858 & 0.1415929\\\\\n",
       "\t6 & 1.4867257 & 0.8495575 & 1.5929204 & 0.9557522 & 1.0619469 & 3.079646 & 0.7433628 & 0.9557522 & 0.8495575 & 0.4247788\\\\\n",
       "\t7 & 0.7433628 & 0.4247788 & 0.7964602 & 0.4778761 & 0.5309735 & 1.539823 & 0.3716814 & 0.4778761 & 0.4247788 & 0.2123894\\\\\n",
       "\t8 & 0.9911504 & 0.5663717 & 1.0619469 & 0.6371681 & 0.7079646 & 2.053097 & 0.4955752 & 0.6371681 & 0.5663717 & 0.2831858\\\\\n",
       "\t9 & 0.6194690 & 0.3539823 & 0.6637168 & 0.3982301 & 0.4424779 & 1.283186 & 0.3097345 & 0.3982301 & 0.3539823 & 0.1769912\\\\\n",
       "\\end{tabular}\n"
      ],
      "text/markdown": [
       "\n",
       "A matrix: 9 × 10 of type dbl\n",
       "\n",
       "| <!--/--> | 0 | 1 | 2 | 3 | 4 | 5 | 6 | 7 | 8 | 9 |\n",
       "|---|---|---|---|---|---|---|---|---|---|---|\n",
       "| 1 | 2.3539823 | 1.3451327 | 2.5221239 | 1.5132743 | 1.6814159 | 4.876106 | 1.1769912 | 1.5132743 | 1.3451327 | 0.6725664 |\n",
       "| 2 | 1.6106195 | 0.9203540 | 1.7256637 | 1.0353982 | 1.1504425 | 3.336283 | 0.8053097 | 1.0353982 | 0.9203540 | 0.4601770 |\n",
       "| 3 | 3.4690265 | 1.9823009 | 3.7168142 | 2.2300885 | 2.4778761 | 7.185841 | 1.7345133 | 2.2300885 | 1.9823009 | 0.9911504 |\n",
       "| 4 | 2.2300885 | 1.2743363 | 2.3893805 | 1.4336283 | 1.5929204 | 4.619469 | 1.1150442 | 1.4336283 | 1.2743363 | 0.6371681 |\n",
       "| 5 | 0.4955752 | 0.2831858 | 0.5309735 | 0.3185841 | 0.3539823 | 1.026549 | 0.2477876 | 0.3185841 | 0.2831858 | 0.1415929 |\n",
       "| 6 | 1.4867257 | 0.8495575 | 1.5929204 | 0.9557522 | 1.0619469 | 3.079646 | 0.7433628 | 0.9557522 | 0.8495575 | 0.4247788 |\n",
       "| 7 | 0.7433628 | 0.4247788 | 0.7964602 | 0.4778761 | 0.5309735 | 1.539823 | 0.3716814 | 0.4778761 | 0.4247788 | 0.2123894 |\n",
       "| 8 | 0.9911504 | 0.5663717 | 1.0619469 | 0.6371681 | 0.7079646 | 2.053097 | 0.4955752 | 0.6371681 | 0.5663717 | 0.2831858 |\n",
       "| 9 | 0.6194690 | 0.3539823 | 0.6637168 | 0.3982301 | 0.4424779 | 1.283186 | 0.3097345 | 0.3982301 | 0.3539823 | 0.1769912 |\n",
       "\n"
      ],
      "text/plain": [
       "   Y\n",
       "X   0         1         2         3         4         5        6        \n",
       "  1 2.3539823 1.3451327 2.5221239 1.5132743 1.6814159 4.876106 1.1769912\n",
       "  2 1.6106195 0.9203540 1.7256637 1.0353982 1.1504425 3.336283 0.8053097\n",
       "  3 3.4690265 1.9823009 3.7168142 2.2300885 2.4778761 7.185841 1.7345133\n",
       "  4 2.2300885 1.2743363 2.3893805 1.4336283 1.5929204 4.619469 1.1150442\n",
       "  5 0.4955752 0.2831858 0.5309735 0.3185841 0.3539823 1.026549 0.2477876\n",
       "  6 1.4867257 0.8495575 1.5929204 0.9557522 1.0619469 3.079646 0.7433628\n",
       "  7 0.7433628 0.4247788 0.7964602 0.4778761 0.5309735 1.539823 0.3716814\n",
       "  8 0.9911504 0.5663717 1.0619469 0.6371681 0.7079646 2.053097 0.4955752\n",
       "  9 0.6194690 0.3539823 0.6637168 0.3982301 0.4424779 1.283186 0.3097345\n",
       "   Y\n",
       "X   7         8         9        \n",
       "  1 1.5132743 1.3451327 0.6725664\n",
       "  2 1.0353982 0.9203540 0.4601770\n",
       "  3 2.2300885 1.9823009 0.9911504\n",
       "  4 1.4336283 1.2743363 0.6371681\n",
       "  5 0.3185841 0.2831858 0.1415929\n",
       "  6 0.9557522 0.8495575 0.4247788\n",
       "  7 0.4778761 0.4247788 0.2123894\n",
       "  8 0.6371681 0.5663717 0.2831858\n",
       "  9 0.3982301 0.3539823 0.1769912"
      ]
     },
     "metadata": {},
     "output_type": "display_data"
    }
   ],
   "source": [
    "oczekiwane"
   ]
  },
  {
   "cell_type": "code",
   "execution_count": 132,
   "id": "2631ee25-46a4-4ef7-8e6c-ffbb326f5a64",
   "metadata": {},
   "outputs": [
    {
     "name": "stdout",
     "output_type": "stream",
     "text": [
      "List of 9\n",
      " $ statistic: Named num 83.3\n",
      "  ..- attr(*, \"names\")= chr \"X-squared\"\n",
      " $ parameter: Named int 72\n",
      "  ..- attr(*, \"names\")= chr \"df\"\n",
      " $ p.value  : num 0.17\n",
      " $ method   : chr \"Pearson's Chi-squared test\"\n",
      " $ data.name: chr \"tablica_xy\"\n",
      " $ observed : 'table' int [1:9, 1:10] 3 0 4 4 0 3 0 0 0 0 ...\n",
      "  ..- attr(*, \"dimnames\")=List of 2\n",
      "  .. ..$ X: chr [1:9] \"1\" \"2\" \"3\" \"4\" ...\n",
      "  .. ..$ Y: chr [1:10] \"0\" \"1\" \"2\" \"3\" ...\n",
      " $ expected : num [1:9, 1:10] 2.354 1.611 3.469 2.23 0.496 ...\n",
      "  ..- attr(*, \"dimnames\")=List of 2\n",
      "  .. ..$ X: chr [1:9] \"1\" \"2\" \"3\" \"4\" ...\n",
      "  .. ..$ Y: chr [1:10] \"0\" \"1\" \"2\" \"3\" ...\n",
      " $ residuals: 'table' num [1:9, 1:10] 0.421 -1.269 0.285 1.185 -0.704 ...\n",
      "  ..- attr(*, \"dimnames\")=List of 2\n",
      "  .. ..$ X: chr [1:9] \"1\" \"2\" \"3\" \"4\" ...\n",
      "  .. ..$ Y: chr [1:10] \"0\" \"1\" \"2\" \"3\" ...\n",
      " $ stdres   : 'table' num [1:9, 1:10] 0.493 -1.441 0.351 1.381 -0.766 ...\n",
      "  ..- attr(*, \"dimnames\")=List of 2\n",
      "  .. ..$ X: chr [1:9] \"1\" \"2\" \"3\" \"4\" ...\n",
      "  .. ..$ Y: chr [1:10] \"0\" \"1\" \"2\" \"3\" ...\n",
      " - attr(*, \"class\")= chr \"htest\"\n"
     ]
    }
   ],
   "source": [
    "str(test_chi)"
   ]
  },
  {
   "cell_type": "code",
   "execution_count": 133,
   "id": "6e77051a-5e87-4360-9d87-2cfe7709ac51",
   "metadata": {},
   "outputs": [
    {
     "data": {
      "text/html": [
       "48"
      ],
      "text/latex": [
       "48"
      ],
      "text/markdown": [
       "48"
      ],
      "text/plain": [
       "[1] 48"
      ]
     },
     "metadata": {},
     "output_type": "display_data"
    }
   ],
   "source": [
    "sum(oczekiwane < 1)"
   ]
  },
  {
   "cell_type": "code",
   "execution_count": 134,
   "id": "02081c50-3993-4314-999f-4f0e3393364c",
   "metadata": {},
   "outputs": [
    {
     "data": {
      "text/html": [
       "98.8888888888889"
      ],
      "text/latex": [
       "98.8888888888889"
      ],
      "text/markdown": [
       "98.8888888888889"
      ],
      "text/plain": [
       "[1] 98.88889"
      ]
     },
     "metadata": {},
     "output_type": "display_data"
    }
   ],
   "source": [
    "mean(oczekiwane < 5) * 100"
   ]
  },
  {
   "cell_type": "code",
   "execution_count": 135,
   "id": "a42ecce2-2e44-42e4-92e7-600f68b3b92a",
   "metadata": {},
   "outputs": [
    {
     "data": {
      "text/plain": [
       "   Y\n",
       "X             0           1           2           3           4           5\n",
       "  1  0.49321893 -1.31917508 -0.38707207 -1.40590728  0.28215151  0.64723735\n",
       "  2 -1.44130973  0.09155254 -1.49948971  3.22830403 -0.15617009  0.44801254\n",
       "  3  0.35117240  1.71413865  0.18186204 -0.18517663  0.40057528 -1.09045828\n",
       "  4  1.38098686 -1.27721502 -0.29500894 -0.41171750 -1.44176693  0.22396027\n",
       "  5 -0.76577712 -0.56209059 -0.79668852  1.28129396 -0.63450837 -0.03094415\n",
       "  6  1.40249851 -1.01139197  0.36634231 -1.07788826  1.00849829 -0.75476039\n",
       "  7 -0.94660627  2.57663005  0.25167546 -0.74050423  0.69283364  0.44201439\n",
       "  8 -1.10340764  0.62009184 -0.06696362  0.49152489  0.37713332 -0.04458740\n",
       "  9 -0.86011945 -0.63133910  3.14983353 -0.67284795 -0.71267863  0.75073855\n",
       "   Y\n",
       "X             6           7           8           9\n",
       "  1  0.85877519  0.45219240 -0.33847255  0.44571472\n",
       "  2  1.46116534 -1.12749723 -1.05794050  0.86129938\n",
       "  3 -0.66393702 -0.18517663 -0.83451487  1.18963121\n",
       "  4 -1.18907640  0.53775346  2.73182101 -0.88640137\n",
       "  5 -0.52330159 -0.59904653  3.40767418 -0.39009709\n",
       "  6  0.32507529  1.17769273 -1.01139197 -0.70191723\n",
       "  7 -0.64687303 -0.74050423 -0.69482159 -0.48221388\n",
       "  8  0.76748957  0.49152489 -0.80991587 -0.56209059\n",
       "  9 -0.58777138 -0.67284795 -0.63133910 -0.43815633"
      ]
     },
     "metadata": {},
     "output_type": "display_data"
    }
   ],
   "source": [
    "test_chi$stdres"
   ]
  },
  {
   "cell_type": "code",
   "execution_count": 136,
   "id": "841b4b58-3f52-4035-bf73-0f6bfcaffd5d",
   "metadata": {},
   "outputs": [],
   "source": [
    "# da się tu znaleźć wartości większe od 2"
   ]
  },
  {
   "cell_type": "code",
   "execution_count": 137,
   "id": "3ce8eb8f-e8e2-4a5f-b7c2-26b86cc0ef6d",
   "metadata": {},
   "outputs": [
    {
     "data": {
      "text/plain": [
       "\n",
       "\tFisher's Exact Test for Count Data with simulated p-value (based on\n",
       "\t2000 replicates)\n",
       "\n",
       "data:  tablica_xy\n",
       "p-value = 0.3628\n",
       "alternative hypothesis: two.sided\n"
      ]
     },
     "metadata": {},
     "output_type": "display_data"
    }
   ],
   "source": [
    "# w każdytm razie liczności w klasach są mniejsze od 5, test może stracić na skuteczności. Test wykazał p-value < 0.05\n",
    "# spróbujemy wykorzystać test Fishera\n",
    "\n",
    "fisher.test(tablica_xy,simulate.p.value=TRUE) "
   ]
  },
  {
   "cell_type": "code",
   "execution_count": 138,
   "id": "d3179b84-5f4c-432b-aa59-0ec9d7b061fd",
   "metadata": {},
   "outputs": [
    {
     "data": {
      "text/plain": [
       "\n",
       "\tPearson's Chi-squared test with simulated p-value (based on 10000\n",
       "\treplicates)\n",
       "\n",
       "data:  tablica_xy\n",
       "X-squared = 83.349, df = NA, p-value = 0.1646\n"
      ]
     },
     "metadata": {},
     "output_type": "display_data"
    }
   ],
   "source": [
    "# można spróbować symulacji Monte Carlo\n",
    "chisq.test(tablica_xy, simulate.p.value = TRUE, B = 10000)"
   ]
  },
  {
   "cell_type": "markdown",
   "id": "60d5b502-5ac0-4a94-a648-7ee535566ce3",
   "metadata": {},
   "source": [
    "### 4.b Wnioski\n",
    "\n",
    "Elementy podzielono zgodnie z poleceniem, stworzono tablice kontyngencji.\n",
    "\n",
    "Sprawdzono warunki zastosowania klasycznego testu chi-kwadrat:\n",
    "  - **48 komórek** (spośród 90) miało oczekiwaną liczność **mniejszą niż 1**\n",
    "\n",
    "    \n",
    "  - **98.9% wszystkich komórek** miało oczekiwaną liczność **mniejszą niż 5**\n",
    "\n",
    "\n",
    "Wynik testu chi-kwadrat mógł zostać uznany za niewiarygodny. Sugerował **statystyczną niezależność**\n",
    "\n",
    "\n",
    "\n",
    "**Hipotezy:**\n",
    "\n",
    "\n",
    "- **H₀ (hipoteza zerowa):** Cyfry X i Y są niezależne — rozkład drugiej cyfry nie zależy od pierwszej.\n",
    "\n",
    "  \n",
    "- **H₁ (hipoteza alternatywna):** Cyfry X i Y są zależne — rozkład drugiej cyfry zależy od pierwszej.\n",
    "\n",
    "\n",
    "\n",
    "Wykonano dwa alternatywne testy nieparametryczne:\n",
    "1. fisher (2000 permutacji) p ~0.36\n",
    "\n",
    "   \n",
    "2. chi-sqrt z symulacją Monte Carlo, p~0.16\n",
    "\n",
    "\n",
    "\n",
    "W obu przypadkach p-wartość jest większa niż 0.05, **brak podstaw do odrzucenia hipotezy zerowej**.\n",
    "\n",
    "Cyfry X i Y mogą być uznane za **statystycznie niezależne** na podstawie dostępnych danych.\n"
   ]
  },
  {
   "cell_type": "markdown",
   "id": "884ccf0d-4d2f-4972-9371-86aa0aa6cbc5",
   "metadata": {},
   "source": [
    "## Zadanie 5: Piramida demograficzna USA 1948\n",
    "\n",
    "### Polecenie zad 5\n",
    "W pakiecie latticeExtra znajduje się ramka danych USAge.df\n",
    "zawierająca wielkość populacji USA w latach 1900-1979 z podziałem\n",
    "na wiek i płeć.\n",
    "\n",
    "\n",
    "Sporządzić wykres piramidowy/demograficzny przedstawiający\n",
    "strukturę wieku z podziałem na płeć dla roku 1948. Przyjąć\n",
    "następujący podział na kategorie wiekowe\n",
    "\n",
    "\n",
    "---\n",
    "\n",
    "wiek=c(\"0-5\",\"6-11\",\"12-17\",\"18-23\",\"24-29\",\"30-35\",\"36-41\",\n",
    "\"42-47\",\"48-53\",\"54-59\",\"60-65\",\"66-71\",\"72 i więcej\")\n",
    "\n",
    "---\n",
    "\n",
    "\n",
    "**Uwaga.** Wykorzystać funkcję **pyramid.plot** z pakietu **plotrix** lub też\n",
    "funkcje dostępne w innych pakietach.\n"
   ]
  },
  {
   "cell_type": "code",
   "execution_count": 142,
   "id": "8b0e5215-5c51-420b-a6be-538d34e027d6",
   "metadata": {},
   "outputs": [
    {
     "name": "stderr",
     "output_type": "stream",
     "text": [
      "Loading required package: plotrix\n",
      "\n"
     ]
    }
   ],
   "source": [
    "if (!require(plotrix)) install.packages(\"plotrix\")"
   ]
  },
  {
   "cell_type": "markdown",
   "id": "0ab36948-dd43-4d15-a81a-99c1f7ad3a15",
   "metadata": {},
   "source": [
    "Looks like it needs external dependencies to run latticeExtra\n",
    "\n",
    "'''bash\n",
    "sudo apt-get update\n",
    "sudo apt-get install -y \\\n",
    "    libjpeg-dev \\\n",
    "    libpng-dev \\\n",
    "    libeigen3-dev \\\n",
    "    libproj-dev \\\n",
    "    libgeos-dev \\\n",
    "    libgdal-dev \\\n",
    "    libtiff5-dev \\\n",
    "    libglpk-dev \\\n",
    "    libx11-dev \\\n",
    "    libxt-dev\n",
    "\n",
    "'''\n",
    "\n",
    "```bash\n",
    "sudo apt update\n",
    "sudo apt install -y build-essential \\\n",
    "    libjpeg-dev libpng-dev libtiff5-dev \\\n",
    "    libeigen3-dev libgdal-dev libgeos-dev \\\n",
    "    libproj-dev libglpk-dev \\\n",
    "    libxt-dev libx11-dev \\\n",
    "    libcurl4-openssl-dev libssl-dev \\\n",
    "    libxml2-dev\n",
    "\n",
    "sudo apt update\n",
    "sudo apt install -y build-essential \\\n",
    "  libeigen3-dev libgsl-dev libblas-dev liblapack-dev \\\n",
    "  libjpeg-dev libpng-dev libtiff5-dev libcurl4-openssl-dev libssl-dev libxml2-dev\n",
    "\n",
    "\n",
    "```\n",
    "\n",
    "\n",
    "Jak się okazuje brakującym elementem był kompilator fortrana\n",
    "```bash\n",
    "sudo apt install gfortran\n",
    "\n",
    "```"
   ]
  },
  {
   "cell_type": "code",
   "execution_count": 148,
   "id": "32a8418b-592f-4d5a-a594-a662e55f5633",
   "metadata": {},
   "outputs": [
    {
     "name": "stderr",
     "output_type": "stream",
     "text": [
      "Installing package into ‘/home/kotmin/R/x86_64-pc-linux-gnu-library/4.5’\n",
      "(as ‘lib’ is unspecified)\n",
      "\n",
      "also installing the dependencies ‘RcppEigen’, ‘SparseM’, ‘MatrixModels’, ‘interp’, ‘maps’, ‘mapproj’, ‘deldir’, ‘quantreg’, ‘zoo’\n",
      "\n",
      "\n",
      "Warning message in install.packages(\"latticeExtra\", dependencies = TRUE):\n",
      "“installation of package ‘RcppEigen’ had non-zero exit status”\n",
      "Warning message in install.packages(\"latticeExtra\", dependencies = TRUE):\n",
      "“installation of package ‘SparseM’ had non-zero exit status”\n",
      "Warning message in install.packages(\"latticeExtra\", dependencies = TRUE):\n",
      "“installation of package ‘deldir’ had non-zero exit status”\n",
      "Warning message in install.packages(\"latticeExtra\", dependencies = TRUE):\n",
      "“installation of package ‘interp’ had non-zero exit status”\n",
      "Warning message in install.packages(\"latticeExtra\", dependencies = TRUE):\n",
      "“installation of package ‘quantreg’ had non-zero exit status”\n",
      "Warning message in install.packages(\"latticeExtra\", dependencies = TRUE):\n",
      "“installation of package ‘latticeExtra’ had non-zero exit status”\n"
     ]
    }
   ],
   "source": [
    "install.packages(\"latticeExtra\", dependencies = TRUE)\n"
   ]
  },
  {
   "cell_type": "code",
   "execution_count": 146,
   "id": "cc14b2c2-b34b-4701-80cd-2d21817b9e70",
   "metadata": {},
   "outputs": [
    {
     "name": "stderr",
     "output_type": "stream",
     "text": [
      "Loading required package: latticeExtra\n",
      "\n",
      "Warning message in library(package, lib.loc = lib.loc, character.only = TRUE, logical.return = TRUE, :\n",
      "“there is no package called ‘latticeExtra’”\n",
      "Installing package into ‘/home/kotmin/R/x86_64-pc-linux-gnu-library/4.5’\n",
      "(as ‘lib’ is unspecified)\n",
      "\n",
      "also installing the dependencies ‘deldir’, ‘RcppEigen’, ‘png’, ‘jpeg’, ‘interp’\n",
      "\n",
      "\n",
      "Warning message in install.packages(\"latticeExtra\"):\n",
      "“installation of package ‘deldir’ had non-zero exit status”\n",
      "Warning message in install.packages(\"latticeExtra\"):\n",
      "“installation of package ‘RcppEigen’ had non-zero exit status”\n",
      "Warning message in install.packages(\"latticeExtra\"):\n",
      "“installation of package ‘interp’ had non-zero exit status”\n",
      "Warning message in install.packages(\"latticeExtra\"):\n",
      "“installation of package ‘latticeExtra’ had non-zero exit status”\n"
     ]
    }
   ],
   "source": [
    "if (!require(latticeExtra)) install.packages(\"latticeExtra\", dependencies = TRUE)"
   ]
  },
  {
   "cell_type": "code",
   "execution_count": 150,
   "id": "656ca775-c726-4ccf-95f3-ddd9094589da",
   "metadata": {},
   "outputs": [
    {
     "name": "stderr",
     "output_type": "stream",
     "text": [
      "Installing packages into ‘/home/kotmin/R/x86_64-pc-linux-gnu-library/4.5’\n",
      "(as ‘lib’ is unspecified)\n",
      "\n",
      "Warning message in install.packages(c(\"deldir\", \"RcppEigen\")):\n",
      "“installation of package ‘deldir’ had non-zero exit status”\n",
      "Warning message in install.packages(c(\"deldir\", \"RcppEigen\")):\n",
      "“installation of package ‘RcppEigen’ had non-zero exit status”\n"
     ]
    }
   ],
   "source": [
    "install.packages(c('deldir', 'RcppEigen'))\n"
   ]
  },
  {
   "cell_type": "code",
   "execution_count": 151,
   "id": "e9540571-33e2-4148-a108-f6e6233a43e9",
   "metadata": {},
   "outputs": [
    {
     "name": "stderr",
     "output_type": "stream",
     "text": [
      "Installing package into ‘/home/kotmin/R/x86_64-pc-linux-gnu-library/4.5’\n",
      "(as ‘lib’ is unspecified)\n",
      "\n",
      "Warning message in install.packages(\"SparseM\"):\n",
      "“installation of package ‘SparseM’ had non-zero exit status”\n"
     ]
    }
   ],
   "source": [
    "install.packages('SparseM')\n"
   ]
  },
  {
   "cell_type": "code",
   "execution_count": 144,
   "id": "2356ad54-ae20-4de8-a6c5-f7aa89a5e569",
   "metadata": {},
   "outputs": [],
   "source": [
    "library(plotrix)"
   ]
  },
  {
   "cell_type": "code",
   "execution_count": 152,
   "id": "fe01391f-28f0-48d2-b5cf-d02af4eff84b",
   "metadata": {},
   "outputs": [
    {
     "name": "stderr",
     "output_type": "stream",
     "text": [
      "Loading required package: lattice\n",
      "\n",
      "\n",
      "Attaching package: ‘latticeExtra’\n",
      "\n",
      "\n",
      "The following object is masked from ‘package:ggplot2’:\n",
      "\n",
      "    layer\n",
      "\n",
      "\n"
     ]
    }
   ],
   "source": [
    "library(latticeExtra)\n"
   ]
  },
  {
   "cell_type": "code",
   "execution_count": 153,
   "id": "a8b1bf55-310d-4ff9-80ba-65bc1520f4bd",
   "metadata": {},
   "outputs": [],
   "source": [
    "# wczytanie danych\n",
    "data(\"USAge.df\")"
   ]
  },
  {
   "cell_type": "code",
   "execution_count": 154,
   "id": "4f966806-6ded-4a4f-b0d7-d7e5a779e46b",
   "metadata": {},
   "outputs": [],
   "source": [
    "dane_1948 <- subset(USAge.df, Year == 1948)"
   ]
  },
  {
   "cell_type": "code",
   "execution_count": 155,
   "id": "7b22c1cb-c531-4481-afb4-02e9a8ec1f0a",
   "metadata": {},
   "outputs": [
    {
     "data": {
      "text/html": [
       "<table class=\"dataframe\">\n",
       "<caption>A data.frame: 150 × 4</caption>\n",
       "<thead>\n",
       "\t<tr><th></th><th scope=col>Age</th><th scope=col>Sex</th><th scope=col>Year</th><th scope=col>Population</th></tr>\n",
       "\t<tr><th></th><th scope=col>&lt;dbl&gt;</th><th scope=col>&lt;fct&gt;</th><th scope=col>&lt;dbl&gt;</th><th scope=col>&lt;dbl&gt;</th></tr>\n",
       "</thead>\n",
       "<tbody>\n",
       "\t<tr><th scope=row>7201</th><td> 0</td><td>Male</td><td>1948</td><td>1.622336</td></tr>\n",
       "\t<tr><th scope=row>7202</th><td> 1</td><td>Male</td><td>1948</td><td>1.795136</td></tr>\n",
       "\t<tr><th scope=row>7203</th><td> 2</td><td>Male</td><td>1948</td><td>1.359864</td></tr>\n",
       "\t<tr><th scope=row>7204</th><td> 3</td><td>Male</td><td>1948</td><td>1.401297</td></tr>\n",
       "\t<tr><th scope=row>7205</th><td> 4</td><td>Male</td><td>1948</td><td>1.424228</td></tr>\n",
       "\t<tr><th scope=row>7206</th><td> 5</td><td>Male</td><td>1948</td><td>1.469383</td></tr>\n",
       "\t<tr><th scope=row>7207</th><td> 6</td><td>Male</td><td>1948</td><td>1.291849</td></tr>\n",
       "\t<tr><th scope=row>7208</th><td> 7</td><td>Male</td><td>1948</td><td>1.206605</td></tr>\n",
       "\t<tr><th scope=row>7209</th><td> 8</td><td>Male</td><td>1948</td><td>1.144003</td></tr>\n",
       "\t<tr><th scope=row>7210</th><td> 9</td><td>Male</td><td>1948</td><td>1.131221</td></tr>\n",
       "\t<tr><th scope=row>7211</th><td>10</td><td>Male</td><td>1948</td><td>1.151048</td></tr>\n",
       "\t<tr><th scope=row>7212</th><td>11</td><td>Male</td><td>1948</td><td>1.094383</td></tr>\n",
       "\t<tr><th scope=row>7213</th><td>12</td><td>Male</td><td>1948</td><td>1.098160</td></tr>\n",
       "\t<tr><th scope=row>7214</th><td>13</td><td>Male</td><td>1948</td><td>1.091974</td></tr>\n",
       "\t<tr><th scope=row>7215</th><td>14</td><td>Male</td><td>1948</td><td>1.065727</td></tr>\n",
       "\t<tr><th scope=row>7216</th><td>15</td><td>Male</td><td>1948</td><td>1.073340</td></tr>\n",
       "\t<tr><th scope=row>7217</th><td>16</td><td>Male</td><td>1948</td><td>1.110025</td></tr>\n",
       "\t<tr><th scope=row>7218</th><td>17</td><td>Male</td><td>1948</td><td>1.137613</td></tr>\n",
       "\t<tr><th scope=row>7219</th><td>18</td><td>Male</td><td>1948</td><td>1.130167</td></tr>\n",
       "\t<tr><th scope=row>7220</th><td>19</td><td>Male</td><td>1948</td><td>1.124056</td></tr>\n",
       "\t<tr><th scope=row>7221</th><td>20</td><td>Male</td><td>1948</td><td>1.136351</td></tr>\n",
       "\t<tr><th scope=row>7222</th><td>21</td><td>Male</td><td>1948</td><td>1.146391</td></tr>\n",
       "\t<tr><th scope=row>7223</th><td>22</td><td>Male</td><td>1948</td><td>1.165079</td></tr>\n",
       "\t<tr><th scope=row>7224</th><td>23</td><td>Male</td><td>1948</td><td>1.183062</td></tr>\n",
       "\t<tr><th scope=row>7225</th><td>24</td><td>Male</td><td>1948</td><td>1.206138</td></tr>\n",
       "\t<tr><th scope=row>7226</th><td>25</td><td>Male</td><td>1948</td><td>1.226459</td></tr>\n",
       "\t<tr><th scope=row>7227</th><td>26</td><td>Male</td><td>1948</td><td>1.223964</td></tr>\n",
       "\t<tr><th scope=row>7228</th><td>27</td><td>Male</td><td>1948</td><td>1.203563</td></tr>\n",
       "\t<tr><th scope=row>7229</th><td>28</td><td>Male</td><td>1948</td><td>1.184262</td></tr>\n",
       "\t<tr><th scope=row>7230</th><td>29</td><td>Male</td><td>1948</td><td>1.159978</td></tr>\n",
       "\t<tr><th scope=row>⋮</th><td>⋮</td><td>⋮</td><td>⋮</td><td>⋮</td></tr>\n",
       "\t<tr><th scope=row>7321</th><td>45</td><td>Female</td><td>1948</td><td>0.929498</td></tr>\n",
       "\t<tr><th scope=row>7322</th><td>46</td><td>Female</td><td>1948</td><td>0.912446</td></tr>\n",
       "\t<tr><th scope=row>7323</th><td>47</td><td>Female</td><td>1948</td><td>0.899328</td></tr>\n",
       "\t<tr><th scope=row>7324</th><td>48</td><td>Female</td><td>1948</td><td>0.886839</td></tr>\n",
       "\t<tr><th scope=row>7325</th><td>49</td><td>Female</td><td>1948</td><td>0.869327</td></tr>\n",
       "\t<tr><th scope=row>7326</th><td>50</td><td>Female</td><td>1948</td><td>0.849200</td></tr>\n",
       "\t<tr><th scope=row>7327</th><td>51</td><td>Female</td><td>1948</td><td>0.830046</td></tr>\n",
       "\t<tr><th scope=row>7328</th><td>52</td><td>Female</td><td>1948</td><td>0.807287</td></tr>\n",
       "\t<tr><th scope=row>7329</th><td>53</td><td>Female</td><td>1948</td><td>0.786310</td></tr>\n",
       "\t<tr><th scope=row>7330</th><td>54</td><td>Female</td><td>1948</td><td>0.762945</td></tr>\n",
       "\t<tr><th scope=row>7331</th><td>55</td><td>Female</td><td>1948</td><td>0.739414</td></tr>\n",
       "\t<tr><th scope=row>7332</th><td>56</td><td>Female</td><td>1948</td><td>0.717533</td></tr>\n",
       "\t<tr><th scope=row>7333</th><td>57</td><td>Female</td><td>1948</td><td>0.694190</td></tr>\n",
       "\t<tr><th scope=row>7334</th><td>58</td><td>Female</td><td>1948</td><td>0.670733</td></tr>\n",
       "\t<tr><th scope=row>7335</th><td>59</td><td>Female</td><td>1948</td><td>0.645356</td></tr>\n",
       "\t<tr><th scope=row>7336</th><td>60</td><td>Female</td><td>1948</td><td>0.618581</td></tr>\n",
       "\t<tr><th scope=row>7337</th><td>61</td><td>Female</td><td>1948</td><td>0.599091</td></tr>\n",
       "\t<tr><th scope=row>7338</th><td>62</td><td>Female</td><td>1948</td><td>0.582391</td></tr>\n",
       "\t<tr><th scope=row>7339</th><td>63</td><td>Female</td><td>1948</td><td>0.565650</td></tr>\n",
       "\t<tr><th scope=row>7340</th><td>64</td><td>Female</td><td>1948</td><td>0.550148</td></tr>\n",
       "\t<tr><th scope=row>7341</th><td>65</td><td>Female</td><td>1948</td><td>0.536205</td></tr>\n",
       "\t<tr><th scope=row>7342</th><td>66</td><td>Female</td><td>1948</td><td>0.511712</td></tr>\n",
       "\t<tr><th scope=row>7343</th><td>67</td><td>Female</td><td>1948</td><td>0.482754</td></tr>\n",
       "\t<tr><th scope=row>7344</th><td>68</td><td>Female</td><td>1948</td><td>0.455182</td></tr>\n",
       "\t<tr><th scope=row>7345</th><td>69</td><td>Female</td><td>1948</td><td>0.426235</td></tr>\n",
       "\t<tr><th scope=row>7346</th><td>70</td><td>Female</td><td>1948</td><td>0.394407</td></tr>\n",
       "\t<tr><th scope=row>7347</th><td>71</td><td>Female</td><td>1948</td><td>0.363879</td></tr>\n",
       "\t<tr><th scope=row>7348</th><td>72</td><td>Female</td><td>1948</td><td>0.337790</td></tr>\n",
       "\t<tr><th scope=row>7349</th><td>73</td><td>Female</td><td>1948</td><td>0.312154</td></tr>\n",
       "\t<tr><th scope=row>7350</th><td>74</td><td>Female</td><td>1948</td><td>0.282398</td></tr>\n",
       "</tbody>\n",
       "</table>\n"
      ],
      "text/latex": [
       "A data.frame: 150 × 4\n",
       "\\begin{tabular}{r|llll}\n",
       "  & Age & Sex & Year & Population\\\\\n",
       "  & <dbl> & <fct> & <dbl> & <dbl>\\\\\n",
       "\\hline\n",
       "\t7201 &  0 & Male & 1948 & 1.622336\\\\\n",
       "\t7202 &  1 & Male & 1948 & 1.795136\\\\\n",
       "\t7203 &  2 & Male & 1948 & 1.359864\\\\\n",
       "\t7204 &  3 & Male & 1948 & 1.401297\\\\\n",
       "\t7205 &  4 & Male & 1948 & 1.424228\\\\\n",
       "\t7206 &  5 & Male & 1948 & 1.469383\\\\\n",
       "\t7207 &  6 & Male & 1948 & 1.291849\\\\\n",
       "\t7208 &  7 & Male & 1948 & 1.206605\\\\\n",
       "\t7209 &  8 & Male & 1948 & 1.144003\\\\\n",
       "\t7210 &  9 & Male & 1948 & 1.131221\\\\\n",
       "\t7211 & 10 & Male & 1948 & 1.151048\\\\\n",
       "\t7212 & 11 & Male & 1948 & 1.094383\\\\\n",
       "\t7213 & 12 & Male & 1948 & 1.098160\\\\\n",
       "\t7214 & 13 & Male & 1948 & 1.091974\\\\\n",
       "\t7215 & 14 & Male & 1948 & 1.065727\\\\\n",
       "\t7216 & 15 & Male & 1948 & 1.073340\\\\\n",
       "\t7217 & 16 & Male & 1948 & 1.110025\\\\\n",
       "\t7218 & 17 & Male & 1948 & 1.137613\\\\\n",
       "\t7219 & 18 & Male & 1948 & 1.130167\\\\\n",
       "\t7220 & 19 & Male & 1948 & 1.124056\\\\\n",
       "\t7221 & 20 & Male & 1948 & 1.136351\\\\\n",
       "\t7222 & 21 & Male & 1948 & 1.146391\\\\\n",
       "\t7223 & 22 & Male & 1948 & 1.165079\\\\\n",
       "\t7224 & 23 & Male & 1948 & 1.183062\\\\\n",
       "\t7225 & 24 & Male & 1948 & 1.206138\\\\\n",
       "\t7226 & 25 & Male & 1948 & 1.226459\\\\\n",
       "\t7227 & 26 & Male & 1948 & 1.223964\\\\\n",
       "\t7228 & 27 & Male & 1948 & 1.203563\\\\\n",
       "\t7229 & 28 & Male & 1948 & 1.184262\\\\\n",
       "\t7230 & 29 & Male & 1948 & 1.159978\\\\\n",
       "\t⋮ & ⋮ & ⋮ & ⋮ & ⋮\\\\\n",
       "\t7321 & 45 & Female & 1948 & 0.929498\\\\\n",
       "\t7322 & 46 & Female & 1948 & 0.912446\\\\\n",
       "\t7323 & 47 & Female & 1948 & 0.899328\\\\\n",
       "\t7324 & 48 & Female & 1948 & 0.886839\\\\\n",
       "\t7325 & 49 & Female & 1948 & 0.869327\\\\\n",
       "\t7326 & 50 & Female & 1948 & 0.849200\\\\\n",
       "\t7327 & 51 & Female & 1948 & 0.830046\\\\\n",
       "\t7328 & 52 & Female & 1948 & 0.807287\\\\\n",
       "\t7329 & 53 & Female & 1948 & 0.786310\\\\\n",
       "\t7330 & 54 & Female & 1948 & 0.762945\\\\\n",
       "\t7331 & 55 & Female & 1948 & 0.739414\\\\\n",
       "\t7332 & 56 & Female & 1948 & 0.717533\\\\\n",
       "\t7333 & 57 & Female & 1948 & 0.694190\\\\\n",
       "\t7334 & 58 & Female & 1948 & 0.670733\\\\\n",
       "\t7335 & 59 & Female & 1948 & 0.645356\\\\\n",
       "\t7336 & 60 & Female & 1948 & 0.618581\\\\\n",
       "\t7337 & 61 & Female & 1948 & 0.599091\\\\\n",
       "\t7338 & 62 & Female & 1948 & 0.582391\\\\\n",
       "\t7339 & 63 & Female & 1948 & 0.565650\\\\\n",
       "\t7340 & 64 & Female & 1948 & 0.550148\\\\\n",
       "\t7341 & 65 & Female & 1948 & 0.536205\\\\\n",
       "\t7342 & 66 & Female & 1948 & 0.511712\\\\\n",
       "\t7343 & 67 & Female & 1948 & 0.482754\\\\\n",
       "\t7344 & 68 & Female & 1948 & 0.455182\\\\\n",
       "\t7345 & 69 & Female & 1948 & 0.426235\\\\\n",
       "\t7346 & 70 & Female & 1948 & 0.394407\\\\\n",
       "\t7347 & 71 & Female & 1948 & 0.363879\\\\\n",
       "\t7348 & 72 & Female & 1948 & 0.337790\\\\\n",
       "\t7349 & 73 & Female & 1948 & 0.312154\\\\\n",
       "\t7350 & 74 & Female & 1948 & 0.282398\\\\\n",
       "\\end{tabular}\n"
      ],
      "text/markdown": [
       "\n",
       "A data.frame: 150 × 4\n",
       "\n",
       "| <!--/--> | Age &lt;dbl&gt; | Sex &lt;fct&gt; | Year &lt;dbl&gt; | Population &lt;dbl&gt; |\n",
       "|---|---|---|---|---|\n",
       "| 7201 |  0 | Male | 1948 | 1.622336 |\n",
       "| 7202 |  1 | Male | 1948 | 1.795136 |\n",
       "| 7203 |  2 | Male | 1948 | 1.359864 |\n",
       "| 7204 |  3 | Male | 1948 | 1.401297 |\n",
       "| 7205 |  4 | Male | 1948 | 1.424228 |\n",
       "| 7206 |  5 | Male | 1948 | 1.469383 |\n",
       "| 7207 |  6 | Male | 1948 | 1.291849 |\n",
       "| 7208 |  7 | Male | 1948 | 1.206605 |\n",
       "| 7209 |  8 | Male | 1948 | 1.144003 |\n",
       "| 7210 |  9 | Male | 1948 | 1.131221 |\n",
       "| 7211 | 10 | Male | 1948 | 1.151048 |\n",
       "| 7212 | 11 | Male | 1948 | 1.094383 |\n",
       "| 7213 | 12 | Male | 1948 | 1.098160 |\n",
       "| 7214 | 13 | Male | 1948 | 1.091974 |\n",
       "| 7215 | 14 | Male | 1948 | 1.065727 |\n",
       "| 7216 | 15 | Male | 1948 | 1.073340 |\n",
       "| 7217 | 16 | Male | 1948 | 1.110025 |\n",
       "| 7218 | 17 | Male | 1948 | 1.137613 |\n",
       "| 7219 | 18 | Male | 1948 | 1.130167 |\n",
       "| 7220 | 19 | Male | 1948 | 1.124056 |\n",
       "| 7221 | 20 | Male | 1948 | 1.136351 |\n",
       "| 7222 | 21 | Male | 1948 | 1.146391 |\n",
       "| 7223 | 22 | Male | 1948 | 1.165079 |\n",
       "| 7224 | 23 | Male | 1948 | 1.183062 |\n",
       "| 7225 | 24 | Male | 1948 | 1.206138 |\n",
       "| 7226 | 25 | Male | 1948 | 1.226459 |\n",
       "| 7227 | 26 | Male | 1948 | 1.223964 |\n",
       "| 7228 | 27 | Male | 1948 | 1.203563 |\n",
       "| 7229 | 28 | Male | 1948 | 1.184262 |\n",
       "| 7230 | 29 | Male | 1948 | 1.159978 |\n",
       "| ⋮ | ⋮ | ⋮ | ⋮ | ⋮ |\n",
       "| 7321 | 45 | Female | 1948 | 0.929498 |\n",
       "| 7322 | 46 | Female | 1948 | 0.912446 |\n",
       "| 7323 | 47 | Female | 1948 | 0.899328 |\n",
       "| 7324 | 48 | Female | 1948 | 0.886839 |\n",
       "| 7325 | 49 | Female | 1948 | 0.869327 |\n",
       "| 7326 | 50 | Female | 1948 | 0.849200 |\n",
       "| 7327 | 51 | Female | 1948 | 0.830046 |\n",
       "| 7328 | 52 | Female | 1948 | 0.807287 |\n",
       "| 7329 | 53 | Female | 1948 | 0.786310 |\n",
       "| 7330 | 54 | Female | 1948 | 0.762945 |\n",
       "| 7331 | 55 | Female | 1948 | 0.739414 |\n",
       "| 7332 | 56 | Female | 1948 | 0.717533 |\n",
       "| 7333 | 57 | Female | 1948 | 0.694190 |\n",
       "| 7334 | 58 | Female | 1948 | 0.670733 |\n",
       "| 7335 | 59 | Female | 1948 | 0.645356 |\n",
       "| 7336 | 60 | Female | 1948 | 0.618581 |\n",
       "| 7337 | 61 | Female | 1948 | 0.599091 |\n",
       "| 7338 | 62 | Female | 1948 | 0.582391 |\n",
       "| 7339 | 63 | Female | 1948 | 0.565650 |\n",
       "| 7340 | 64 | Female | 1948 | 0.550148 |\n",
       "| 7341 | 65 | Female | 1948 | 0.536205 |\n",
       "| 7342 | 66 | Female | 1948 | 0.511712 |\n",
       "| 7343 | 67 | Female | 1948 | 0.482754 |\n",
       "| 7344 | 68 | Female | 1948 | 0.455182 |\n",
       "| 7345 | 69 | Female | 1948 | 0.426235 |\n",
       "| 7346 | 70 | Female | 1948 | 0.394407 |\n",
       "| 7347 | 71 | Female | 1948 | 0.363879 |\n",
       "| 7348 | 72 | Female | 1948 | 0.337790 |\n",
       "| 7349 | 73 | Female | 1948 | 0.312154 |\n",
       "| 7350 | 74 | Female | 1948 | 0.282398 |\n",
       "\n"
      ],
      "text/plain": [
       "     Age Sex    Year Population\n",
       "7201  0  Male   1948 1.622336  \n",
       "7202  1  Male   1948 1.795136  \n",
       "7203  2  Male   1948 1.359864  \n",
       "7204  3  Male   1948 1.401297  \n",
       "7205  4  Male   1948 1.424228  \n",
       "7206  5  Male   1948 1.469383  \n",
       "7207  6  Male   1948 1.291849  \n",
       "7208  7  Male   1948 1.206605  \n",
       "7209  8  Male   1948 1.144003  \n",
       "7210  9  Male   1948 1.131221  \n",
       "7211 10  Male   1948 1.151048  \n",
       "7212 11  Male   1948 1.094383  \n",
       "7213 12  Male   1948 1.098160  \n",
       "7214 13  Male   1948 1.091974  \n",
       "7215 14  Male   1948 1.065727  \n",
       "7216 15  Male   1948 1.073340  \n",
       "7217 16  Male   1948 1.110025  \n",
       "7218 17  Male   1948 1.137613  \n",
       "7219 18  Male   1948 1.130167  \n",
       "7220 19  Male   1948 1.124056  \n",
       "7221 20  Male   1948 1.136351  \n",
       "7222 21  Male   1948 1.146391  \n",
       "7223 22  Male   1948 1.165079  \n",
       "7224 23  Male   1948 1.183062  \n",
       "7225 24  Male   1948 1.206138  \n",
       "7226 25  Male   1948 1.226459  \n",
       "7227 26  Male   1948 1.223964  \n",
       "7228 27  Male   1948 1.203563  \n",
       "7229 28  Male   1948 1.184262  \n",
       "7230 29  Male   1948 1.159978  \n",
       "⋮    ⋮   ⋮      ⋮    ⋮         \n",
       "7321 45  Female 1948 0.929498  \n",
       "7322 46  Female 1948 0.912446  \n",
       "7323 47  Female 1948 0.899328  \n",
       "7324 48  Female 1948 0.886839  \n",
       "7325 49  Female 1948 0.869327  \n",
       "7326 50  Female 1948 0.849200  \n",
       "7327 51  Female 1948 0.830046  \n",
       "7328 52  Female 1948 0.807287  \n",
       "7329 53  Female 1948 0.786310  \n",
       "7330 54  Female 1948 0.762945  \n",
       "7331 55  Female 1948 0.739414  \n",
       "7332 56  Female 1948 0.717533  \n",
       "7333 57  Female 1948 0.694190  \n",
       "7334 58  Female 1948 0.670733  \n",
       "7335 59  Female 1948 0.645356  \n",
       "7336 60  Female 1948 0.618581  \n",
       "7337 61  Female 1948 0.599091  \n",
       "7338 62  Female 1948 0.582391  \n",
       "7339 63  Female 1948 0.565650  \n",
       "7340 64  Female 1948 0.550148  \n",
       "7341 65  Female 1948 0.536205  \n",
       "7342 66  Female 1948 0.511712  \n",
       "7343 67  Female 1948 0.482754  \n",
       "7344 68  Female 1948 0.455182  \n",
       "7345 69  Female 1948 0.426235  \n",
       "7346 70  Female 1948 0.394407  \n",
       "7347 71  Female 1948 0.363879  \n",
       "7348 72  Female 1948 0.337790  \n",
       "7349 73  Female 1948 0.312154  \n",
       "7350 74  Female 1948 0.282398  "
      ]
     },
     "metadata": {},
     "output_type": "display_data"
    }
   ],
   "source": [
    "dane_1948"
   ]
  },
  {
   "cell_type": "code",
   "execution_count": 156,
   "id": "38654ac5-a49a-43a3-a989-d3f56fe490eb",
   "metadata": {},
   "outputs": [],
   "source": [
    "przedzialy <- cut(\n",
    "  dane_1948$Age,\n",
    "  breaks = c(0, 6, 12, 18, 24, 30, 36, 42, 48, 54, 60, 66, 72, Inf),\n",
    "  labels = c(\"0-5\", \"6-11\", \"12-17\", \"18-23\", \"24-29\", \"30-35\", \"36-41\",\n",
    "             \"42-47\", \"48-53\", \"54-59\", \"60-65\", \"66-71\", \"72 i więcej\"),\n",
    "  right = FALSE\n",
    ")"
   ]
  },
  {
   "cell_type": "code",
   "execution_count": 157,
   "id": "0022c5d2-3798-4f56-8b29-99d8d0e03137",
   "metadata": {},
   "outputs": [],
   "source": [
    "dane_1948$wiek_kategoria <- przedzialy"
   ]
  },
  {
   "cell_type": "code",
   "execution_count": 158,
   "id": "37e9ed12-c57c-4b4d-b3c5-a3e7d9037303",
   "metadata": {},
   "outputs": [],
   "source": [
    "# Agregujemy populację według płci i kategorii wiekowej\n",
    "tabela <- aggregate(Population ~ Sex + wiek_kategoria, data = dane_1948, sum)"
   ]
  },
  {
   "cell_type": "code",
   "execution_count": 159,
   "id": "c34381c0-52e7-4990-a1c0-ee43543760e2",
   "metadata": {},
   "outputs": [],
   "source": [
    "kobiety <- tabela$Population[tabela$Sex == \"Female\"]\n",
    "mezczyzni <- tabela$Population[tabela$Sex == \"Male\"]"
   ]
  },
  {
   "cell_type": "code",
   "execution_count": 160,
   "id": "cec02a61-f52a-481a-93fc-c81a236263f2",
   "metadata": {},
   "outputs": [
    {
     "data": {
      "text/html": [
       "<style>\n",
       ".list-inline {list-style: none; margin:0; padding: 0}\n",
       ".list-inline>li {display: inline-block}\n",
       ".list-inline>li:not(:last-child)::after {content: \"\\00b7\"; padding: 0 .5ex}\n",
       "</style>\n",
       "<ol class=list-inline><li>8.732111</li><li>6.787291</li><li>6.377272</li><li>6.98532</li><li>7.389165</li><li>6.900891</li><li>6.455141</li><li>5.659599</li><li>5.029009</li><li>4.230171</li><li>3.452066</li><li>2.634169</li><li>0.932342</li></ol>\n"
      ],
      "text/latex": [
       "\\begin{enumerate*}\n",
       "\\item 8.732111\n",
       "\\item 6.787291\n",
       "\\item 6.377272\n",
       "\\item 6.98532\n",
       "\\item 7.389165\n",
       "\\item 6.900891\n",
       "\\item 6.455141\n",
       "\\item 5.659599\n",
       "\\item 5.029009\n",
       "\\item 4.230171\n",
       "\\item 3.452066\n",
       "\\item 2.634169\n",
       "\\item 0.932342\n",
       "\\end{enumerate*}\n"
      ],
      "text/markdown": [
       "1. 8.732111\n",
       "2. 6.787291\n",
       "3. 6.377272\n",
       "4. 6.98532\n",
       "5. 7.389165\n",
       "6. 6.900891\n",
       "7. 6.455141\n",
       "8. 5.659599\n",
       "9. 5.029009\n",
       "10. 4.230171\n",
       "11. 3.452066\n",
       "12. 2.634169\n",
       "13. 0.932342\n",
       "\n",
       "\n"
      ],
      "text/plain": [
       " [1] 8.732111 6.787291 6.377272 6.985320 7.389165 6.900891 6.455141 5.659599\n",
       " [9] 5.029009 4.230171 3.452066 2.634169 0.932342"
      ]
     },
     "metadata": {},
     "output_type": "display_data"
    }
   ],
   "source": [
    "kobiety"
   ]
  },
  {
   "cell_type": "code",
   "execution_count": 161,
   "id": "171c579e-5e3e-42ec-a534-96a9fea3afa8",
   "metadata": {},
   "outputs": [],
   "source": [
    "# Upewniamy się, że obie grupy są w tej samej kolejności wiekowej\n",
    "kategorie <- levels(tabela$wiek_kategoria)"
   ]
  },
  {
   "cell_type": "code",
   "execution_count": 163,
   "id": "e93d1cc6-c935-4f97-b5af-8e1e6a25ef9f",
   "metadata": {},
   "outputs": [],
   "source": [
    "# jeśli występuje N/A zastępujemy to 0\n",
    "kobiety[is.na(kobiety)] <- 0\n",
    "mezczyzni[is.na(mezczyzni)] <- 0"
   ]
  },
  {
   "cell_type": "code",
   "execution_count": 177,
   "id": "e8b4c73a-35bf-4ca0-b50b-dbb4d03e946e",
   "metadata": {},
   "outputs": [
    {
     "name": "stdout",
     "output_type": "stream",
     "text": [
      "10 10 \n"
     ]
    },
    {
     "data": {
      "text/html": [
       "<style>\n",
       ".list-inline {list-style: none; margin:0; padding: 0}\n",
       ".list-inline>li {display: inline-block}\n",
       ".list-inline>li:not(:last-child)::after {content: \"\\00b7\"; padding: 0 .5ex}\n",
       "</style>\n",
       "<ol class=list-inline><li>5.1</li><li>4.1</li><li>4.1</li><li>2.1</li></ol>\n"
      ],
      "text/latex": [
       "\\begin{enumerate*}\n",
       "\\item 5.1\n",
       "\\item 4.1\n",
       "\\item 4.1\n",
       "\\item 2.1\n",
       "\\end{enumerate*}\n"
      ],
      "text/markdown": [
       "1. 5.1\n",
       "2. 4.1\n",
       "3. 4.1\n",
       "4. 2.1\n",
       "\n",
       "\n"
      ],
      "text/plain": [
       "[1] 5.1 4.1 4.1 2.1"
      ]
     },
     "metadata": {},
     "output_type": "display_data"
    },
    {
     "data": {
      "image/png": "[encoded data removed]",
      "text/plain": [
       "Plot with title “Piramida demograficzna ludności USA – rok 1948”"
      ]
     },
     "metadata": {
      "image/png": {
       "height": 420,
       "width": 420
      }
     },
     "output_type": "display_data"
    }
   ],
   "source": [
    "pyramid.plot(\n",
    "  lx = mezczyzni,\n",
    "  rx = kobiety,\n",
    "  labels = kategorie,\n",
    "  main = \"\",  #\n",
    "  lxcol = \"#87CEEB\",     # błękitny\n",
    "  rxcol = \"#9370DB\",     # fioletowy\n",
    "  unit = \"liczba ludności (w milionach)\",\n",
    "  gap = 2,               \n",
    "  top.labels = c(\"Mężczyźni\", \"Wiek\", \"Kobiety\"),\n",
    "  labelcex = 1.0,\n",
    "  ndig = 2,\n",
    "  # xlim = maks  # przeskalowanie zakresu do danych - nawet w dokumentacji nie ma sensownego opisu jak to symetrycznie ustawić\n",
    "    show.values = TRUE\n",
    "\n",
    ")\n",
    "\n",
    "\n",
    "title(main = \"Piramida demograficzna ludności USA – rok 1948\", cex.main = 1.5)\n"
   ]
  },
  {
   "cell_type": "markdown",
   "id": "60f67594-cd0a-4648-b569-8c1e15e34e3d",
   "metadata": {},
   "source": [
    "### Z5 Wnioski\n",
    "Źródło: `USAge.df`, pakiet `latticeExtra`.\n",
    "\n",
    "\n",
    "Zainstalowanie pakietu 'latticeExtra' wymagało niestandardowego podejscia. Być może korzystanie z **anaconda** ułatwiłoby ten proces. Głównym sprawcą błędów być brak kompilatora **fortrana**.\n",
    "\n",
    "\n",
    "\n",
    "Widzimy tutaj specyficzną dysproporcję - szeroka podstawa wykresu. Może być to obraz początku tzw. **baby boom**  będącego niejako naturalną reakcją na powojenną stabilizację społeczną.\n",
    "\n",
    "\n",
    "Wąska grupa 6-11 - skutek WW2\n",
    "\n",
    "\n",
    "Da się również zauważyć większą liczbę kobiet w grupach 65+\n",
    "\n",
    "\n",
    "\n"
   ]
  },
  {
   "cell_type": "markdown",
   "id": "b82e5bbe-5fd6-4437-bbf5-afeb4bfe63c0",
   "metadata": {},
   "source": [
    "## Zadanie 6: Zakład tkalniczy\n",
    "\n",
    "Zakład tkalniczy produkuje tkaninę o nominalnej długości 50 m. Nabywca zmierzył długości i otrzymał dane w formie przedziałów:\n",
    "\n",
    "| Przedział długości (m) | Liczba obserwacji |\n",
    "|------------------------|-------------------|\n",
    "| 45–47                  | 4                 |\n",
    "| 47–49                  | 10                |\n",
    "| 49–51                  | 38                |\n",
    "| 51–53                  | 20                |\n",
    "| 53–55                  | 12                |\n",
    "| 55–57                  | 8                 |\n",
    "\n",
    "\n",
    "Zbadać, czy długość tej tkaniny może być modelowana za pomocą\n",
    "**rozkładu normalnego**. Parametry rozkładu oszacować na podstawie\n",
    "danych.\n",
    "\n",
    "**Hipotezy statystyczne:**\n",
    "\n",
    "- **H₀ (hipoteza zerowa):** Długość tkaniny ma rozkład zgodny z rozkładem normalnym.\n",
    "- **H₁ (hipoteza alternatywna):** Długość tkaniny nie ma rozkładu zgodnego z rozkładem normalnym.\n"
   ]
  },
  {
   "cell_type": "code",
   "execution_count": 179,
   "id": "5cfaf0e6-320a-4617-aeaa-2c517d1cc4e5",
   "metadata": {},
   "outputs": [],
   "source": [
    "# Środki klas\n",
    "srodki <- c(46, 48, 50, 52, 54, 56)"
   ]
  },
  {
   "cell_type": "code",
   "execution_count": 180,
   "id": "7423c942-eca5-4fa4-ad43-4e43bd9d2c16",
   "metadata": {},
   "outputs": [],
   "source": [
    "licznosci <- c(4, 10, 38, 20, 12, 8)"
   ]
  },
  {
   "cell_type": "code",
   "execution_count": 181,
   "id": "950cae74-2119-40b6-9d4b-3cb93ca1588b",
   "metadata": {},
   "outputs": [],
   "source": [
    "n <- sum(licznosci)"
   ]
  },
  {
   "cell_type": "code",
   "execution_count": 182,
   "id": "3c9325fb-a301-4a60-b2bf-fba63a0eac84",
   "metadata": {},
   "outputs": [
    {
     "data": {
      "text/html": [
       "92"
      ],
      "text/latex": [
       "92"
      ],
      "text/markdown": [
       "92"
      ],
      "text/plain": [
       "[1] 92"
      ]
     },
     "metadata": {},
     "output_type": "display_data"
    }
   ],
   "source": [
    "n"
   ]
  },
  {
   "cell_type": "code",
   "execution_count": 183,
   "id": "07e07dc6-074d-4f93-90b2-7da62a3c3194",
   "metadata": {},
   "outputs": [],
   "source": [
    "srednia_hat <- sum(srodki * licznosci) / n # μ̂"
   ]
  },
  {
   "cell_type": "code",
   "execution_count": 184,
   "id": "31b032b7-2ee5-4cfe-946d-3c49f0d14a74",
   "metadata": {},
   "outputs": [
    {
     "data": {
      "text/html": [
       "51.0869565217391"
      ],
      "text/latex": [
       "51.0869565217391"
      ],
      "text/markdown": [
       "51.0869565217391"
      ],
      "text/plain": [
       "[1] 51.08696"
      ]
     },
     "metadata": {},
     "output_type": "display_data"
    }
   ],
   "source": [
    "srednia_hat"
   ]
  },
  {
   "cell_type": "code",
   "execution_count": 185,
   "id": "bfbc110d-8b01-48a9-aad2-c9bed4703a96",
   "metadata": {},
   "outputs": [],
   "source": [
    "# Odchylenie standardowe (σ̂)\n",
    "wariancja_hat <- sum(licznosci * (srodki - srednia_hat)^2) / n\n",
    "odch_stand_hat <- sqrt(wariancja_hat)"
   ]
  },
  {
   "cell_type": "code",
   "execution_count": 186,
   "id": "cf708fe3-a758-459d-bae1-14ad81ac0d15",
   "metadata": {},
   "outputs": [
    {
     "data": {
      "text/html": [
       "2.45681029471072"
      ],
      "text/latex": [
       "2.45681029471072"
      ],
      "text/markdown": [
       "2.45681029471072"
      ],
      "text/plain": [
       "[1] 2.45681"
      ]
     },
     "metadata": {},
     "output_type": "display_data"
    }
   ],
   "source": [
    "odch_stand_hat"
   ]
  },
  {
   "cell_type": "code",
   "execution_count": 187,
   "id": "2bad9f09-9a44-40cb-8d83-e18a40789b23",
   "metadata": {},
   "outputs": [
    {
     "data": {
      "text/html": [
       "6.0359168241966"
      ],
      "text/latex": [
       "6.0359168241966"
      ],
      "text/markdown": [
       "6.0359168241966"
      ],
      "text/plain": [
       "[1] 6.035917"
      ]
     },
     "metadata": {},
     "output_type": "display_data"
    }
   ],
   "source": [
    "wariancja_hat"
   ]
  },
  {
   "cell_type": "code",
   "execution_count": 188,
   "id": "f4e4ad7e-f7c7-41ac-8269-ce76174a7c17",
   "metadata": {},
   "outputs": [
    {
     "data": {
      "text/html": [
       "51.0869565217391"
      ],
      "text/latex": [
       "51.0869565217391"
      ],
      "text/markdown": [
       "51.0869565217391"
      ],
      "text/plain": [
       "[1] 51.08696"
      ]
     },
     "metadata": {},
     "output_type": "display_data"
    }
   ],
   "source": [
    "srednia_hat"
   ]
  },
  {
   "cell_type": "code",
   "execution_count": 189,
   "id": "89933214-b3ae-4de6-8b38-43efc59453f4",
   "metadata": {},
   "outputs": [],
   "source": [
    "# granice przedziałów\n",
    "dolne <- c(45, 47, 49, 51, 53, 55)\n",
    "gorne <- c(47, 49, 51, 53, 55, 57)"
   ]
  },
  {
   "cell_type": "code",
   "execution_count": 190,
   "id": "dec62ef7-f54d-4eec-aecf-21c243fc9e00",
   "metadata": {},
   "outputs": [],
   "source": [
    "# Teoretyczne prawdopodobieństwa dla każdego przedziału\n",
    "proby <- pnorm(gorne, mean = srednia_hat, sd = odch_stand_hat) -\n",
    "         pnorm(dolne, mean = srednia_hat, sd = odch_stand_hat)"
   ]
  },
  {
   "cell_type": "code",
   "execution_count": 191,
   "id": "0a03c1ee-4051-443e-a116-8c6653c4ecfa",
   "metadata": {},
   "outputs": [
    {
     "data": {
      "text/html": [
       "<style>\n",
       ".list-inline {list-style: none; margin:0; padding: 0}\n",
       ".list-inline>li {display: inline-block}\n",
       ".list-inline>li:not(:last-child)::after {content: \"\\00b7\"; padding: 0 .5ex}\n",
       "</style>\n",
       "<ol class=list-inline><li>0.0414903110812614</li><li>0.149709263254968</li><li>0.288069437787548</li><li>0.296030058952559</li><li>0.162477164423549</li><li>0.0475634632458484</li></ol>\n"
      ],
      "text/latex": [
       "\\begin{enumerate*}\n",
       "\\item 0.0414903110812614\n",
       "\\item 0.149709263254968\n",
       "\\item 0.288069437787548\n",
       "\\item 0.296030058952559\n",
       "\\item 0.162477164423549\n",
       "\\item 0.0475634632458484\n",
       "\\end{enumerate*}\n"
      ],
      "text/markdown": [
       "1. 0.0414903110812614\n",
       "2. 0.149709263254968\n",
       "3. 0.288069437787548\n",
       "4. 0.296030058952559\n",
       "5. 0.162477164423549\n",
       "6. 0.0475634632458484\n",
       "\n",
       "\n"
      ],
      "text/plain": [
       "[1] 0.04149031 0.14970926 0.28806944 0.29603006 0.16247716 0.04756346"
      ]
     },
     "metadata": {},
     "output_type": "display_data"
    }
   ],
   "source": [
    "proby"
   ]
  },
  {
   "cell_type": "code",
   "execution_count": 192,
   "id": "e5a976d8-3d57-41a2-920e-e4b3515a6cb9",
   "metadata": {},
   "outputs": [],
   "source": [
    "# Oczekiwane liczności\n",
    "oczekiwane <- proby * n"
   ]
  },
  {
   "cell_type": "code",
   "execution_count": 194,
   "id": "c0691990-133c-4e35-8fbf-a3d59576bb5e",
   "metadata": {},
   "outputs": [],
   "source": [
    "tabela <- data.frame(\n",
    "  Przedzial = paste(dolne, gorne, sep = \"-\"),\n",
    "  Prawdopodobienstwo = proby,\n",
    "  Oczekiwane = oczekiwane\n",
    ")"
   ]
  },
  {
   "cell_type": "code",
   "execution_count": 208,
   "id": "4dd507e0-3837-443e-b0fd-fdbd4638cc8b",
   "metadata": {},
   "outputs": [],
   "source": [
    "tabela$Obserwowane <- licznosci"
   ]
  },
  {
   "cell_type": "code",
   "execution_count": 205,
   "id": "cd1f6015-cd0f-4be8-b819-f2c3d87201ea",
   "metadata": {},
   "outputs": [
    {
     "name": "stderr",
     "output_type": "stream",
     "text": [
      "Installing package into ‘/home/kotmin/R/x86_64-pc-linux-gnu-library/4.5’\n",
      "(as ‘lib’ is unspecified)\n",
      "\n",
      "also installing the dependencies ‘lazyeval’, ‘generics’, ‘rex’, ‘httr’, ‘dplyr’, ‘covr’, ‘data.table’, ‘repurrrsive’\n",
      "\n",
      "\n"
     ]
    }
   ],
   "source": [
    "install.packages(\"tidyr\", dependencies = TRUE)"
   ]
  },
  {
   "cell_type": "code",
   "execution_count": 209,
   "id": "b015b901-2c44-4022-bd2f-f6aab039d954",
   "metadata": {},
   "outputs": [],
   "source": [
    "library(ggplot2)\n",
    "library(tidyr)"
   ]
  },
  {
   "cell_type": "code",
   "execution_count": 210,
   "id": "28f7b129-f553-41c2-80ed-b1fb304b1dd3",
   "metadata": {},
   "outputs": [],
   "source": [
    "# Z długiego formatu do wykresu\n",
    "tabela_long <- pivot_longer(\n",
    "  tabela,\n",
    "  cols = c(\"Obserwowane\", \"Oczekiwane\"),\n",
    "  names_to = \"Typ\",\n",
    "  values_to = \"Liczba\"\n",
    ")\n"
   ]
  },
  {
   "cell_type": "code",
   "execution_count": 211,
   "id": "598d6466-b403-4b2e-8b9f-c511f2e82a3a",
   "metadata": {},
   "outputs": [
    {
     "data": {
      "image/png": "[encoded data removed]",
      "text/plain": [
       "plot without title"
      ]
     },
     "metadata": {
      "image/png": {
       "height": 420,
       "width": 420
      }
     },
     "output_type": "display_data"
    }
   ],
   "source": [
    "ggplot(tabela_long, aes(x = Przedzial, y = Liczba, fill = Typ)) +\n",
    "  geom_bar(stat = \"identity\", position = position_dodge(width = 0.7)) +\n",
    "  scale_fill_manual(values = c(\"Obserwowane\" = \"skyblue\", \"Oczekiwane\" = \"orange\")) +\n",
    "  labs(\n",
    "    title = \"Rozkład długości tkanin: obserwowane vs teoretyczne\",\n",
    "    x = \"Przedział długości [m]\",\n",
    "    y = \"Liczba tkanin\",\n",
    "    fill = \"Typ\"\n",
    "  ) +\n",
    "  theme_minimal()\n"
   ]
  },
  {
   "cell_type": "code",
   "execution_count": 215,
   "id": "861d463a-34cb-4d45-bf22-4c1a561e70f3",
   "metadata": {},
   "outputs": [],
   "source": [
    "# spróbujmy jeszcze dodać poglądowo krzywą rozkładu normalnego\n",
    "# Gęstość z rozkładu normalnego przeskalowana do sumy tkanin\n",
    "gestosc_df <- data.frame(\n",
    "  Przedzial = tabela$Przedzial,\n",
    "  x = srodki,\n",
    "  y = dnorm(srodki, mean = srednia_hat, sd = odch_stand_hat) * sum(licznosci) * 2  # 2 = szerokość klasy\n",
    ")"
   ]
  },
  {
   "cell_type": "code",
   "execution_count": 221,
   "id": "43d037bc-6bb2-4b39-868a-d22d146ca1be",
   "metadata": {},
   "outputs": [
    {
     "data": {
      "image/png": "[encoded data removed]",
      "text/plain": [
       "plot without title"
      ]
     },
     "metadata": {
      "image/png": {
       "height": 420,
       "width": 420
      }
     },
     "output_type": "display_data"
    }
   ],
   "source": [
    "# Dane z etykietami\n",
    "df_obs <- data.frame(x = srodki, y = licznosci, grupa = \"Obserwowane\", Przedzial = tabela$Przedzial)\n",
    "df_exp <- data.frame(x = srodki, y = oczekiwane, grupa = \"Oczekiwane\", Przedzial = tabela$Przedzial)\n",
    "df_norm <- data.frame(x = x_gestosc, y = y_gestosc, grupa = \"Rozkład normalny\")\n",
    "\n",
    "# słupki razem\n",
    "df_bars <- rbind(df_obs, df_exp)\n",
    "\n",
    "\n",
    "ggplot() +\n",
    "  geom_col(data = df_bars, aes(x = x, y = y, fill = grupa), width = 1.8, position = position_dodge(width = 1.8), alpha = 0.8) +\n",
    "  geom_line(data = df_norm, aes(x = x, y = y, color = grupa), size = 1.2) +\n",
    "  scale_fill_manual(\n",
    "    values = c(\"Obserwowane\" = \"skyblue\", \"Oczekiwane\" = \"orange\"),\n",
    "    guide = guide_legend(order = 1)\n",
    "  ) +\n",
    "  scale_color_manual(\n",
    "    values = c(\"Rozkład normalny\" = \"red\"),\n",
    "    guide = guide_legend(order = 2)\n",
    "  ) +\n",
    "  scale_x_continuous(\n",
    "    name = \"Przedział długości [m]\",\n",
    "    breaks = srodki,\n",
    "    labels = tabela$Przedzial\n",
    "  ) +\n",
    "  labs(\n",
    "    title = \"Rozkład długości tkanin: obserwowane vs model normalny\",\n",
    "    y = \"Liczba tkanin\",\n",
    "    fill = \"Typ danych\",\n",
    "    color = \"Krzywa modelu\"\n",
    "  ) +\n",
    "  theme_minimal()\n"
   ]
  },
  {
   "cell_type": "code",
   "execution_count": 195,
   "id": "583b595c-e2d0-477f-bdce-e84aa83af368",
   "metadata": {},
   "outputs": [],
   "source": [
    "# Zaokrąglenie tylko kolumn numerycznych\n",
    "tabela$Prawdopodobienstwo <- round(tabela$Prawdopodobienstwo, 4)\n",
    "tabela$Oczekiwane <- round(tabela$Oczekiwane, 2)"
   ]
  },
  {
   "cell_type": "code",
   "execution_count": 196,
   "id": "b190df7e-4be3-4af4-9e12-9c1c475236b2",
   "metadata": {},
   "outputs": [
    {
     "data": {
      "text/html": [
       "<table class=\"dataframe\">\n",
       "<caption>A data.frame: 6 × 3</caption>\n",
       "<thead>\n",
       "\t<tr><th scope=col>Przedzial</th><th scope=col>Prawdopodobienstwo</th><th scope=col>Oczekiwane</th></tr>\n",
       "\t<tr><th scope=col>&lt;chr&gt;</th><th scope=col>&lt;dbl&gt;</th><th scope=col>&lt;dbl&gt;</th></tr>\n",
       "</thead>\n",
       "<tbody>\n",
       "\t<tr><td>45-47</td><td>0.0415</td><td> 3.82</td></tr>\n",
       "\t<tr><td>47-49</td><td>0.1497</td><td>13.77</td></tr>\n",
       "\t<tr><td>49-51</td><td>0.2881</td><td>26.50</td></tr>\n",
       "\t<tr><td>51-53</td><td>0.2960</td><td>27.23</td></tr>\n",
       "\t<tr><td>53-55</td><td>0.1625</td><td>14.95</td></tr>\n",
       "\t<tr><td>55-57</td><td>0.0476</td><td> 4.38</td></tr>\n",
       "</tbody>\n",
       "</table>\n"
      ],
      "text/latex": [
       "A data.frame: 6 × 3\n",
       "\\begin{tabular}{lll}\n",
       " Przedzial & Prawdopodobienstwo & Oczekiwane\\\\\n",
       " <chr> & <dbl> & <dbl>\\\\\n",
       "\\hline\n",
       "\t 45-47 & 0.0415 &  3.82\\\\\n",
       "\t 47-49 & 0.1497 & 13.77\\\\\n",
       "\t 49-51 & 0.2881 & 26.50\\\\\n",
       "\t 51-53 & 0.2960 & 27.23\\\\\n",
       "\t 53-55 & 0.1625 & 14.95\\\\\n",
       "\t 55-57 & 0.0476 &  4.38\\\\\n",
       "\\end{tabular}\n"
      ],
      "text/markdown": [
       "\n",
       "A data.frame: 6 × 3\n",
       "\n",
       "| Przedzial &lt;chr&gt; | Prawdopodobienstwo &lt;dbl&gt; | Oczekiwane &lt;dbl&gt; |\n",
       "|---|---|---|\n",
       "| 45-47 | 0.0415 |  3.82 |\n",
       "| 47-49 | 0.1497 | 13.77 |\n",
       "| 49-51 | 0.2881 | 26.50 |\n",
       "| 51-53 | 0.2960 | 27.23 |\n",
       "| 53-55 | 0.1625 | 14.95 |\n",
       "| 55-57 | 0.0476 |  4.38 |\n",
       "\n"
      ],
      "text/plain": [
       "  Przedzial Prawdopodobienstwo Oczekiwane\n",
       "1 45-47     0.0415              3.82     \n",
       "2 47-49     0.1497             13.77     \n",
       "3 49-51     0.2881             26.50     \n",
       "4 51-53     0.2960             27.23     \n",
       "5 53-55     0.1625             14.95     \n",
       "6 55-57     0.0476              4.38     "
      ]
     },
     "metadata": {},
     "output_type": "display_data"
    }
   ],
   "source": [
    "tabela"
   ]
  },
  {
   "cell_type": "code",
   "execution_count": 197,
   "id": "b633de85-215f-4aeb-868e-4b6ccd6b26f4",
   "metadata": {},
   "outputs": [
    {
     "data": {
      "text/html": [
       "0.9854"
      ],
      "text/latex": [
       "0.9854"
      ],
      "text/markdown": [
       "0.9854"
      ],
      "text/plain": [
       "[1] 0.9854"
      ]
     },
     "metadata": {},
     "output_type": "display_data"
    }
   ],
   "source": [
    "sum(tabela$Prawdopodobienstwo)"
   ]
  },
  {
   "cell_type": "code",
   "execution_count": 199,
   "id": "ee0cb6ee-be50-4f80-86c7-b958eed6a510",
   "metadata": {},
   "outputs": [],
   "source": [
    "# zakładamy że to błąd przybliżenia ~98% jest akceptowalne"
   ]
  },
  {
   "cell_type": "code",
   "execution_count": 200,
   "id": "6e5101bd-a504-41cf-9f71-b83aee999e8c",
   "metadata": {},
   "outputs": [
    {
     "data": {
      "text/html": [
       "0"
      ],
      "text/latex": [
       "0"
      ],
      "text/markdown": [
       "0"
      ],
      "text/plain": [
       "[1] 0"
      ]
     },
     "metadata": {},
     "output_type": "display_data"
    },
    {
     "data": {
      "text/html": [
       "33.3333333333333"
      ],
      "text/latex": [
       "33.3333333333333"
      ],
      "text/markdown": [
       "33.3333333333333"
      ],
      "text/plain": [
       "[1] 33.33333"
      ]
     },
     "metadata": {},
     "output_type": "display_data"
    }
   ],
   "source": [
    "# chi-sqrt\n",
    "\n",
    "## warunki\n",
    "sum(tabela$Oczekiwane < 1)\n",
    "mean(tabela$Oczekiwane < 5) * 100"
   ]
  },
  {
   "cell_type": "code",
   "execution_count": 201,
   "id": "661c9abc-58b8-41f4-96a3-5d099f387b08",
   "metadata": {},
   "outputs": [
    {
     "name": "stderr",
     "output_type": "stream",
     "text": [
      "Warning message in chisq.test(x = oczekiwane, p = tabela$Oczekiwane/sum(tabela$Oczekiwane), :\n",
      "“Chi-squared approximation may be incorrect”\n"
     ]
    },
    {
     "data": {
      "text/plain": [
       "\n",
       "\tChi-squared test for given probabilities\n",
       "\n",
       "data:  oczekiwane\n",
       "X-squared = 8.2373e-06, df = 5, p-value = 1\n"
      ]
     },
     "metadata": {},
     "output_type": "display_data"
    }
   ],
   "source": [
    "## przy chsqrt Pearsona możemy mieć problem z licznościami (>25% klas)\n",
    "# pomimo tego zobaczmy co nam pokaże\n",
    "test_chi <- chisq.test(x = oczekiwane, p = tabela$Oczekiwane / sum(tabela$Oczekiwane), rescale.p = TRUE)\n",
    "test_chi\n"
   ]
  },
  {
   "cell_type": "code",
   "execution_count": 203,
   "id": "ace9357c-71dc-440b-b5bf-138e615e7a87",
   "metadata": {},
   "outputs": [
    {
     "name": "stderr",
     "output_type": "stream",
     "text": [
      "Warning message in matrix(sample.int(nx, B * n, TRUE, prob = p), nrow = n):\n",
      "“data length [906512] is not a sub-multiple or multiple of the number of rows [90]”\n"
     ]
    },
    {
     "data": {
      "text/plain": [
       "\n",
       "\tChi-squared test for given probabilities with simulated p-value (based\n",
       "\ton 10000 replicates)\n",
       "\n",
       "data:  oczekiwane\n",
       "X-squared = 8.2373e-06, df = NA, p-value = 1.007\n"
      ]
     },
     "metadata": {},
     "output_type": "display_data"
    }
   ],
   "source": [
    "# alt z MonteCarlo?\n",
    "chisq.test(oczekiwane, p = tabela$Oczekiwane / sum(tabela$Oczekiwane),\n",
    "           rescale.p = TRUE, simulate.p.value = TRUE, B = 10000)\n"
   ]
  },
  {
   "cell_type": "code",
   "execution_count": null,
   "id": "f3005d4c-26cc-4b87-ae7e-5056df8ccb4f",
   "metadata": {},
   "outputs": [],
   "source": [
    "# nie mamy podstaw do odrzucenia h0"
   ]
  },
  {
   "cell_type": "code",
   "execution_count": 222,
   "id": "a76cd4c2-8969-4d2f-9c5a-20b3e147faf9",
   "metadata": {},
   "outputs": [],
   "source": [
    "# łączenie klas (pierwszych i ostatnich)\n",
    "nowe_przedzialy <- c(\"45–49\", \"49–51\", \"51–53\", \"53–57\")\n",
    "licznosci_polaczone <- c(4 + 10, 38, 20, 12 + 8)\n",
    "oczekiwane_polaczone <- c(3.82 + 13.77, 26.50, 27.23, 14.95 + 4.38)"
   ]
  },
  {
   "cell_type": "code",
   "execution_count": 223,
   "id": "676955a1-283d-4f8a-ae31-2c1ef1e83677",
   "metadata": {},
   "outputs": [
    {
     "data": {
      "text/html": [
       "0"
      ],
      "text/latex": [
       "0"
      ],
      "text/markdown": [
       "0"
      ],
      "text/plain": [
       "[1] 0"
      ]
     },
     "metadata": {},
     "output_type": "display_data"
    },
    {
     "data": {
      "text/html": [
       "0"
      ],
      "text/latex": [
       "0"
      ],
      "text/markdown": [
       "0"
      ],
      "text/plain": [
       "[1] 0"
      ]
     },
     "metadata": {},
     "output_type": "display_data"
    }
   ],
   "source": [
    "# sprawdzenie warunków dla chi-kwadrat z nowymi przedziałami\n",
    "sum(oczekiwane_polaczone < 1)\n",
    "mean(oczekiwane_polaczone < 5) * 100"
   ]
  },
  {
   "cell_type": "code",
   "execution_count": 224,
   "id": "2f6ae98e-c41a-4ac8-9f7b-6d75e84f5df0",
   "metadata": {},
   "outputs": [],
   "source": [
    "test_chikwadrat_polaczony <- chisq.test(\n",
    "  x = licznosci_polaczone,\n",
    "  p = oczekiwane_polaczone / sum(oczekiwane_polaczone),\n",
    "  rescale.p = TRUE\n",
    ")"
   ]
  },
  {
   "cell_type": "code",
   "execution_count": 225,
   "id": "5faab4d1-c93b-4bce-97d4-fa01bb920ad1",
   "metadata": {},
   "outputs": [
    {
     "data": {
      "text/plain": [
       "\n",
       "\tChi-squared test for given probabilities\n",
       "\n",
       "data:  licznosci_polaczone\n",
       "X-squared = 7.5339, df = 3, p-value = 0.05669\n"
      ]
     },
     "metadata": {},
     "output_type": "display_data"
    }
   ],
   "source": [
    "test_chikwadrat_polaczony"
   ]
  },
  {
   "cell_type": "code",
   "execution_count": 226,
   "id": "226dbb64-c421-489c-812d-a72950d9efdd",
   "metadata": {},
   "outputs": [],
   "source": [
    "# technicznie rzecz biorąc brakuje podstaw do odrzucenia hipotezy zerowej"
   ]
  },
  {
   "cell_type": "markdown",
   "id": "c5643e06-1636-4926-b2e5-4827d90c0873",
   "metadata": {},
   "source": [
    "### Z6 Wnioski\n",
    "\n",
    "**ipotezy statystyczne:**\n",
    "\n",
    "\n",
    "- **H₀ (hipoteza zerowa):** długość tkanin jest zgodna z rozkładem normalnym,\n",
    "\n",
    "- **H₁ (hipoteza alternatywna):** długość tkanin nie jest zgodna z rozkładem normalnym.\n",
    "\n",
    "\n",
    "Nie mniej porównując wizualnie rozkłady teoretyczne z empirycznymi oraz krzywą normalną możemy zauważyć, że liczność przedziału 49-51 mogła by być głównym powodem **braku podstaw do odrzucenia h0**\n",
    "\n",
    "Wartości testu chi-kwadrat Pearsona dla połączonych klasy przyjęły p-value bardzo bliskie progu odrzucenia.\n",
    "\n",
    "Na poziomie istotności **α = 0.05** brak podstaw do odrzucenia hipotezy H₀.  \n",
    "Rozkład długości tkanin można uznać za **zgodny z rozkładem normalnym**.  Przy obecnym stopniu agregacji danych\n",
    "\n",
    "Po połączeniu klas dla spełnienia warunków testu, brak podstaw do odrzucenia hipotezy o zgodności z rozkładem normalnym. Wynik sugeruje, że model normalny może być użytecznym przybliżeniem dla długości tkaniny — przy założeniu umiarkowanego poziomu szczegółowości\n",
    "\n",
    "\n"
   ]
  }
 ],
 "metadata": {
  "kernelspec": {
   "display_name": "R",
   "language": "R",
   "name": "ir"
  },
  "language_info": {
   "codemirror_mode": "r",
   "file_extension": ".r",
   "mimetype": "text/x-r-source",
   "name": "R",
   "pygments_lexer": "r",
   "version": "4.5.0"
  }
 },
 "nbformat": 4,
 "nbformat_minor": 5
}
